{
  "cells": [
    {
      "cell_type": "markdown",
      "metadata": {
        "id": "view-in-github",
        "colab_type": "text"
      },
      "source": [
        "<a href=\"https://colab.research.google.com/github/scaairesearch/da_cv_fer/blob/main/evaluate_fer_sai_raw_v2.ipynb\" target=\"_parent\"><img src=\"https://colab.research.google.com/assets/colab-badge.svg\" alt=\"Open In Colab\"/></a>"
      ]
    },
    {
      "cell_type": "markdown",
      "metadata": {
        "id": "F4KRKkBGHEHP"
      },
      "source": [
        "### Task evaluation"
      ]
    },
    {
      "cell_type": "markdown",
      "metadata": {
        "id": "uN9ZDVyeHEHe"
      },
      "source": [
        "#### Loading Models\n",
        "Please note the models output `task,domain,feature`"
      ]
    },
    {
      "cell_type": "code",
      "execution_count": 1,
      "metadata": {
        "scrolled": true,
        "id": "kXHE3ITNHEHf"
      },
      "outputs": [],
      "source": [
        "# ! pip install pandas"
      ]
    },
    {
      "cell_type": "code",
      "execution_count": 2,
      "metadata": {
        "id": "vM7sfKtMHEHh"
      },
      "outputs": [],
      "source": [
        "# ! pip install opendatasets"
      ]
    },
    {
      "cell_type": "code",
      "source": [
        "!git clone https://github.com/scaairesearch/da_cv_fer.git\n",
        "import os\n",
        "os.getcwd()\n",
        "os.chdir('da_cv_fer')"
      ],
      "metadata": {
        "colab": {
          "base_uri": "https://localhost:8080/"
        },
        "id": "nhdpfmX6D0a7",
        "outputId": "e389727a-94b2-4d3a-ed92-17097d754e89"
      },
      "execution_count": 3,
      "outputs": [
        {
          "output_type": "stream",
          "name": "stdout",
          "text": [
            "Cloning into 'da_cv_fer'...\n",
            "remote: Enumerating objects: 242, done.\u001b[K\n",
            "remote: Counting objects: 100% (33/33), done.\u001b[K\n",
            "remote: Compressing objects: 100% (33/33), done.\u001b[K\n",
            "remote: Total 242 (delta 14), reused 0 (delta 0), pack-reused 209\u001b[K\n",
            "Receiving objects: 100% (242/242), 11.77 MiB | 24.35 MiB/s, done.\n",
            "Resolving deltas: 100% (128/128), done.\n"
          ]
        }
      ]
    },
    {
      "cell_type": "code",
      "source": [
        "!pip install -q -r requirements.txt # -q is for quiet install\n",
        "!pip install -q opendatasets # quient install, for some reason this does not get installed with requirements"
      ],
      "metadata": {
        "colab": {
          "base_uri": "https://localhost:8080/"
        },
        "id": "Ua6CoLoRD3hS",
        "outputId": "cd7b73fe-0b29-4357-97dd-b0bff0dc2165"
      },
      "execution_count": 4,
      "outputs": [
        {
          "output_type": "stream",
          "name": "stdout",
          "text": [
            "\u001b[2K     \u001b[90m━━━━━━━━━━━━━━━━━━━━━━━━━━━━━━━━━━━━━━━━\u001b[0m \u001b[32m133.7/133.7 kB\u001b[0m \u001b[31m1.3 MB/s\u001b[0m eta \u001b[36m0:00:00\u001b[0m\n",
            "\u001b[2K     \u001b[90m━━━━━━━━━━━━━━━━━━━━━━━━━━━━━━━━━━━━━━━━\u001b[0m \u001b[32m1.0/1.0 MB\u001b[0m \u001b[31m9.1 MB/s\u001b[0m eta \u001b[36m0:00:00\u001b[0m\n",
            "\u001b[2K     \u001b[90m━━━━━━━━━━━━━━━━━━━━━━━━━━━━━━━━━━━━━━━━\u001b[0m \u001b[32m61.2/61.2 kB\u001b[0m \u001b[31m2.7 MB/s\u001b[0m eta \u001b[36m0:00:00\u001b[0m\n",
            "\u001b[2K     \u001b[90m━━━━━━━━━━━━━━━━━━━━━━━━━━━━━━━━━━━━━━━━\u001b[0m \u001b[32m143.0/143.0 kB\u001b[0m \u001b[31m14.3 MB/s\u001b[0m eta \u001b[36m0:00:00\u001b[0m\n",
            "\u001b[2K     \u001b[90m━━━━━━━━━━━━━━━━━━━━━━━━━━━━━━━━━━━━━━━━\u001b[0m \u001b[32m158.3/158.3 kB\u001b[0m \u001b[31m11.7 MB/s\u001b[0m eta \u001b[36m0:00:00\u001b[0m\n",
            "\u001b[2K     \u001b[90m━━━━━━━━━━━━━━━━━━━━━━━━━━━━━━━━━━━━━━━━\u001b[0m \u001b[32m138.7/138.7 kB\u001b[0m \u001b[31m12.7 MB/s\u001b[0m eta \u001b[36m0:00:00\u001b[0m\n",
            "\u001b[2K     \u001b[90m━━━━━━━━━━━━━━━━━━━━━━━━━━━━━━━━━━━━━━━━\u001b[0m \u001b[32m301.7/301.7 kB\u001b[0m \u001b[31m24.9 MB/s\u001b[0m eta \u001b[36m0:00:00\u001b[0m\n",
            "\u001b[2K     \u001b[90m━━━━━━━━━━━━━━━━━━━━━━━━━━━━━━━━━━━━━━━━\u001b[0m \u001b[32m3.3/3.3 MB\u001b[0m \u001b[31m32.1 MB/s\u001b[0m eta \u001b[36m0:00:00\u001b[0m\n",
            "\u001b[2K     \u001b[90m━━━━━━━━━━━━━━━━━━━━━━━━━━━━━━━━━━━━━━━━\u001b[0m \u001b[32m1.9/1.9 MB\u001b[0m \u001b[31m57.7 MB/s\u001b[0m eta \u001b[36m0:00:00\u001b[0m\n",
            "\u001b[2K     \u001b[90m━━━━━━━━━━━━━━━━━━━━━━━━━━━━━━━━━━━━━━━━\u001b[0m \u001b[32m4.5/4.5 MB\u001b[0m \u001b[31m44.7 MB/s\u001b[0m eta \u001b[36m0:00:00\u001b[0m\n",
            "\u001b[2K     \u001b[90m━━━━━━━━━━━━━━━━━━━━━━━━━━━━━━━━━━━━━━━━\u001b[0m \u001b[32m225.7/225.7 kB\u001b[0m \u001b[31m19.8 MB/s\u001b[0m eta \u001b[36m0:00:00\u001b[0m\n",
            "\u001b[2K     \u001b[90m━━━━━━━━━━━━━━━━━━━━━━━━━━━━━━━━━━━━━━━━\u001b[0m \u001b[32m173.4/173.4 kB\u001b[0m \u001b[31m17.9 MB/s\u001b[0m eta \u001b[36m0:00:00\u001b[0m\n",
            "\u001b[2K     \u001b[90m━━━━━━━━━━━━━━━━━━━━━━━━━━━━━━━━━━━━━━━━\u001b[0m \u001b[32m45.3/45.3 kB\u001b[0m \u001b[31m4.3 MB/s\u001b[0m eta \u001b[36m0:00:00\u001b[0m\n",
            "\u001b[2K     \u001b[90m━━━━━━━━━━━━━━━━━━━━━━━━━━━━━━━━━━━━━━━━\u001b[0m \u001b[32m4.8/4.8 MB\u001b[0m \u001b[31m41.1 MB/s\u001b[0m eta \u001b[36m0:00:00\u001b[0m\n",
            "\u001b[2K     \u001b[90m━━━━━━━━━━━━━━━━━━━━━━━━━━━━━━━━━━━━━━━━\u001b[0m \u001b[32m61.5/61.5 kB\u001b[0m \u001b[31m6.6 MB/s\u001b[0m eta \u001b[36m0:00:00\u001b[0m\n",
            "\u001b[2K     \u001b[90m━━━━━━━━━━━━━━━━━━━━━━━━━━━━━━━━━━━━━━━━\u001b[0m \u001b[32m313.3/313.3 kB\u001b[0m \u001b[31m25.8 MB/s\u001b[0m eta \u001b[36m0:00:00\u001b[0m\n",
            "\u001b[2K     \u001b[90m━━━━━━━━━━━━━━━━━━━━━━━━━━━━━━━━━━━━━━━━\u001b[0m \u001b[32m154.2/154.2 kB\u001b[0m \u001b[31m12.4 MB/s\u001b[0m eta \u001b[36m0:00:00\u001b[0m\n",
            "\u001b[2K     \u001b[90m━━━━━━━━━━━━━━━━━━━━━━━━━━━━━━━━━━━━━━━━\u001b[0m \u001b[32m807.0/807.0 kB\u001b[0m \u001b[31m42.0 MB/s\u001b[0m eta \u001b[36m0:00:00\u001b[0m\n",
            "\u001b[2K     \u001b[90m━━━━━━━━━━━━━━━━━━━━━━━━━━━━━━━━━━━━━━━━\u001b[0m \u001b[32m1.6/1.6 MB\u001b[0m \u001b[31m66.7 MB/s\u001b[0m eta \u001b[36m0:00:00\u001b[0m\n",
            "\u001b[2K     \u001b[90m━━━━━━━━━━━━━━━━━━━━━━━━━━━━━━━━━━━━━━━━\u001b[0m \u001b[32m133.1/133.1 kB\u001b[0m \u001b[31m17.4 MB/s\u001b[0m eta \u001b[36m0:00:00\u001b[0m\n",
            "\u001b[2K     \u001b[90m━━━━━━━━━━━━━━━━━━━━━━━━━━━━━━━━━━━━━━━━\u001b[0m \u001b[32m104.0/104.0 kB\u001b[0m \u001b[31m10.4 MB/s\u001b[0m eta \u001b[36m0:00:00\u001b[0m\n",
            "\u001b[2K     \u001b[90m━━━━━━━━━━━━━━━━━━━━━━━━━━━━━━━━━━━━━━━━\u001b[0m \u001b[32m1.0/1.0 MB\u001b[0m \u001b[31m22.7 MB/s\u001b[0m eta \u001b[36m0:00:00\u001b[0m\n",
            "\u001b[2K     \u001b[90m━━━━━━━━━━━━━━━━━━━━━━━━━━━━━━━━━━━━━━━━\u001b[0m \u001b[32m11.6/11.6 MB\u001b[0m \u001b[31m52.9 MB/s\u001b[0m eta \u001b[36m0:00:00\u001b[0m\n",
            "\u001b[2K     \u001b[90m━━━━━━━━━━━━━━━━━━━━━━━━━━━━━━━━━━━━━━━━\u001b[0m \u001b[32m2.1/2.1 MB\u001b[0m \u001b[31m78.9 MB/s\u001b[0m eta \u001b[36m0:00:00\u001b[0m\n",
            "\u001b[2K     \u001b[90m━━━━━━━━━━━━━━━━━━━━━━━━━━━━━━━━━━━━━━━━\u001b[0m \u001b[32m18.2/18.2 MB\u001b[0m \u001b[31m40.8 MB/s\u001b[0m eta \u001b[36m0:00:00\u001b[0m\n",
            "\u001b[2K     \u001b[90m━━━━━━━━━━━━━━━━━━━━━━━━━━━━━━━━━━━━━━━━\u001b[0m \u001b[32m62.2/62.2 MB\u001b[0m \u001b[31m8.7 MB/s\u001b[0m eta \u001b[36m0:00:00\u001b[0m\n",
            "\u001b[2K     \u001b[90m━━━━━━━━━━━━━━━━━━━━━━━━━━━━━━━━━━━━━━━━\u001b[0m \u001b[32m12.3/12.3 MB\u001b[0m \u001b[31m58.0 MB/s\u001b[0m eta \u001b[36m0:00:00\u001b[0m\n",
            "\u001b[2K     \u001b[90m━━━━━━━━━━━━━━━━━━━━━━━━━━━━━━━━━━━━━━━━\u001b[0m \u001b[32m3.6/3.6 MB\u001b[0m \u001b[31m60.5 MB/s\u001b[0m eta \u001b[36m0:00:00\u001b[0m\n",
            "\u001b[2K     \u001b[90m━━━━━━━━━━━━━━━━━━━━━━━━━━━━━━━━━━━━━━━━\u001b[0m \u001b[32m385.2/385.2 kB\u001b[0m \u001b[31m43.2 MB/s\u001b[0m eta \u001b[36m0:00:00\u001b[0m\n",
            "\u001b[2K     \u001b[90m━━━━━━━━━━━━━━━━━━━━━━━━━━━━━━━━━━━━━━━━\u001b[0m \u001b[32m283.6/283.6 kB\u001b[0m \u001b[31m30.3 MB/s\u001b[0m eta \u001b[36m0:00:00\u001b[0m\n",
            "\u001b[2K     \u001b[90m━━━━━━━━━━━━━━━━━━━━━━━━━━━━━━━━━━━━━━━━\u001b[0m \u001b[32m502.5/502.5 kB\u001b[0m \u001b[31m40.9 MB/s\u001b[0m eta \u001b[36m0:00:00\u001b[0m\n",
            "\u001b[?25h\u001b[31mERROR: Could not find a version that satisfies the requirement pywin32==306 (from versions: none)\u001b[0m\u001b[31m\n",
            "\u001b[0m\u001b[31mERROR: No matching distribution found for pywin32==306\u001b[0m\u001b[31m\n",
            "\u001b[0m"
          ]
        }
      ]
    },
    {
      "cell_type": "code",
      "source": [
        "!pip install facenet_pytorch"
      ],
      "metadata": {
        "colab": {
          "base_uri": "https://localhost:8080/"
        },
        "id": "Ueav4z4a_u55",
        "outputId": "7e0967c3-781d-48d7-8090-46d4dfd56e26"
      },
      "execution_count": 5,
      "outputs": [
        {
          "output_type": "stream",
          "name": "stdout",
          "text": [
            "Collecting facenet_pytorch\n",
            "  Using cached facenet_pytorch-2.5.3-py3-none-any.whl (1.9 MB)\n",
            "Requirement already satisfied: numpy in /usr/local/lib/python3.10/dist-packages (from facenet_pytorch) (1.23.5)\n",
            "Requirement already satisfied: requests in /usr/local/lib/python3.10/dist-packages (from facenet_pytorch) (2.31.0)\n",
            "Requirement already satisfied: torchvision in /usr/local/lib/python3.10/dist-packages (from facenet_pytorch) (0.16.0+cu121)\n",
            "Requirement already satisfied: pillow in /usr/local/lib/python3.10/dist-packages (from facenet_pytorch) (9.4.0)\n",
            "Requirement already satisfied: charset-normalizer<4,>=2 in /usr/local/lib/python3.10/dist-packages (from requests->facenet_pytorch) (3.3.2)\n",
            "Requirement already satisfied: idna<4,>=2.5 in /usr/local/lib/python3.10/dist-packages (from requests->facenet_pytorch) (3.6)\n",
            "Requirement already satisfied: urllib3<3,>=1.21.1 in /usr/local/lib/python3.10/dist-packages (from requests->facenet_pytorch) (2.0.7)\n",
            "Requirement already satisfied: certifi>=2017.4.17 in /usr/local/lib/python3.10/dist-packages (from requests->facenet_pytorch) (2023.11.17)\n",
            "Requirement already satisfied: torch==2.1.0 in /usr/local/lib/python3.10/dist-packages (from torchvision->facenet_pytorch) (2.1.0+cu121)\n",
            "Requirement already satisfied: filelock in /usr/local/lib/python3.10/dist-packages (from torch==2.1.0->torchvision->facenet_pytorch) (3.13.1)\n",
            "Requirement already satisfied: typing-extensions in /usr/local/lib/python3.10/dist-packages (from torch==2.1.0->torchvision->facenet_pytorch) (4.5.0)\n",
            "Requirement already satisfied: sympy in /usr/local/lib/python3.10/dist-packages (from torch==2.1.0->torchvision->facenet_pytorch) (1.12)\n",
            "Requirement already satisfied: networkx in /usr/local/lib/python3.10/dist-packages (from torch==2.1.0->torchvision->facenet_pytorch) (3.2.1)\n",
            "Requirement already satisfied: jinja2 in /usr/local/lib/python3.10/dist-packages (from torch==2.1.0->torchvision->facenet_pytorch) (3.1.3)\n",
            "Requirement already satisfied: fsspec in /usr/local/lib/python3.10/dist-packages (from torch==2.1.0->torchvision->facenet_pytorch) (2023.6.0)\n",
            "Requirement already satisfied: triton==2.1.0 in /usr/local/lib/python3.10/dist-packages (from torch==2.1.0->torchvision->facenet_pytorch) (2.1.0)\n",
            "Requirement already satisfied: MarkupSafe>=2.0 in /usr/local/lib/python3.10/dist-packages (from jinja2->torch==2.1.0->torchvision->facenet_pytorch) (2.1.4)\n",
            "Requirement already satisfied: mpmath>=0.19 in /usr/local/lib/python3.10/dist-packages (from sympy->torch==2.1.0->torchvision->facenet_pytorch) (1.3.0)\n",
            "Installing collected packages: facenet_pytorch\n",
            "Successfully installed facenet_pytorch-2.5.3\n"
          ]
        }
      ]
    },
    {
      "cell_type": "code",
      "source": [
        "from pathlib import Path\n",
        "from da_cv_fer.data_config import DataConfig\n",
        "from da_cv_fer.ds_sfew import DatasetSFEW\n",
        "from da_cv_fer.ds_sfew_crop import DatasetSFEWCROP\n",
        "from da_cv_fer.ds_expw import EXPW\n",
        "from da_cv_fer.ds_expw_crop import EXPWCROP\n",
        "from da_cv_fer.utils import show_batch\n",
        "from da_cv_fer.model_DANN import DANN\n",
        "from da_cv_fer.run_config import RunConfig\n",
        "from da_cv_fer.train import (weights_init,\n",
        "                             train_model,\n",
        "                             get_correct_predictions,\n",
        "                             test_model)\n",
        "\n",
        "import os\n",
        "import torch\n",
        "import pandas as pd\n",
        "import numpy as np\n",
        "from torch.utils.data import Dataset, random_split, DataLoader\n",
        "from torchvision.datasets import ImageFolder\n",
        "from PIL import Image\n",
        "from torchvision.models import resnet50, ResNet50_Weights\n",
        "import torchvision.models as models\n",
        "import matplotlib.pyplot as plt\n",
        "from torchvision.transforms import ToTensor\n",
        "import torchvision.transforms as tt\n",
        "from sklearn.metrics import f1_score\n",
        "import torch.nn.functional as F\n",
        "import torch.nn as nn\n",
        "from torchvision.utils import make_grid\n",
        "import random\n",
        "import shutil\n",
        "import tarfile\n",
        "import cv2\n",
        "import time\n",
        "import os\n",
        "import math\n",
        "from datetime import datetime"
      ],
      "metadata": {
        "id": "aTnLgKvkD3jt"
      },
      "execution_count": 6,
      "outputs": []
    },
    {
      "cell_type": "code",
      "source": [
        "use_cuda = torch.cuda.is_available()\n",
        "device = torch.device(\"cuda\" if use_cuda else \"cpu\")\n",
        "print(device)"
      ],
      "metadata": {
        "colab": {
          "base_uri": "https://localhost:8080/"
        },
        "id": "tLRbZFZRD3m-",
        "outputId": "f231721d-d43d-4785-d55b-1471bf46a797"
      },
      "execution_count": 7,
      "outputs": [
        {
          "output_type": "stream",
          "name": "stdout",
          "text": [
            "cuda\n"
          ]
        }
      ]
    },
    {
      "cell_type": "code",
      "source": [
        "# Mounting Google drive\n",
        "from google.colab import drive\n",
        "drive.mount('/content/gdrive')"
      ],
      "metadata": {
        "colab": {
          "base_uri": "https://localhost:8080/"
        },
        "id": "ckc-0ncgFVb1",
        "outputId": "5d75d1a7-0b3f-45a5-f102-99475ac1e882"
      },
      "execution_count": 8,
      "outputs": [
        {
          "output_type": "stream",
          "name": "stdout",
          "text": [
            "Mounted at /content/gdrive\n"
          ]
        }
      ]
    },
    {
      "cell_type": "markdown",
      "source": [
        "#### Loading Models to evaluate"
      ],
      "metadata": {
        "id": "OmQ-WHexEc36"
      }
    },
    {
      "cell_type": "code",
      "execution_count": 9,
      "metadata": {
        "id": "PkfKHiWpHEHl"
      },
      "outputs": [],
      "source": [
        "dataconfig_inference=DataConfig()"
      ]
    },
    {
      "cell_type": "code",
      "source": [
        "NON_DANN_SFEW_EXPW_DIR = \"/content/gdrive/MyDrive/CV_FER/models/non_dann_sfew_expw\""
      ],
      "metadata": {
        "id": "SK9zvn1uDM4S"
      },
      "execution_count": 10,
      "outputs": []
    },
    {
      "cell_type": "code",
      "execution_count": 11,
      "metadata": {
        "id": "pLMaTd8UHEHl"
      },
      "outputs": [],
      "source": [
        "non_dann_model_sfew_expw_name = 'non_dann_sfew_expw_04_02.pt'#'non_dann_sfew_expw_31_01.pt'#\n",
        "dann_model_sfew_expw_name ='dann_sfew_expw_04_02.pt' #'dann_sfew_expw_31_01.pt' #\n",
        "ewc_dann_model_sfew_expw_name = 'ewc_dann_sfew_expw_04_02.pt' #'ewc_dann_sfew_expw_31_01.pt' #"
      ]
    },
    {
      "cell_type": "code",
      "source": [
        "# NON DANN\n",
        "non_dann_model_inference = DANN(num_classes=7,backbone='resnet18', dropout=0.1) # skeleton copy\n",
        "NON_DANN_SFEW_DIR = dataconfig_inference.NON_DANN_SFEW_DIR # Path(self.MODEL_DIR,\"non_dann_sfew\")\n",
        "\n",
        "try:\n",
        "    non_dann_model_inference.load_state_dict(torch.load(Path(NON_DANN_SFEW_EXPW_DIR, non_dann_model_sfew_expw_name),\n",
        "                                                        map_location=torch.device(device)))\n",
        "    print(f'{non_dann_model_sfew_expw_name} locked and loaded')\n",
        "except Exception as e:\n",
        "    print(e)\n",
        "    print(f' problem in loading {non_dann_model_sfew_expw_name}')\n",
        "\n",
        "# DANN\n",
        "dann_model_sfew_expw_inference = DANN(num_classes=7,backbone='resnet18', dropout=0.1) # skeleton copy\n",
        "DANN_SFEW_EXPW_DIR = dataconfig_inference.DANN_SFEW_EXPW_DIR # Path(self.MODEL_DIR,\"dann_sfew_expw\")\n",
        "try:\n",
        "    dann_model_sfew_expw_inference.load_state_dict(torch.load(Path(DANN_SFEW_EXPW_DIR, dann_model_sfew_expw_name),\n",
        "                                                              map_location=torch.device(device)))\n",
        "    print(f'{dann_model_sfew_expw_name} locked and loaded')\n",
        "except Exception as e:\n",
        "    print(e)\n",
        "    print(f' problem in loading {dann_model_sfew_expw_name}')\n",
        "\n",
        "# EWC DANN\n",
        "ewc_dann_model_sfew_expw_inference = DANN(num_classes=7,backbone='resnet18', dropout=0.1) # skeleton copy\n",
        "EWC_DANN_SFEW_EXPW_DIR = dataconfig_inference.EWC_DANN_SFEW_EXPW_DIR # Path(self.MODEL_DIR,\"ewc_dann_sfew_expw\")\n",
        "print(dataconfig_inference.EWC_DANN_SFEW_EXPW_DIR)\n",
        "try:\n",
        "    ewc_dann_model_sfew_expw_inference.load_state_dict(torch.load(Path(EWC_DANN_SFEW_EXPW_DIR, ewc_dann_model_sfew_expw_name),\n",
        "                                                              map_location=torch.device(device)))\n",
        "    print(f'{ewc_dann_model_sfew_expw_name} locked and loaded')\n",
        "except Exception as e:\n",
        "    print(e)\n",
        "    print(f' problem in loading {ewc_dann_model_sfew_expw_name}')\n"
      ],
      "metadata": {
        "colab": {
          "base_uri": "https://localhost:8080/"
        },
        "id": "ox9aYEDCExOL",
        "outputId": "75d4332a-5b13-4e3d-e048-80b1686e7d08"
      },
      "execution_count": 35,
      "outputs": [
        {
          "output_type": "stream",
          "name": "stdout",
          "text": [
            "feature extractor backbone created using resnet18 model\n",
            "non_dann_sfew_expw_04_02.pt locked and loaded\n",
            "feature extractor backbone created using resnet18 model\n",
            "dann_sfew_expw_04_02.pt locked and loaded\n",
            "feature extractor backbone created using resnet18 model\n",
            "/content/gdrive/MyDrive/CV_FER/models/ewc_dann_sfew_expw\n",
            "ewc_dann_sfew_expw_04_02.pt locked and loaded\n"
          ]
        }
      ]
    },
    {
      "cell_type": "markdown",
      "metadata": {
        "id": "oH437ogSHEHt"
      },
      "source": [
        "### Dataloaders for source and target"
      ]
    },
    {
      "cell_type": "code",
      "source": [
        "# sfew = DatasetSFEW()\n",
        "sfew = DatasetSFEWCROP()\n",
        "sfew_train_loader, sfew_val_loader = sfew.get_dataloader()"
      ],
      "metadata": {
        "colab": {
          "base_uri": "https://localhost:8080/"
        },
        "id": "I367xCbFMJrr",
        "outputId": "1c8bdb26-cb8f-4b45-96d9-1d4d0837fb54"
      },
      "execution_count": 36,
      "outputs": [
        {
          "output_type": "stream",
          "name": "stdout",
          "text": [
            " self.BASE_PATH -dataset, \n",
            " self.EXTRACT_DIR-dataset/sfew,\n",
            " self.ZIP_FILE_PATH - dataset/SFEW_2.zip \n",
            "Directory dataset/sfew already exists.\n",
            "Files exist in dataset/sfew, extraction not done\n",
            "Unzipped Files already exist in dataset/sfew, not extracted\n",
            "Unzipped Files already exist in dataset/sfew/Train, not extracted\n",
            "Unzipped Files already exist in dataset/sfew/Val, not extracted\n",
            "----------mean_ds = [0.2197, 0.1858, 0.1569], std_dev_ds = [0.181, 0.1635, 0.1511]----------\n"
          ]
        },
        {
          "output_type": "stream",
          "name": "stderr",
          "text": [
            "/usr/local/lib/python3.10/dist-packages/torch/utils/data/dataloader.py:557: UserWarning: This DataLoader will create 4 worker processes in total. Our suggested max number of worker in current system is 2, which is smaller than what this DataLoader is going to create. Please be aware that excessive worker creation might get DataLoader running slow or even freeze, lower the worker number to avoid potential slowness/freeze if necessary.\n",
            "  warnings.warn(_create_warning_msg(\n"
          ]
        }
      ]
    },
    {
      "cell_type": "code",
      "source": [
        "expw_obj = EXPWCROP()\n",
        "expw_train_ds, expw_val_ds = expw_obj.get_dataset()\n",
        "expw_train_loader, expw_val_loader = expw_obj.get_dataloader()"
      ],
      "metadata": {
        "colab": {
          "base_uri": "https://localhost:8080/"
        },
        "id": "2646qRAxMVwK",
        "outputId": "e8957f5e-b6d3-4e97-bc69-7a659c8cf2eb"
      },
      "execution_count": 37,
      "outputs": [
        {
          "output_type": "stream",
          "name": "stdout",
          "text": [
            "desitination file path = dataset/expwds/expwds.zip\n",
            "Directory dataset/expwds already exists.\n",
            "Unzipped Files already exist in dataset/expwds, not extracted\n"
          ]
        }
      ]
    },
    {
      "cell_type": "code",
      "source": [
        "len(sfew_train_loader.dataset)"
      ],
      "metadata": {
        "colab": {
          "base_uri": "https://localhost:8080/"
        },
        "id": "knwtPpLsYSX-",
        "outputId": "878d2412-91c3-41d7-942d-246953bc804b"
      },
      "execution_count": 38,
      "outputs": [
        {
          "output_type": "execute_result",
          "data": {
            "text/plain": [
              "913"
            ]
          },
          "metadata": {},
          "execution_count": 38
        }
      ]
    },
    {
      "cell_type": "code",
      "source": [
        "len(sfew_val_loader.dataset)"
      ],
      "metadata": {
        "colab": {
          "base_uri": "https://localhost:8080/"
        },
        "id": "LhDadBu-Y0-I",
        "outputId": "8d035285-c6ac-45b0-841b-0f2b9f31596f"
      },
      "execution_count": 27,
      "outputs": [
        {
          "output_type": "execute_result",
          "data": {
            "text/plain": [
              "419"
            ]
          },
          "metadata": {},
          "execution_count": 27
        }
      ]
    },
    {
      "cell_type": "code",
      "source": [
        "len(expw_train_loader.dataset)"
      ],
      "metadata": {
        "colab": {
          "base_uri": "https://localhost:8080/"
        },
        "id": "3dlsdEKkY9Lz",
        "outputId": "04af5694-fbe0-4aab-a1c4-307cac5c1dc6"
      },
      "execution_count": 29,
      "outputs": [
        {
          "output_type": "execute_result",
          "data": {
            "text/plain": [
              "646"
            ]
          },
          "metadata": {},
          "execution_count": 29
        }
      ]
    },
    {
      "cell_type": "code",
      "source": [
        "len(expw_val_loader.dataset)"
      ],
      "metadata": {
        "colab": {
          "base_uri": "https://localhost:8080/"
        },
        "id": "wlDDLcdZY6LE",
        "outputId": "fae9397a-d4f3-4c1c-e7c1-ca99f07204a6"
      },
      "execution_count": 28,
      "outputs": [
        {
          "output_type": "execute_result",
          "data": {
            "text/plain": [
              "34"
            ]
          },
          "metadata": {},
          "execution_count": 28
        }
      ]
    },
    {
      "cell_type": "code",
      "execution_count": 39,
      "metadata": {
        "id": "1Tz0mWnPHEHu"
      },
      "outputs": [],
      "source": [
        "#@title Typical Test Function\n",
        "#TODO : move this to common file\n",
        "\n",
        "def get_correct_predictions(prediction, labels):\n",
        "    \"\"\"\n",
        "    Function to return total number of correct predictions\n",
        "    :param prediction: Model predictions on a given sample of data\n",
        "    :param labels: Correct labels of a given sample of data\n",
        "    :return: Number of correct predictions\n",
        "    \"\"\"\n",
        "    return prediction.argmax(dim=1).eq(labels.argmax(dim=1)).sum().item()\n",
        "\n",
        "def test_model(model, device, data_loader, mode= 'test',\n",
        "               class_loss_function = nn.CrossEntropyLoss() ):\n",
        "    model.eval() # evaluation mode\n",
        "\n",
        "    # variables to track loss and accuracy\n",
        "    test_loss = 0.0\n",
        "    correct = 0\n",
        "\n",
        "    # Disable gradient updation\n",
        "    with torch.no_grad():\n",
        "        # Iterate over each batch and fetch images and labels from the batch\n",
        "        for batch_idx, batch in enumerate(data_loader):\n",
        "            images, labels = batch[0].to(device), batch[1].to(device)\n",
        "\n",
        "            class_output, _ , _  = model(images) # forward pass, output = {class, domain, feature}\n",
        "            class_loss = class_loss_function(class_output,labels) # Calculate Loss\n",
        "\n",
        "            test_loss += class_loss.item() # sum up batch loss\n",
        "\n",
        "            # Sum up batch correct predictions\n",
        "            correct += get_correct_predictions(class_output, labels)\n",
        "\n",
        "    # Calculate test loss for a epoch\n",
        "    test_loss /= len(data_loader.dataset)\n",
        "    accuracy = 100. * correct / len(data_loader.dataset)\n",
        "\n",
        "    print('Test / Val: Average loss: {:.4f}, Accuracy: {}/{} ({:.2f}%)\\n'.format(test_loss, correct, len(data_loader.dataset),\n",
        "        accuracy))\n",
        "\n",
        "\n",
        "    return correct, test_loss, accuracy"
      ]
    },
    {
      "cell_type": "markdown",
      "metadata": {
        "id": "5J5aB31iHEHu"
      },
      "source": [
        "#### Printing comparison"
      ]
    },
    {
      "cell_type": "markdown",
      "source": [
        "### SFEW evaluated on SFEW val loader\n"
      ],
      "metadata": {
        "id": "-RM9P5iIBQKq"
      }
    },
    {
      "cell_type": "code",
      "execution_count": 44,
      "metadata": {
        "colab": {
          "base_uri": "https://localhost:8080/"
        },
        "id": "-gvRmzsDHEHv",
        "outputId": "d7e8d964-bc0d-4b3e-a282-d4b2d5e6c2ee"
      },
      "outputs": [
        {
          "output_type": "stream",
          "name": "stdout",
          "text": [
            "Test / Val: Average loss: 0.1568, Accuracy: 196/419 (46.78%)\n",
            "\n",
            "Test / Val: Average loss: 0.1552, Accuracy: 196/419 (46.78%)\n",
            "\n",
            "Test / Val: Average loss: 0.1582, Accuracy: 196/419 (46.78%)\n",
            "\n"
          ]
        }
      ],
      "source": [
        "runconfig = RunConfig()\n",
        "_, _, non_dann_accuracy_source_sfew = test_model(model= non_dann_model_inference.to(device),\n",
        "                                 device=device,\n",
        "                                 data_loader=sfew_val_loader,\n",
        "                                 class_loss_function=runconfig.criterion_class )\n",
        "\n",
        "_,_,dann_accuracy_source_sfew = test_model(model =dann_model_sfew_expw_inference.to(device),\n",
        "                                 device=device,\n",
        "                                 data_loader=sfew_val_loader,\n",
        "                                 class_loss_function=runconfig.criterion_class )\n",
        "\n",
        "_,_,ewc_dann_accuracy_source_sfew = test_model(model =ewc_dann_model_sfew_expw_inference.to(device),\n",
        "                                 device=device,\n",
        "                                 data_loader=sfew_val_loader,\n",
        "                                 class_loss_function=runconfig.criterion_class )"
      ]
    },
    {
      "cell_type": "markdown",
      "source": [
        "### EXPW evaluated on EXPW Val loader\n"
      ],
      "metadata": {
        "id": "zjBN8TuQD08I"
      }
    },
    {
      "cell_type": "code",
      "source": [
        "_,_,non_dann_accuracy_source = test_model(model =non_dann_model_inference,\n",
        "                                 device=device,\n",
        "                                 data_loader=expw_val_loader,\n",
        "                                 class_loss_function=runconfig.criterion_class )\n",
        "\n",
        "_,_,dann_accuracy_target = test_model(model =dann_model_sfew_expw_inference,\n",
        "                                 device=device,\n",
        "                                 data_loader=expw_val_loader,\n",
        "                                 class_loss_function=runconfig.criterion_class )\n",
        "\n",
        "_,_,ewc_dann_accuracy_target = test_model(model =ewc_dann_model_sfew_expw_inference,\n",
        "                                 device=device,\n",
        "                                 data_loader=expw_val_loader,\n",
        "                                 class_loss_function=runconfig.criterion_class )"
      ],
      "metadata": {
        "colab": {
          "base_uri": "https://localhost:8080/"
        },
        "id": "UVeUbR99k9aO",
        "outputId": "cc719449-5c4b-4abc-f8b6-0fc085c9e003"
      },
      "execution_count": 43,
      "outputs": [
        {
          "output_type": "stream",
          "name": "stdout",
          "text": [
            "Test / Val: Average loss: 0.5810, Accuracy: 2/34 (5.88%)\n",
            "\n",
            "Test / Val: Average loss: 0.7050, Accuracy: 2/34 (5.88%)\n",
            "\n",
            "Test / Val: Average loss: 0.5937, Accuracy: 2/34 (5.88%)\n",
            "\n"
          ]
        }
      ]
    },
    {
      "cell_type": "markdown",
      "source": [
        "### Task Accuracy Result Table"
      ],
      "metadata": {
        "id": "iPifk9k3FXNG"
      }
    },
    {
      "cell_type": "code",
      "source": [
        "task_accuracy_d = {'SFEW': pd.Series([non_dann_accuracy_source_sfew, dann_accuracy_source_sfew, ewc_dann_accuracy_source_sfew],\n",
        "                      index=['non_dann', 'dann', 'dann_ewc']),\n",
        "     'EXPW': pd.Series([non_dann_accuracy_source, dann_accuracy_target, ewc_dann_accuracy_target],\n",
        "                      index=['non_dann', 'dann', 'dann_ewc'])}\n",
        "\n",
        "task_accuracy_df = pd.DataFrame(task_accuracy_d)"
      ],
      "metadata": {
        "id": "UMu0frhQFVPz"
      },
      "execution_count": 45,
      "outputs": []
    },
    {
      "cell_type": "code",
      "source": [
        "task_accuracy_df"
      ],
      "metadata": {
        "colab": {
          "base_uri": "https://localhost:8080/",
          "height": 143
        },
        "id": "Eulc_vznO18z",
        "outputId": "13c87c93-a6c5-4a45-8f1a-222ab280ec72"
      },
      "execution_count": 46,
      "outputs": [
        {
          "output_type": "execute_result",
          "data": {
            "text/plain": [
              "               SFEW      EXPW\n",
              "non_dann  46.778043  5.882353\n",
              "dann      46.778043  5.882353\n",
              "dann_ewc  46.778043  5.882353"
            ],
            "text/html": [
              "\n",
              "  <div id=\"df-64c9d804-f86e-48ff-b626-7634f9d4248e\" class=\"colab-df-container\">\n",
              "    <div>\n",
              "<style scoped>\n",
              "    .dataframe tbody tr th:only-of-type {\n",
              "        vertical-align: middle;\n",
              "    }\n",
              "\n",
              "    .dataframe tbody tr th {\n",
              "        vertical-align: top;\n",
              "    }\n",
              "\n",
              "    .dataframe thead th {\n",
              "        text-align: right;\n",
              "    }\n",
              "</style>\n",
              "<table border=\"1\" class=\"dataframe\">\n",
              "  <thead>\n",
              "    <tr style=\"text-align: right;\">\n",
              "      <th></th>\n",
              "      <th>SFEW</th>\n",
              "      <th>EXPW</th>\n",
              "    </tr>\n",
              "  </thead>\n",
              "  <tbody>\n",
              "    <tr>\n",
              "      <th>non_dann</th>\n",
              "      <td>46.778043</td>\n",
              "      <td>5.882353</td>\n",
              "    </tr>\n",
              "    <tr>\n",
              "      <th>dann</th>\n",
              "      <td>46.778043</td>\n",
              "      <td>5.882353</td>\n",
              "    </tr>\n",
              "    <tr>\n",
              "      <th>dann_ewc</th>\n",
              "      <td>46.778043</td>\n",
              "      <td>5.882353</td>\n",
              "    </tr>\n",
              "  </tbody>\n",
              "</table>\n",
              "</div>\n",
              "    <div class=\"colab-df-buttons\">\n",
              "\n",
              "  <div class=\"colab-df-container\">\n",
              "    <button class=\"colab-df-convert\" onclick=\"convertToInteractive('df-64c9d804-f86e-48ff-b626-7634f9d4248e')\"\n",
              "            title=\"Convert this dataframe to an interactive table.\"\n",
              "            style=\"display:none;\">\n",
              "\n",
              "  <svg xmlns=\"http://www.w3.org/2000/svg\" height=\"24px\" viewBox=\"0 -960 960 960\">\n",
              "    <path d=\"M120-120v-720h720v720H120Zm60-500h600v-160H180v160Zm220 220h160v-160H400v160Zm0 220h160v-160H400v160ZM180-400h160v-160H180v160Zm440 0h160v-160H620v160ZM180-180h160v-160H180v160Zm440 0h160v-160H620v160Z\"/>\n",
              "  </svg>\n",
              "    </button>\n",
              "\n",
              "  <style>\n",
              "    .colab-df-container {\n",
              "      display:flex;\n",
              "      gap: 12px;\n",
              "    }\n",
              "\n",
              "    .colab-df-convert {\n",
              "      background-color: #E8F0FE;\n",
              "      border: none;\n",
              "      border-radius: 50%;\n",
              "      cursor: pointer;\n",
              "      display: none;\n",
              "      fill: #1967D2;\n",
              "      height: 32px;\n",
              "      padding: 0 0 0 0;\n",
              "      width: 32px;\n",
              "    }\n",
              "\n",
              "    .colab-df-convert:hover {\n",
              "      background-color: #E2EBFA;\n",
              "      box-shadow: 0px 1px 2px rgba(60, 64, 67, 0.3), 0px 1px 3px 1px rgba(60, 64, 67, 0.15);\n",
              "      fill: #174EA6;\n",
              "    }\n",
              "\n",
              "    .colab-df-buttons div {\n",
              "      margin-bottom: 4px;\n",
              "    }\n",
              "\n",
              "    [theme=dark] .colab-df-convert {\n",
              "      background-color: #3B4455;\n",
              "      fill: #D2E3FC;\n",
              "    }\n",
              "\n",
              "    [theme=dark] .colab-df-convert:hover {\n",
              "      background-color: #434B5C;\n",
              "      box-shadow: 0px 1px 3px 1px rgba(0, 0, 0, 0.15);\n",
              "      filter: drop-shadow(0px 1px 2px rgba(0, 0, 0, 0.3));\n",
              "      fill: #FFFFFF;\n",
              "    }\n",
              "  </style>\n",
              "\n",
              "    <script>\n",
              "      const buttonEl =\n",
              "        document.querySelector('#df-64c9d804-f86e-48ff-b626-7634f9d4248e button.colab-df-convert');\n",
              "      buttonEl.style.display =\n",
              "        google.colab.kernel.accessAllowed ? 'block' : 'none';\n",
              "\n",
              "      async function convertToInteractive(key) {\n",
              "        const element = document.querySelector('#df-64c9d804-f86e-48ff-b626-7634f9d4248e');\n",
              "        const dataTable =\n",
              "          await google.colab.kernel.invokeFunction('convertToInteractive',\n",
              "                                                    [key], {});\n",
              "        if (!dataTable) return;\n",
              "\n",
              "        const docLinkHtml = 'Like what you see? Visit the ' +\n",
              "          '<a target=\"_blank\" href=https://colab.research.google.com/notebooks/data_table.ipynb>data table notebook</a>'\n",
              "          + ' to learn more about interactive tables.';\n",
              "        element.innerHTML = '';\n",
              "        dataTable['output_type'] = 'display_data';\n",
              "        await google.colab.output.renderOutput(dataTable, element);\n",
              "        const docLink = document.createElement('div');\n",
              "        docLink.innerHTML = docLinkHtml;\n",
              "        element.appendChild(docLink);\n",
              "      }\n",
              "    </script>\n",
              "  </div>\n",
              "\n",
              "\n",
              "<div id=\"df-4a0aa51d-bef6-4b8d-8be8-d50394f87964\">\n",
              "  <button class=\"colab-df-quickchart\" onclick=\"quickchart('df-4a0aa51d-bef6-4b8d-8be8-d50394f87964')\"\n",
              "            title=\"Suggest charts\"\n",
              "            style=\"display:none;\">\n",
              "\n",
              "<svg xmlns=\"http://www.w3.org/2000/svg\" height=\"24px\"viewBox=\"0 0 24 24\"\n",
              "     width=\"24px\">\n",
              "    <g>\n",
              "        <path d=\"M19 3H5c-1.1 0-2 .9-2 2v14c0 1.1.9 2 2 2h14c1.1 0 2-.9 2-2V5c0-1.1-.9-2-2-2zM9 17H7v-7h2v7zm4 0h-2V7h2v10zm4 0h-2v-4h2v4z\"/>\n",
              "    </g>\n",
              "</svg>\n",
              "  </button>\n",
              "\n",
              "<style>\n",
              "  .colab-df-quickchart {\n",
              "      --bg-color: #E8F0FE;\n",
              "      --fill-color: #1967D2;\n",
              "      --hover-bg-color: #E2EBFA;\n",
              "      --hover-fill-color: #174EA6;\n",
              "      --disabled-fill-color: #AAA;\n",
              "      --disabled-bg-color: #DDD;\n",
              "  }\n",
              "\n",
              "  [theme=dark] .colab-df-quickchart {\n",
              "      --bg-color: #3B4455;\n",
              "      --fill-color: #D2E3FC;\n",
              "      --hover-bg-color: #434B5C;\n",
              "      --hover-fill-color: #FFFFFF;\n",
              "      --disabled-bg-color: #3B4455;\n",
              "      --disabled-fill-color: #666;\n",
              "  }\n",
              "\n",
              "  .colab-df-quickchart {\n",
              "    background-color: var(--bg-color);\n",
              "    border: none;\n",
              "    border-radius: 50%;\n",
              "    cursor: pointer;\n",
              "    display: none;\n",
              "    fill: var(--fill-color);\n",
              "    height: 32px;\n",
              "    padding: 0;\n",
              "    width: 32px;\n",
              "  }\n",
              "\n",
              "  .colab-df-quickchart:hover {\n",
              "    background-color: var(--hover-bg-color);\n",
              "    box-shadow: 0 1px 2px rgba(60, 64, 67, 0.3), 0 1px 3px 1px rgba(60, 64, 67, 0.15);\n",
              "    fill: var(--button-hover-fill-color);\n",
              "  }\n",
              "\n",
              "  .colab-df-quickchart-complete:disabled,\n",
              "  .colab-df-quickchart-complete:disabled:hover {\n",
              "    background-color: var(--disabled-bg-color);\n",
              "    fill: var(--disabled-fill-color);\n",
              "    box-shadow: none;\n",
              "  }\n",
              "\n",
              "  .colab-df-spinner {\n",
              "    border: 2px solid var(--fill-color);\n",
              "    border-color: transparent;\n",
              "    border-bottom-color: var(--fill-color);\n",
              "    animation:\n",
              "      spin 1s steps(1) infinite;\n",
              "  }\n",
              "\n",
              "  @keyframes spin {\n",
              "    0% {\n",
              "      border-color: transparent;\n",
              "      border-bottom-color: var(--fill-color);\n",
              "      border-left-color: var(--fill-color);\n",
              "    }\n",
              "    20% {\n",
              "      border-color: transparent;\n",
              "      border-left-color: var(--fill-color);\n",
              "      border-top-color: var(--fill-color);\n",
              "    }\n",
              "    30% {\n",
              "      border-color: transparent;\n",
              "      border-left-color: var(--fill-color);\n",
              "      border-top-color: var(--fill-color);\n",
              "      border-right-color: var(--fill-color);\n",
              "    }\n",
              "    40% {\n",
              "      border-color: transparent;\n",
              "      border-right-color: var(--fill-color);\n",
              "      border-top-color: var(--fill-color);\n",
              "    }\n",
              "    60% {\n",
              "      border-color: transparent;\n",
              "      border-right-color: var(--fill-color);\n",
              "    }\n",
              "    80% {\n",
              "      border-color: transparent;\n",
              "      border-right-color: var(--fill-color);\n",
              "      border-bottom-color: var(--fill-color);\n",
              "    }\n",
              "    90% {\n",
              "      border-color: transparent;\n",
              "      border-bottom-color: var(--fill-color);\n",
              "    }\n",
              "  }\n",
              "</style>\n",
              "\n",
              "  <script>\n",
              "    async function quickchart(key) {\n",
              "      const quickchartButtonEl =\n",
              "        document.querySelector('#' + key + ' button');\n",
              "      quickchartButtonEl.disabled = true;  // To prevent multiple clicks.\n",
              "      quickchartButtonEl.classList.add('colab-df-spinner');\n",
              "      try {\n",
              "        const charts = await google.colab.kernel.invokeFunction(\n",
              "            'suggestCharts', [key], {});\n",
              "      } catch (error) {\n",
              "        console.error('Error during call to suggestCharts:', error);\n",
              "      }\n",
              "      quickchartButtonEl.classList.remove('colab-df-spinner');\n",
              "      quickchartButtonEl.classList.add('colab-df-quickchart-complete');\n",
              "    }\n",
              "    (() => {\n",
              "      let quickchartButtonEl =\n",
              "        document.querySelector('#df-4a0aa51d-bef6-4b8d-8be8-d50394f87964 button');\n",
              "      quickchartButtonEl.style.display =\n",
              "        google.colab.kernel.accessAllowed ? 'block' : 'none';\n",
              "    })();\n",
              "  </script>\n",
              "</div>\n",
              "\n",
              "  <div id=\"id_cea3afbc-8065-44ac-b30a-741995fcbc2c\">\n",
              "    <style>\n",
              "      .colab-df-generate {\n",
              "        background-color: #E8F0FE;\n",
              "        border: none;\n",
              "        border-radius: 50%;\n",
              "        cursor: pointer;\n",
              "        display: none;\n",
              "        fill: #1967D2;\n",
              "        height: 32px;\n",
              "        padding: 0 0 0 0;\n",
              "        width: 32px;\n",
              "      }\n",
              "\n",
              "      .colab-df-generate:hover {\n",
              "        background-color: #E2EBFA;\n",
              "        box-shadow: 0px 1px 2px rgba(60, 64, 67, 0.3), 0px 1px 3px 1px rgba(60, 64, 67, 0.15);\n",
              "        fill: #174EA6;\n",
              "      }\n",
              "\n",
              "      [theme=dark] .colab-df-generate {\n",
              "        background-color: #3B4455;\n",
              "        fill: #D2E3FC;\n",
              "      }\n",
              "\n",
              "      [theme=dark] .colab-df-generate:hover {\n",
              "        background-color: #434B5C;\n",
              "        box-shadow: 0px 1px 3px 1px rgba(0, 0, 0, 0.15);\n",
              "        filter: drop-shadow(0px 1px 2px rgba(0, 0, 0, 0.3));\n",
              "        fill: #FFFFFF;\n",
              "      }\n",
              "    </style>\n",
              "    <button class=\"colab-df-generate\" onclick=\"generateWithVariable('task_accuracy_df')\"\n",
              "            title=\"Generate code using this dataframe.\"\n",
              "            style=\"display:none;\">\n",
              "\n",
              "  <svg xmlns=\"http://www.w3.org/2000/svg\" height=\"24px\"viewBox=\"0 0 24 24\"\n",
              "       width=\"24px\">\n",
              "    <path d=\"M7,19H8.4L18.45,9,17,7.55,7,17.6ZM5,21V16.75L18.45,3.32a2,2,0,0,1,2.83,0l1.4,1.43a1.91,1.91,0,0,1,.58,1.4,1.91,1.91,0,0,1-.58,1.4L9.25,21ZM18.45,9,17,7.55Zm-12,3A5.31,5.31,0,0,0,4.9,8.1,5.31,5.31,0,0,0,1,6.5,5.31,5.31,0,0,0,4.9,4.9,5.31,5.31,0,0,0,6.5,1,5.31,5.31,0,0,0,8.1,4.9,5.31,5.31,0,0,0,12,6.5,5.46,5.46,0,0,0,6.5,12Z\"/>\n",
              "  </svg>\n",
              "    </button>\n",
              "    <script>\n",
              "      (() => {\n",
              "      const buttonEl =\n",
              "        document.querySelector('#id_cea3afbc-8065-44ac-b30a-741995fcbc2c button.colab-df-generate');\n",
              "      buttonEl.style.display =\n",
              "        google.colab.kernel.accessAllowed ? 'block' : 'none';\n",
              "\n",
              "      buttonEl.onclick = () => {\n",
              "        google.colab.notebook.generateWithVariable('task_accuracy_df');\n",
              "      }\n",
              "      })();\n",
              "    </script>\n",
              "  </div>\n",
              "\n",
              "    </div>\n",
              "  </div>\n"
            ]
          },
          "metadata": {},
          "execution_count": 46
        }
      ]
    },
    {
      "cell_type": "code",
      "source": [
        "task_accuracy_df.to_csv('/content/gdrive/MyDrive/CV_FER/results/taskacc_nonrace_{}.csv'.format(datetime.now().strftime(\"%d-%m-%Y_%H:%M\")))"
      ],
      "metadata": {
        "id": "Z0nsRE4Zn__S"
      },
      "execution_count": 47,
      "outputs": []
    },
    {
      "cell_type": "markdown",
      "source": [
        "### Evaluating EXPW Race test"
      ],
      "metadata": {
        "id": "zYr6WijwOCJP"
      }
    },
    {
      "cell_type": "code",
      "execution_count": 48,
      "metadata": {
        "id": "92RGWs7WHEHv"
      },
      "outputs": [],
      "source": [
        "#function to extract dataset\n",
        "from zipfile import ZipFile"
      ]
    },
    {
      "cell_type": "code",
      "source": [
        "#define paths for extraction\n",
        "\n",
        "dataconfig = DataConfig()\n",
        "EXPW_RACEDS_BASE_PATH = \"/content/gdrive/MyDrive/CV_FER/dataset\"\n",
        "EXPW_RACEDS_EXTRACT_PATH = \"/content/gdrive/MyDrive/CV_FER/dataset/RaceTest_EXPW\"\n",
        "EXPW_RACEDS_ZIP_FILE_PATH = \"/content/gdrive/MyDrive/CV_FER/dataset\"\n",
        "EXPW_RACEDS_labels = ['angry','disgust','fear','happy','neutral','sad','surprise']\n",
        "\n",
        "labels_map={\"0\":\"Angry\",\n",
        "\"1\":\"Disgust\",\n",
        "\"2\":\"Fear\",\n",
        "\"3\":\"Happy\",\n",
        "\"4\":\"Sad\",\n",
        "\"5\":\"Surprise\",\n",
        "\"6\":\"Neutral\"}\n",
        "\n",
        "labels_map2={\"Angry\":\"0\",\n",
        "\"Disgust\": \"1\",\n",
        "\"Fear\":\"2\",\n",
        "\"Happy\":\"3\",\n",
        "\"Sad\":\"4\",\n",
        "\"Surprise\":\"5\",\n",
        "\"Neutral\":\"6\"}\n",
        "\n",
        "labels=list(labels_map.values())\n",
        "\n",
        "EXPW_RACEDS_dict_dataset = {'TEST_DIR' : EXPW_RACEDS_EXTRACT_PATH}\n",
        "\n",
        "print(f'self.BASE_PATH -{EXPW_RACEDS_BASE_PATH } | self.EXTRACT_DIR- {EXPW_RACEDS_EXTRACT_PATH} | self.ZIP_FILE_PATH - {EXPW_RACEDS_ZIP_FILE_PATH} ')"
      ],
      "metadata": {
        "colab": {
          "base_uri": "https://localhost:8080/"
        },
        "id": "wA3Ixbf-OZmv",
        "outputId": "11925e73-50c5-4dce-a579-cf4c55be3ef9"
      },
      "execution_count": 49,
      "outputs": [
        {
          "output_type": "stream",
          "name": "stdout",
          "text": [
            "self.BASE_PATH -/content/gdrive/MyDrive/CV_FER/dataset | self.EXTRACT_DIR- /content/gdrive/MyDrive/CV_FER/dataset/RaceTest_EXPW | self.ZIP_FILE_PATH - /content/gdrive/MyDrive/CV_FER/dataset \n"
          ]
        }
      ]
    },
    {
      "cell_type": "code",
      "source": [
        "#extract data EXPW\n",
        "if not (os.path.exists(EXPW_RACEDS_EXTRACT_PATH+\"/\"+\"EXPW_annotated\")):\n",
        "  try:\n",
        "      with ZipFile(Path(EXPW_RACEDS_ZIP_FILE_PATH, \"EXPW_annotated.zip\"), 'r') as zip:\n",
        "          zip.extractall(Path(EXPW_RACEDS_EXTRACT_PATH))\n",
        "          print(\"Done\")\n",
        "  except Exception as e:\n",
        "      print('Failed: ', e)"
      ],
      "metadata": {
        "id": "tGnh-JviQhiH"
      },
      "execution_count": 50,
      "outputs": []
    },
    {
      "cell_type": "code",
      "source": [
        "data_list=[]\n",
        "EXPW_RACEDS_IM_PATH=EXPW_RACEDS_EXTRACT_PATH+ \"/EXPW_annotated\"\n",
        "EXPW_RACEDS_list=os.listdir(EXPW_RACEDS_IM_PATH)\n",
        "EXPW_RACEDS_dict={}\n",
        "EXPW_RACEDS_dict_list=[]\n",
        "for i in EXPW_RACEDS_list:\n",
        "    race = os.listdir(EXPW_RACEDS_IM_PATH+\"/\"+i)\n",
        "    EXPW_RACEDS_dict[i] = {key: None for key in race}\n",
        "\n",
        "for emotion in EXPW_RACEDS_list:\n",
        "    for race in EXPW_RACEDS_dict[emotion]:\n",
        "        EXPW_RACEDS_dict[emotion][race]=os.listdir(EXPW_RACEDS_IM_PATH+\"/\"+emotion+\"/\"+race)\n",
        "        EXPW_RACEDS_dict_list+=[[emotion, race, i] for i in os.listdir(EXPW_RACEDS_IM_PATH+\"/\"+emotion+\"/\"+race)]"
      ],
      "metadata": {
        "id": "6RG7GmNHUnQF"
      },
      "execution_count": 51,
      "outputs": []
    },
    {
      "cell_type": "code",
      "source": [
        "EXPW_RACEDS_dict_list[0:5]"
      ],
      "metadata": {
        "colab": {
          "base_uri": "https://localhost:8080/"
        },
        "id": "XoNBmox8fm92",
        "outputId": "a9d56954-0800-4c30-b418-ffe5cc9997c3"
      },
      "execution_count": 52,
      "outputs": [
        {
          "output_type": "execute_result",
          "data": {
            "text/plain": [
              "[['Surprise', 'African', 'afraid_american_238.jpg'],\n",
              " ['Surprise', 'African', 'amazed_boss_12.jpg'],\n",
              " ['Surprise', 'African', 'amazed_boss_120.jpg'],\n",
              " ['Surprise', 'African', 'amazed_expression_132.jpg'],\n",
              " ['Surprise', 'African', 'ecstatic_american_5.jpg']]"
            ]
          },
          "metadata": {},
          "execution_count": 52
        }
      ]
    },
    {
      "cell_type": "code",
      "source": [
        "class EXPWDataset_Race(Dataset):\n",
        "    def __init__(self, ds_path, data_list ,transform=None):\n",
        "        self.data = data_list\n",
        "        self.transform = transform\n",
        "        self.path=ds_path\n",
        "        self.image_filepath=''\n",
        "\n",
        "    def __len__(self):\n",
        "        # all_image_list=[]\n",
        "        # label_list=[i for i in os.listdir(self.data) if '.zip' not in i]\n",
        "        # for i in label_list:\n",
        "        #   all_image_list += [[i,j] for j in os.listdir(os.path.join(self.data, i))]\n",
        "        return len(self.data)\n",
        "\n",
        "    def __getitem__(self, idx):\n",
        "        label_name = self.data[idx][0]\n",
        "        race_name = self.data[idx][1]\n",
        "        label_idx = int(labels_map2[self.data[idx][0]])\n",
        "        img_name= self.data[idx][2]\n",
        "\n",
        "        self.image_filepath = os.path.join(self.path, label_name, race_name, img_name)\n",
        "        img = Image.open(self.image_filepath)\n",
        "        if self.transform:\n",
        "            img = self.transform(img)\n",
        "\n",
        "        return img, label_idx, img_name, race_name"
      ],
      "metadata": {
        "id": "iiLz8O6ffnJe"
      },
      "execution_count": 53,
      "outputs": []
    },
    {
      "cell_type": "code",
      "source": [
        "expw_tt=tt.Compose([tt.Resize((224,224)), tt.ToTensor()])\n",
        "\n",
        "EXPW_RACEDS = EXPWDataset_Race(EXPW_RACEDS_IM_PATH, EXPW_RACEDS_dict_list, expw_tt)\n",
        "\n",
        "for sample in EXPW_RACEDS:\n",
        "    print(sample[0])\n",
        "    print(sample[1])\n",
        "    print(sample[2])\n",
        "    print(sample[3])\n",
        "    break"
      ],
      "metadata": {
        "colab": {
          "base_uri": "https://localhost:8080/"
        },
        "id": "oGgJ6Rpfg5si",
        "outputId": "1fc7bbcc-6c55-4657-b7e3-0a0d74d04c6c"
      },
      "execution_count": 54,
      "outputs": [
        {
          "output_type": "stream",
          "name": "stdout",
          "text": [
            "tensor([[[0.0039, 0.0000, 0.0000,  ..., 0.0510, 0.0549, 0.0549],\n",
            "         [0.0039, 0.0000, 0.0000,  ..., 0.0471, 0.0510, 0.0510],\n",
            "         [0.0000, 0.0039, 0.0039,  ..., 0.0392, 0.0392, 0.0392],\n",
            "         ...,\n",
            "         [0.0039, 0.0039, 0.0039,  ..., 0.0157, 0.0118, 0.0078],\n",
            "         [0.0039, 0.0078, 0.0039,  ..., 0.0078, 0.0078, 0.0078],\n",
            "         [0.0039, 0.0078, 0.0078,  ..., 0.0078, 0.0039, 0.0039]],\n",
            "\n",
            "        [[0.0039, 0.0000, 0.0000,  ..., 0.0667, 0.0745, 0.0745],\n",
            "         [0.0039, 0.0000, 0.0000,  ..., 0.0706, 0.0784, 0.0784],\n",
            "         [0.0000, 0.0039, 0.0039,  ..., 0.0745, 0.0784, 0.0824],\n",
            "         ...,\n",
            "         [0.0039, 0.0039, 0.0039,  ..., 0.0157, 0.0118, 0.0078],\n",
            "         [0.0039, 0.0078, 0.0039,  ..., 0.0078, 0.0078, 0.0078],\n",
            "         [0.0039, 0.0078, 0.0078,  ..., 0.0078, 0.0039, 0.0039]],\n",
            "\n",
            "        [[0.0039, 0.0000, 0.0000,  ..., 0.1373, 0.1490, 0.1490],\n",
            "         [0.0039, 0.0000, 0.0000,  ..., 0.1412, 0.1490, 0.1490],\n",
            "         [0.0000, 0.0039, 0.0039,  ..., 0.1412, 0.1451, 0.1451],\n",
            "         ...,\n",
            "         [0.0039, 0.0039, 0.0039,  ..., 0.0157, 0.0157, 0.0157],\n",
            "         [0.0039, 0.0078, 0.0039,  ..., 0.0078, 0.0118, 0.0078],\n",
            "         [0.0039, 0.0078, 0.0078,  ..., 0.0078, 0.0039, 0.0039]]])\n",
            "5\n",
            "afraid_american_238.jpg\n",
            "African\n"
          ]
        }
      ]
    },
    {
      "cell_type": "code",
      "source": [
        "len(EXPW_RACEDS)"
      ],
      "metadata": {
        "colab": {
          "base_uri": "https://localhost:8080/"
        },
        "id": "t0inSMjlg5vY",
        "outputId": "d7f37228-c13c-4f1b-c529-e17f31bc0a25"
      },
      "execution_count": 55,
      "outputs": [
        {
          "output_type": "execute_result",
          "data": {
            "text/plain": [
              "8832"
            ]
          },
          "metadata": {},
          "execution_count": 55
        }
      ]
    },
    {
      "cell_type": "code",
      "source": [
        "BATCH_SIZE=16\n",
        "SEED=42\n",
        "dataloader_args = dict(shuffle=True, batch_size=BATCH_SIZE, pin_memory=True, num_workers=2)\n",
        "EXPW_RACEDS_loader = DataLoader(EXPW_RACEDS, **dataloader_args)"
      ],
      "metadata": {
        "id": "7C1kIGOQg5xy"
      },
      "execution_count": 56,
      "outputs": []
    },
    {
      "cell_type": "markdown",
      "source": [
        "### EXPW Race Test Function"
      ],
      "metadata": {
        "id": "KwgRmWeRj02i"
      }
    },
    {
      "cell_type": "code",
      "source": [
        "#@title Typical Test Function\n",
        "#TODO : move this to common file\n",
        "\n",
        "def get_correct_predictions(prediction, labels):\n",
        "    \"\"\"\n",
        "    Function to return total number of correct predictions\n",
        "    :param prediction: Model predictions on a given sample of data\n",
        "    :param labels: Correct labels of a given sample of data\n",
        "    :return: Number of correct predictions\n",
        "    \"\"\"\n",
        "#     print(prediction.shape, labels.shape)\n",
        "#     print(prediction)\n",
        "#     print(labels)\n",
        "    return prediction.argmax(dim=1).eq(labels).sum().item() #.argmax(dim=1)\n",
        "\n",
        "def test_model_race_expw(model, device, test_loader, mode= 'test',\n",
        "               class_loss_function = nn.CrossEntropyLoss(),\n",
        "               result=pd.DataFrame(columns=['image', 'gt_emotion', 'gt_race', 'p_emotion']) ):\n",
        "    #model, device, test_loader, criterion, result=pd.DataFrame(columns=['image', 'gt_emotion', 'gt_race', 'p_emotion'])\n",
        "    model.eval() # evaluation mode\n",
        "\n",
        "    # variables to track loss and accuracy\n",
        "    test_loss = 0.0\n",
        "    correct = 0\n",
        "\n",
        "   # Disable gradient updation\n",
        "    with torch.no_grad():\n",
        "        # Iterate over each batch and fetch images and labels from the batch\n",
        "        for batch_idx, (data, target, name, race) in enumerate(test_loader):\n",
        "\n",
        "            # Put the images and labels on the selected device\n",
        "            data, target = data.to(device), target.to(device)\n",
        "\n",
        "            # Pass the images to the output and get the model predictions\n",
        "            class_output, _ , _ = model(data)\n",
        "            class_loss = class_loss_function(class_output, target)  # sum up batch loss\n",
        "            test_loss += class_loss.item()\n",
        "            # Sum up batch correct predictions\n",
        "            correct += get_correct_predictions(class_output, target)\n",
        "\n",
        "            for i in range(0,len(name)):\n",
        "                result_row={'image':name[i] ,'gt_emotion':labels_map[str(target[i].item())], 'gt_race':race[i], 'p_emotion':labels_map[str(class_output.argmax(dim=1)[i].item())]}\n",
        "                result=result.append(result_row, ignore_index=True)\n",
        "\n",
        "\n",
        "    # Calculate test loss for a epoch\n",
        "    test_loss /= len(test_loader.dataset)\n",
        "    accuracy = 100. * correct / len(test_loader.dataset)\n",
        "\n",
        "    print('Test / Val: Average loss: {:.4f}, Accuracy: {}/{} ({:.2f}%)\\n'.format(test_loss, correct, len(test_loader.dataset),\n",
        "        accuracy))\n",
        "\n",
        "\n",
        "    return correct, test_loss, accuracy, result"
      ],
      "metadata": {
        "id": "aWfgnb-hj4Ee"
      },
      "execution_count": 57,
      "outputs": []
    },
    {
      "cell_type": "code",
      "source": [
        "import warnings\n",
        "warnings.filterwarnings(\"ignore\")"
      ],
      "metadata": {
        "id": "_ANhoWE4CDpV"
      },
      "execution_count": 58,
      "outputs": []
    },
    {
      "cell_type": "markdown",
      "source": [
        "#### Task accuracy on racially annotated EXPW"
      ],
      "metadata": {
        "id": "s2tpeMW6rXgn"
      }
    },
    {
      "cell_type": "code",
      "source": [
        "runconfig = RunConfig()\n",
        "_ , _ , non_dann_accuracy_expw_race, expw_result_non_dann = test_model_race_expw(model =non_dann_model_inference.to(device),\n",
        "                                 device=device,\n",
        "                                 test_loader=EXPW_RACEDS_loader,\n",
        "                                 class_loss_function=runconfig.criterion_class)\n",
        "\n",
        "_ , _ , dann_accuracy_expw_race, expw_result_dann = test_model_race_expw(model=dann_model_sfew_expw_inference.to(device),\n",
        "                                 device=device,\n",
        "                                 test_loader=EXPW_RACEDS_loader,\n",
        "                                 class_loss_function=runconfig.criterion_class)\n",
        "\n",
        "_ , _ , ewc_dann_accuracy_expw_race, expw_result_ewc_dann = test_model_race_expw(model =ewc_dann_model_sfew_expw_inference.to(device),\n",
        "                                 device=device,\n",
        "                                 test_loader=EXPW_RACEDS_loader,\n",
        "                                 class_loss_function=runconfig.criterion_class)"
      ],
      "metadata": {
        "colab": {
          "base_uri": "https://localhost:8080/"
        },
        "id": "khgvqiZ6kExc",
        "outputId": "471dc5ef-bd59-4d05-9e0f-50db82135b17"
      },
      "execution_count": 59,
      "outputs": [
        {
          "output_type": "stream",
          "name": "stdout",
          "text": [
            "Test / Val: Average loss: 0.5120, Accuracy: 791/8832 (8.96%)\n",
            "\n",
            "Test / Val: Average loss: 0.5120, Accuracy: 791/8832 (8.96%)\n",
            "\n",
            "Test / Val: Average loss: 0.5120, Accuracy: 791/8832 (8.96%)\n",
            "\n"
          ]
        }
      ]
    },
    {
      "cell_type": "code",
      "source": [
        "set(expw_result_non_dann['p_emotion'])"
      ],
      "metadata": {
        "colab": {
          "base_uri": "https://localhost:8080/"
        },
        "id": "spTcYpwejbcQ",
        "outputId": "70d8912d-8036-4cc3-a846-d38aac3b2eff"
      },
      "execution_count": 60,
      "outputs": [
        {
          "output_type": "execute_result",
          "data": {
            "text/plain": [
              "{'Angry', 'Disgust', 'Fear', 'Happy', 'Neutral', 'Sad', 'Surprise'}"
            ]
          },
          "metadata": {},
          "execution_count": 60
        }
      ]
    },
    {
      "cell_type": "code",
      "source": [],
      "metadata": {
        "id": "KPNyAYEkYEuQ"
      },
      "execution_count": 60,
      "outputs": []
    },
    {
      "cell_type": "markdown",
      "metadata": {
        "id": "_fkCOwb5HEHv"
      },
      "source": [
        "### Evaluating SFEW Race test"
      ]
    },
    {
      "cell_type": "code",
      "execution_count": 61,
      "metadata": {
        "colab": {
          "base_uri": "https://localhost:8080/"
        },
        "id": "qwSUjJj8HEHw",
        "outputId": "a7e7453e-7a27-4cf9-9c71-6885471743fc"
      },
      "outputs": [
        {
          "output_type": "stream",
          "name": "stdout",
          "text": [
            "self.BASE_PATH -/content/gdrive/MyDrive/CV_FER/dataset | self.EXTRACT_DIR- /content/gdrive/MyDrive/CV_FER/dataset/RaceTest_SFEW | self.ZIP_FILE_PATH - /content/gdrive/MyDrive/CV_FER/dataset \n"
          ]
        }
      ],
      "source": [
        "#define paths for extraction\n",
        "\n",
        "dataconfig = DataConfig()\n",
        "RACEDS_BASE_PATH = \"/content/gdrive/MyDrive/CV_FER/dataset\"\n",
        "RACEDS_EXTRACT_PATH = \"/content/gdrive/MyDrive/CV_FER/dataset/RaceTest_SFEW\"\n",
        "RACEDS_ZIP_FILE_PATH = \"/content/gdrive/MyDrive/CV_FER/dataset\"\n",
        "RACEDS_labels = ['angry','disgust','fear','happy','neutral','sad','surprise']\n",
        "\n",
        "labels_map={\"0\":\"Angry\",\n",
        "\"1\":\"Disgust\",\n",
        "\"2\":\"Fear\",\n",
        "\"3\":\"Happy\",\n",
        "\"4\":\"Sad\",\n",
        "\"5\":\"Surprise\",\n",
        "\"6\":\"Neutral\"}\n",
        "\n",
        "labels_map2={\"Angry\":\"0\",\n",
        "\"Disgust\": \"1\",\n",
        "\"Fear\":\"2\",\n",
        "\"Happy\":\"3\",\n",
        "\"Sad\":\"4\",\n",
        "\"Surprise\":\"5\",\n",
        "\"Neutral\":\"6\"}\n",
        "\n",
        "labels=list(labels_map.values())\n",
        "\n",
        "RACEDS_dict_dataset = {'TEST_DIR' : RACEDS_EXTRACT_PATH}\n",
        "\n",
        "print(f'self.BASE_PATH -{RACEDS_BASE_PATH } | self.EXTRACT_DIR- {RACEDS_EXTRACT_PATH} | self.ZIP_FILE_PATH - {RACEDS_ZIP_FILE_PATH} ')"
      ]
    },
    {
      "cell_type": "code",
      "execution_count": 62,
      "metadata": {
        "colab": {
          "base_uri": "https://localhost:8080/"
        },
        "id": "d2D4eF9gHEHw",
        "outputId": "736cdff7-66fb-4067-8d41-692c8ba30b2c"
      },
      "outputs": [
        {
          "output_type": "stream",
          "name": "stdout",
          "text": [
            "Dataset already unzipped\n"
          ]
        }
      ],
      "source": [
        "#extract data\n",
        "if not (os.path.exists(RACEDS_EXTRACT_PATH+\"/\"+\"SFEW Val Race\")):\n",
        "  try:\n",
        "      with ZipFile(Path(RACEDS_ZIP_FILE_PATH, \"SFEW Val Race.zip\"), 'r') as zip:\n",
        "          zip.extractall(Path(RACEDS_EXTRACT_PATH))\n",
        "          print(\"Done\")\n",
        "  except Exception as e:\n",
        "      print(e)\n",
        "      print('Failed')\n",
        "else:\n",
        "  print(\"Dataset already unzipped\")"
      ]
    },
    {
      "cell_type": "code",
      "execution_count": 63,
      "metadata": {
        "id": "jEVrz86wHEHx"
      },
      "outputs": [],
      "source": [
        "data_list=[]\n",
        "RACEDS_IM_PATH=RACEDS_EXTRACT_PATH+ \"/SFEW Val Race\"\n",
        "RACEDS_list=os.listdir(RACEDS_IM_PATH)\n",
        "RACEDS_dict={}\n",
        "RACEDS_dict_list=[]\n",
        "for i in RACEDS_list:\n",
        "    race = os.listdir(RACEDS_IM_PATH+\"/\"+i)\n",
        "    RACEDS_dict[i] = {key: None for key in race}\n",
        "\n",
        "for emotion in RACEDS_list:\n",
        "    for race in RACEDS_dict[emotion]:\n",
        "        RACEDS_dict[emotion][race]=os.listdir(RACEDS_IM_PATH+\"/\"+emotion+\"/\"+race)\n",
        "        RACEDS_dict_list+=[[emotion, race, i] for i in os.listdir(RACEDS_IM_PATH+\"/\"+emotion+\"/\"+race)]"
      ]
    },
    {
      "cell_type": "code",
      "execution_count": 64,
      "metadata": {
        "scrolled": true,
        "colab": {
          "base_uri": "https://localhost:8080/"
        },
        "id": "_KlmLQi0HEHy",
        "outputId": "f893d37d-82dd-4217-b9c9-be853d16b81b"
      },
      "outputs": [
        {
          "output_type": "execute_result",
          "data": {
            "text/plain": [
              "[['Angry', 'African', 'Unstoppable_004417618_00000027.png'],\n",
              " ['Angry', 'Asian', 'Hangover_005806334_00000019.png'],\n",
              " ['Angry', 'Asian', 'Hangover_005806334_00000036.png'],\n",
              " ['Angry', 'Asian', 'Hangover_005806334_00000052.png'],\n",
              " ['Angry', 'White', '21_001108440_00000025.png']]"
            ]
          },
          "metadata": {},
          "execution_count": 64
        }
      ],
      "source": [
        "RACEDS_dict_list[:5]"
      ]
    },
    {
      "cell_type": "code",
      "execution_count": 65,
      "metadata": {
        "id": "iWiOyQ4MHEHz"
      },
      "outputs": [],
      "source": [
        "class SFEWDataset_Race(Dataset):\n",
        "    def __init__(self, ds_path, data_list ,transform=None):\n",
        "        self.data = data_list\n",
        "        self.transform = transform\n",
        "        self.path=ds_path\n",
        "        self.image_filepath=''\n",
        "\n",
        "    def __len__(self):\n",
        "        # all_image_list=[]\n",
        "        # label_list=[i for i in os.listdir(self.data) if '.zip' not in i]\n",
        "        # for i in label_list:\n",
        "        #   all_image_list += [[i,j] for j in os.listdir(os.path.join(self.data, i))]\n",
        "        return len(self.data)\n",
        "\n",
        "    def __getitem__(self, idx):\n",
        "        label_name = self.data[idx][0]\n",
        "        race_name = self.data[idx][1]\n",
        "        label_idx = int(labels_map2[self.data[idx][0]])\n",
        "        img_name= self.data[idx][2]\n",
        "\n",
        "        self.image_filepath = os.path.join(self.path, label_name, race_name, img_name)\n",
        "        img = Image.open(self.image_filepath)\n",
        "        if self.transform:\n",
        "            img = self.transform(img)\n",
        "\n",
        "        return img, label_idx, img_name, race_name"
      ]
    },
    {
      "cell_type": "code",
      "execution_count": 66,
      "metadata": {
        "colab": {
          "base_uri": "https://localhost:8080/"
        },
        "id": "l4MLYc7VHEHz",
        "outputId": "49bf049c-122b-4701-a3b3-dd5eaa68563b"
      },
      "outputs": [
        {
          "output_type": "stream",
          "name": "stdout",
          "text": [
            "tensor([[[0., 0., 0.,  ..., 0., 0., 0.],\n",
            "         [0., 0., 0.,  ..., 0., 0., 0.],\n",
            "         [0., 0., 0.,  ..., 0., 0., 0.],\n",
            "         ...,\n",
            "         [0., 0., 0.,  ..., 0., 0., 0.],\n",
            "         [0., 0., 0.,  ..., 0., 0., 0.],\n",
            "         [0., 0., 0.,  ..., 0., 0., 0.]],\n",
            "\n",
            "        [[0., 0., 0.,  ..., 0., 0., 0.],\n",
            "         [0., 0., 0.,  ..., 0., 0., 0.],\n",
            "         [0., 0., 0.,  ..., 0., 0., 0.],\n",
            "         ...,\n",
            "         [0., 0., 0.,  ..., 0., 0., 0.],\n",
            "         [0., 0., 0.,  ..., 0., 0., 0.],\n",
            "         [0., 0., 0.,  ..., 0., 0., 0.]],\n",
            "\n",
            "        [[0., 0., 0.,  ..., 0., 0., 0.],\n",
            "         [0., 0., 0.,  ..., 0., 0., 0.],\n",
            "         [0., 0., 0.,  ..., 0., 0., 0.],\n",
            "         ...,\n",
            "         [0., 0., 0.,  ..., 0., 0., 0.],\n",
            "         [0., 0., 0.,  ..., 0., 0., 0.],\n",
            "         [0., 0., 0.,  ..., 0., 0., 0.]]])\n",
            "0\n",
            "Unstoppable_004417618_00000027.png\n",
            "African\n"
          ]
        }
      ],
      "source": [
        "RACEDS = SFEWDataset_Race(RACEDS_IM_PATH, RACEDS_dict_list, tt.ToTensor())\n",
        "\n",
        "for sample in RACEDS:\n",
        "    print(sample[0])\n",
        "    print(sample[1])\n",
        "    print(sample[2])\n",
        "    print(sample[3])\n",
        "    break"
      ]
    },
    {
      "cell_type": "code",
      "execution_count": 67,
      "metadata": {
        "colab": {
          "base_uri": "https://localhost:8080/"
        },
        "id": "LY0Ty8G6HEH0",
        "outputId": "ae6d3b52-4b1d-435c-988b-5a226f73a2db"
      },
      "outputs": [
        {
          "output_type": "execute_result",
          "data": {
            "text/plain": [
              "436"
            ]
          },
          "metadata": {},
          "execution_count": 67
        }
      ],
      "source": [
        "len(RACEDS)"
      ]
    },
    {
      "cell_type": "code",
      "execution_count": 68,
      "metadata": {
        "id": "XdkRg7nWHEH0"
      },
      "outputs": [],
      "source": [
        "BATCH_SIZE=16\n",
        "SEED=42\n",
        "dataloader_args = dict(shuffle=True, batch_size=BATCH_SIZE, pin_memory=True, num_workers=2)\n",
        "RACEDS_loader = DataLoader(RACEDS, **dataloader_args)"
      ]
    },
    {
      "cell_type": "code",
      "execution_count": 69,
      "metadata": {
        "id": "CLAzV0SwHEH0"
      },
      "outputs": [],
      "source": [
        "#@title Typical Test Function\n",
        "#TODO : move this to common file\n",
        "\n",
        "def get_correct_predictions(prediction, labels):\n",
        "    \"\"\"\n",
        "    Function to return total number of correct predictions\n",
        "    :param prediction: Model predictions on a given sample of data\n",
        "    :param labels: Correct labels of a given sample of data\n",
        "    :return: Number of correct predictions\n",
        "    \"\"\"\n",
        "#     print(prediction.shape, labels.shape)\n",
        "#     print(prediction)\n",
        "#     print(labels)\n",
        "    return prediction.argmax(dim=1).eq(labels).sum().item() #.argmax(dim=1)\n",
        "\n",
        "def test_model_race(model, device, test_loader, mode= 'test',\n",
        "               class_loss_function = nn.CrossEntropyLoss(),\n",
        "               result=pd.DataFrame(columns=['image', 'gt_emotion', 'gt_race', 'p_emotion']) ):\n",
        "    #model, device, test_loader, criterion, result=pd.DataFrame(columns=['image', 'gt_emotion', 'gt_race', 'p_emotion'])\n",
        "    model.eval() # evaluation mode\n",
        "\n",
        "    # variables to track loss and accuracy\n",
        "    test_loss = 0.0\n",
        "    correct = 0\n",
        "\n",
        "   # Disable gradient updation\n",
        "    with torch.no_grad():\n",
        "        # Iterate over each batch and fetch images and labels from the batch\n",
        "        for batch_idx, (data, target, name, race) in enumerate(test_loader):\n",
        "\n",
        "            # Put the images and labels on the selected device\n",
        "            data, target = data.to(device), target.to(device)\n",
        "\n",
        "            # Pass the images to the output and get the model predictions\n",
        "            class_output, _ , _ = model(data)\n",
        "            class_loss = class_loss_function(class_output, target)  # sum up batch loss\n",
        "            test_loss += class_loss.item()\n",
        "            # Sum up batch correct predictions\n",
        "            correct += get_correct_predictions(class_output, target)\n",
        "\n",
        "            for i in range(0,len(name)):\n",
        "                result_row={'image':name[i] ,'gt_emotion':labels_map[str(target[i].item())], 'gt_race':race[i], 'p_emotion':labels_map[str(class_output.argmax(dim=1)[i].item())]}\n",
        "                result=result.append(result_row, ignore_index=True)\n",
        "\n",
        "\n",
        "    # Calculate test loss for a epoch\n",
        "    test_loss /= len(test_loader.dataset)\n",
        "    accuracy = 100. * correct / len(test_loader.dataset)\n",
        "\n",
        "    print('Test / Val: Average loss: {:.4f}, Accuracy: {}/{} ({:.2f}%)\\n'.format(test_loss, correct, len(test_loader.dataset),\n",
        "        accuracy))\n",
        "\n",
        "\n",
        "    return correct, test_loss, accuracy, result"
      ]
    },
    {
      "cell_type": "code",
      "execution_count": 70,
      "metadata": {
        "colab": {
          "base_uri": "https://localhost:8080/"
        },
        "id": "MRKJyluQHEID",
        "outputId": "d0bf955c-79ff-4778-a4d0-2b152671149b"
      },
      "outputs": [
        {
          "output_type": "stream",
          "name": "stdout",
          "text": [
            "Test / Val: Average loss: 0.1583, Accuracy: 77/436 (17.66%)\n",
            "\n",
            "Test / Val: Average loss: 0.1594, Accuracy: 77/436 (17.66%)\n",
            "\n",
            "Test / Val: Average loss: 0.1580, Accuracy: 77/436 (17.66%)\n",
            "\n"
          ]
        }
      ],
      "source": [
        "runconfig = RunConfig()\n",
        "_ , _ , non_dann_accuracy_sfew_race, sfew_result_non_dann = test_model_race(model =non_dann_model_inference.to(device),\n",
        "                                 device=device,\n",
        "                                 test_loader=RACEDS_loader,\n",
        "                                 class_loss_function=runconfig.criterion_class)\n",
        "\n",
        "_ , _ , dann_accuracy_sfew_race, sfew_result_dann = test_model_race(model=dann_model_sfew_expw_inference.to(device),\n",
        "                                 device=device,\n",
        "                                 test_loader=RACEDS_loader,\n",
        "                                 class_loss_function=runconfig.criterion_class)\n",
        "\n",
        "_ , _ , ewc_dann_accuracy_sfew_race, sfew_result_ewc_dann = test_model_race(model =ewc_dann_model_sfew_expw_inference.to(device),\n",
        "                                 device=device,\n",
        "                                 test_loader=RACEDS_loader,\n",
        "                                 class_loss_function=runconfig.criterion_class)"
      ]
    },
    {
      "cell_type": "code",
      "source": [
        "set(sfew_result_non_dann['p_emotion'])"
      ],
      "metadata": {
        "colab": {
          "base_uri": "https://localhost:8080/"
        },
        "id": "r_HyNts_Xm1b",
        "outputId": "741507bc-eacf-40b7-b905-2071c9ebdf26"
      },
      "execution_count": 71,
      "outputs": [
        {
          "output_type": "execute_result",
          "data": {
            "text/plain": [
              "{'Angry', 'Disgust', 'Fear', 'Happy', 'Neutral', 'Sad', 'Surprise'}"
            ]
          },
          "metadata": {},
          "execution_count": 71
        }
      ]
    },
    {
      "cell_type": "code",
      "source": [
        "set(sfew_result_dann['p_emotion'])"
      ],
      "metadata": {
        "colab": {
          "base_uri": "https://localhost:8080/"
        },
        "id": "8j1Ex7m5tAwA",
        "outputId": "2b276fe9-db03-4cd6-f1b7-d82ab68ad76d"
      },
      "execution_count": 72,
      "outputs": [
        {
          "output_type": "execute_result",
          "data": {
            "text/plain": [
              "{'Angry', 'Disgust', 'Fear', 'Happy', 'Neutral', 'Sad', 'Surprise'}"
            ]
          },
          "metadata": {},
          "execution_count": 72
        }
      ]
    },
    {
      "cell_type": "code",
      "source": [
        "set(sfew_result_ewc_dann['p_emotion'])"
      ],
      "metadata": {
        "colab": {
          "base_uri": "https://localhost:8080/"
        },
        "id": "aW4Piy-2tNPP",
        "outputId": "81ce0ad3-eed2-4a0a-b9cc-342669a66d3f"
      },
      "execution_count": 73,
      "outputs": [
        {
          "output_type": "execute_result",
          "data": {
            "text/plain": [
              "{'Angry', 'Disgust', 'Fear', 'Happy', 'Neutral', 'Sad', 'Surprise'}"
            ]
          },
          "metadata": {},
          "execution_count": 73
        }
      ]
    },
    {
      "cell_type": "markdown",
      "source": [
        "### Task accuracy evaluation on race annotated data"
      ],
      "metadata": {
        "id": "zLklTYR5zRXv"
      }
    },
    {
      "cell_type": "code",
      "source": [
        "task_accuracy_d2 = {'SFEW': pd.Series([non_dann_accuracy_sfew_race, dann_accuracy_sfew_race, ewc_dann_accuracy_sfew_race],\n",
        "                      index=['non_dann', 'dann', 'dann_ewc']),\n",
        "     'EXPW': pd.Series([non_dann_accuracy_expw_race, dann_accuracy_expw_race, ewc_dann_accuracy_expw_race],\n",
        "                      index=['non_dann', 'dann', 'dann_ewc'])}\n",
        "\n",
        "task_accuracy_df2 = pd.DataFrame(task_accuracy_d2)"
      ],
      "metadata": {
        "id": "wo1Osl6sz0JW"
      },
      "execution_count": 74,
      "outputs": []
    },
    {
      "cell_type": "code",
      "source": [
        "task_accuracy_df2"
      ],
      "metadata": {
        "colab": {
          "base_uri": "https://localhost:8080/",
          "height": 143
        },
        "outputId": "ca1e4231-18c2-4b5f-af76-2706120fe0ab",
        "id": "zRnDL7k4z0Ju"
      },
      "execution_count": 75,
      "outputs": [
        {
          "output_type": "execute_result",
          "data": {
            "text/plain": [
              "              SFEW      EXPW\n",
              "non_dann  17.66055  8.956069\n",
              "dann      17.66055  8.956069\n",
              "dann_ewc  17.66055  8.956069"
            ],
            "text/html": [
              "\n",
              "  <div id=\"df-93425f09-439e-4b68-9b7e-e73e1950f45d\" class=\"colab-df-container\">\n",
              "    <div>\n",
              "<style scoped>\n",
              "    .dataframe tbody tr th:only-of-type {\n",
              "        vertical-align: middle;\n",
              "    }\n",
              "\n",
              "    .dataframe tbody tr th {\n",
              "        vertical-align: top;\n",
              "    }\n",
              "\n",
              "    .dataframe thead th {\n",
              "        text-align: right;\n",
              "    }\n",
              "</style>\n",
              "<table border=\"1\" class=\"dataframe\">\n",
              "  <thead>\n",
              "    <tr style=\"text-align: right;\">\n",
              "      <th></th>\n",
              "      <th>SFEW</th>\n",
              "      <th>EXPW</th>\n",
              "    </tr>\n",
              "  </thead>\n",
              "  <tbody>\n",
              "    <tr>\n",
              "      <th>non_dann</th>\n",
              "      <td>17.66055</td>\n",
              "      <td>8.956069</td>\n",
              "    </tr>\n",
              "    <tr>\n",
              "      <th>dann</th>\n",
              "      <td>17.66055</td>\n",
              "      <td>8.956069</td>\n",
              "    </tr>\n",
              "    <tr>\n",
              "      <th>dann_ewc</th>\n",
              "      <td>17.66055</td>\n",
              "      <td>8.956069</td>\n",
              "    </tr>\n",
              "  </tbody>\n",
              "</table>\n",
              "</div>\n",
              "    <div class=\"colab-df-buttons\">\n",
              "\n",
              "  <div class=\"colab-df-container\">\n",
              "    <button class=\"colab-df-convert\" onclick=\"convertToInteractive('df-93425f09-439e-4b68-9b7e-e73e1950f45d')\"\n",
              "            title=\"Convert this dataframe to an interactive table.\"\n",
              "            style=\"display:none;\">\n",
              "\n",
              "  <svg xmlns=\"http://www.w3.org/2000/svg\" height=\"24px\" viewBox=\"0 -960 960 960\">\n",
              "    <path d=\"M120-120v-720h720v720H120Zm60-500h600v-160H180v160Zm220 220h160v-160H400v160Zm0 220h160v-160H400v160ZM180-400h160v-160H180v160Zm440 0h160v-160H620v160ZM180-180h160v-160H180v160Zm440 0h160v-160H620v160Z\"/>\n",
              "  </svg>\n",
              "    </button>\n",
              "\n",
              "  <style>\n",
              "    .colab-df-container {\n",
              "      display:flex;\n",
              "      gap: 12px;\n",
              "    }\n",
              "\n",
              "    .colab-df-convert {\n",
              "      background-color: #E8F0FE;\n",
              "      border: none;\n",
              "      border-radius: 50%;\n",
              "      cursor: pointer;\n",
              "      display: none;\n",
              "      fill: #1967D2;\n",
              "      height: 32px;\n",
              "      padding: 0 0 0 0;\n",
              "      width: 32px;\n",
              "    }\n",
              "\n",
              "    .colab-df-convert:hover {\n",
              "      background-color: #E2EBFA;\n",
              "      box-shadow: 0px 1px 2px rgba(60, 64, 67, 0.3), 0px 1px 3px 1px rgba(60, 64, 67, 0.15);\n",
              "      fill: #174EA6;\n",
              "    }\n",
              "\n",
              "    .colab-df-buttons div {\n",
              "      margin-bottom: 4px;\n",
              "    }\n",
              "\n",
              "    [theme=dark] .colab-df-convert {\n",
              "      background-color: #3B4455;\n",
              "      fill: #D2E3FC;\n",
              "    }\n",
              "\n",
              "    [theme=dark] .colab-df-convert:hover {\n",
              "      background-color: #434B5C;\n",
              "      box-shadow: 0px 1px 3px 1px rgba(0, 0, 0, 0.15);\n",
              "      filter: drop-shadow(0px 1px 2px rgba(0, 0, 0, 0.3));\n",
              "      fill: #FFFFFF;\n",
              "    }\n",
              "  </style>\n",
              "\n",
              "    <script>\n",
              "      const buttonEl =\n",
              "        document.querySelector('#df-93425f09-439e-4b68-9b7e-e73e1950f45d button.colab-df-convert');\n",
              "      buttonEl.style.display =\n",
              "        google.colab.kernel.accessAllowed ? 'block' : 'none';\n",
              "\n",
              "      async function convertToInteractive(key) {\n",
              "        const element = document.querySelector('#df-93425f09-439e-4b68-9b7e-e73e1950f45d');\n",
              "        const dataTable =\n",
              "          await google.colab.kernel.invokeFunction('convertToInteractive',\n",
              "                                                    [key], {});\n",
              "        if (!dataTable) return;\n",
              "\n",
              "        const docLinkHtml = 'Like what you see? Visit the ' +\n",
              "          '<a target=\"_blank\" href=https://colab.research.google.com/notebooks/data_table.ipynb>data table notebook</a>'\n",
              "          + ' to learn more about interactive tables.';\n",
              "        element.innerHTML = '';\n",
              "        dataTable['output_type'] = 'display_data';\n",
              "        await google.colab.output.renderOutput(dataTable, element);\n",
              "        const docLink = document.createElement('div');\n",
              "        docLink.innerHTML = docLinkHtml;\n",
              "        element.appendChild(docLink);\n",
              "      }\n",
              "    </script>\n",
              "  </div>\n",
              "\n",
              "\n",
              "<div id=\"df-bc0d3f4a-574b-4e60-be64-314355ae5711\">\n",
              "  <button class=\"colab-df-quickchart\" onclick=\"quickchart('df-bc0d3f4a-574b-4e60-be64-314355ae5711')\"\n",
              "            title=\"Suggest charts\"\n",
              "            style=\"display:none;\">\n",
              "\n",
              "<svg xmlns=\"http://www.w3.org/2000/svg\" height=\"24px\"viewBox=\"0 0 24 24\"\n",
              "     width=\"24px\">\n",
              "    <g>\n",
              "        <path d=\"M19 3H5c-1.1 0-2 .9-2 2v14c0 1.1.9 2 2 2h14c1.1 0 2-.9 2-2V5c0-1.1-.9-2-2-2zM9 17H7v-7h2v7zm4 0h-2V7h2v10zm4 0h-2v-4h2v4z\"/>\n",
              "    </g>\n",
              "</svg>\n",
              "  </button>\n",
              "\n",
              "<style>\n",
              "  .colab-df-quickchart {\n",
              "      --bg-color: #E8F0FE;\n",
              "      --fill-color: #1967D2;\n",
              "      --hover-bg-color: #E2EBFA;\n",
              "      --hover-fill-color: #174EA6;\n",
              "      --disabled-fill-color: #AAA;\n",
              "      --disabled-bg-color: #DDD;\n",
              "  }\n",
              "\n",
              "  [theme=dark] .colab-df-quickchart {\n",
              "      --bg-color: #3B4455;\n",
              "      --fill-color: #D2E3FC;\n",
              "      --hover-bg-color: #434B5C;\n",
              "      --hover-fill-color: #FFFFFF;\n",
              "      --disabled-bg-color: #3B4455;\n",
              "      --disabled-fill-color: #666;\n",
              "  }\n",
              "\n",
              "  .colab-df-quickchart {\n",
              "    background-color: var(--bg-color);\n",
              "    border: none;\n",
              "    border-radius: 50%;\n",
              "    cursor: pointer;\n",
              "    display: none;\n",
              "    fill: var(--fill-color);\n",
              "    height: 32px;\n",
              "    padding: 0;\n",
              "    width: 32px;\n",
              "  }\n",
              "\n",
              "  .colab-df-quickchart:hover {\n",
              "    background-color: var(--hover-bg-color);\n",
              "    box-shadow: 0 1px 2px rgba(60, 64, 67, 0.3), 0 1px 3px 1px rgba(60, 64, 67, 0.15);\n",
              "    fill: var(--button-hover-fill-color);\n",
              "  }\n",
              "\n",
              "  .colab-df-quickchart-complete:disabled,\n",
              "  .colab-df-quickchart-complete:disabled:hover {\n",
              "    background-color: var(--disabled-bg-color);\n",
              "    fill: var(--disabled-fill-color);\n",
              "    box-shadow: none;\n",
              "  }\n",
              "\n",
              "  .colab-df-spinner {\n",
              "    border: 2px solid var(--fill-color);\n",
              "    border-color: transparent;\n",
              "    border-bottom-color: var(--fill-color);\n",
              "    animation:\n",
              "      spin 1s steps(1) infinite;\n",
              "  }\n",
              "\n",
              "  @keyframes spin {\n",
              "    0% {\n",
              "      border-color: transparent;\n",
              "      border-bottom-color: var(--fill-color);\n",
              "      border-left-color: var(--fill-color);\n",
              "    }\n",
              "    20% {\n",
              "      border-color: transparent;\n",
              "      border-left-color: var(--fill-color);\n",
              "      border-top-color: var(--fill-color);\n",
              "    }\n",
              "    30% {\n",
              "      border-color: transparent;\n",
              "      border-left-color: var(--fill-color);\n",
              "      border-top-color: var(--fill-color);\n",
              "      border-right-color: var(--fill-color);\n",
              "    }\n",
              "    40% {\n",
              "      border-color: transparent;\n",
              "      border-right-color: var(--fill-color);\n",
              "      border-top-color: var(--fill-color);\n",
              "    }\n",
              "    60% {\n",
              "      border-color: transparent;\n",
              "      border-right-color: var(--fill-color);\n",
              "    }\n",
              "    80% {\n",
              "      border-color: transparent;\n",
              "      border-right-color: var(--fill-color);\n",
              "      border-bottom-color: var(--fill-color);\n",
              "    }\n",
              "    90% {\n",
              "      border-color: transparent;\n",
              "      border-bottom-color: var(--fill-color);\n",
              "    }\n",
              "  }\n",
              "</style>\n",
              "\n",
              "  <script>\n",
              "    async function quickchart(key) {\n",
              "      const quickchartButtonEl =\n",
              "        document.querySelector('#' + key + ' button');\n",
              "      quickchartButtonEl.disabled = true;  // To prevent multiple clicks.\n",
              "      quickchartButtonEl.classList.add('colab-df-spinner');\n",
              "      try {\n",
              "        const charts = await google.colab.kernel.invokeFunction(\n",
              "            'suggestCharts', [key], {});\n",
              "      } catch (error) {\n",
              "        console.error('Error during call to suggestCharts:', error);\n",
              "      }\n",
              "      quickchartButtonEl.classList.remove('colab-df-spinner');\n",
              "      quickchartButtonEl.classList.add('colab-df-quickchart-complete');\n",
              "    }\n",
              "    (() => {\n",
              "      let quickchartButtonEl =\n",
              "        document.querySelector('#df-bc0d3f4a-574b-4e60-be64-314355ae5711 button');\n",
              "      quickchartButtonEl.style.display =\n",
              "        google.colab.kernel.accessAllowed ? 'block' : 'none';\n",
              "    })();\n",
              "  </script>\n",
              "</div>\n",
              "\n",
              "  <div id=\"id_79aa4c54-6fd6-4b61-90ea-5f8dcf2b1964\">\n",
              "    <style>\n",
              "      .colab-df-generate {\n",
              "        background-color: #E8F0FE;\n",
              "        border: none;\n",
              "        border-radius: 50%;\n",
              "        cursor: pointer;\n",
              "        display: none;\n",
              "        fill: #1967D2;\n",
              "        height: 32px;\n",
              "        padding: 0 0 0 0;\n",
              "        width: 32px;\n",
              "      }\n",
              "\n",
              "      .colab-df-generate:hover {\n",
              "        background-color: #E2EBFA;\n",
              "        box-shadow: 0px 1px 2px rgba(60, 64, 67, 0.3), 0px 1px 3px 1px rgba(60, 64, 67, 0.15);\n",
              "        fill: #174EA6;\n",
              "      }\n",
              "\n",
              "      [theme=dark] .colab-df-generate {\n",
              "        background-color: #3B4455;\n",
              "        fill: #D2E3FC;\n",
              "      }\n",
              "\n",
              "      [theme=dark] .colab-df-generate:hover {\n",
              "        background-color: #434B5C;\n",
              "        box-shadow: 0px 1px 3px 1px rgba(0, 0, 0, 0.15);\n",
              "        filter: drop-shadow(0px 1px 2px rgba(0, 0, 0, 0.3));\n",
              "        fill: #FFFFFF;\n",
              "      }\n",
              "    </style>\n",
              "    <button class=\"colab-df-generate\" onclick=\"generateWithVariable('task_accuracy_df2')\"\n",
              "            title=\"Generate code using this dataframe.\"\n",
              "            style=\"display:none;\">\n",
              "\n",
              "  <svg xmlns=\"http://www.w3.org/2000/svg\" height=\"24px\"viewBox=\"0 0 24 24\"\n",
              "       width=\"24px\">\n",
              "    <path d=\"M7,19H8.4L18.45,9,17,7.55,7,17.6ZM5,21V16.75L18.45,3.32a2,2,0,0,1,2.83,0l1.4,1.43a1.91,1.91,0,0,1,.58,1.4,1.91,1.91,0,0,1-.58,1.4L9.25,21ZM18.45,9,17,7.55Zm-12,3A5.31,5.31,0,0,0,4.9,8.1,5.31,5.31,0,0,0,1,6.5,5.31,5.31,0,0,0,4.9,4.9,5.31,5.31,0,0,0,6.5,1,5.31,5.31,0,0,0,8.1,4.9,5.31,5.31,0,0,0,12,6.5,5.46,5.46,0,0,0,6.5,12Z\"/>\n",
              "  </svg>\n",
              "    </button>\n",
              "    <script>\n",
              "      (() => {\n",
              "      const buttonEl =\n",
              "        document.querySelector('#id_79aa4c54-6fd6-4b61-90ea-5f8dcf2b1964 button.colab-df-generate');\n",
              "      buttonEl.style.display =\n",
              "        google.colab.kernel.accessAllowed ? 'block' : 'none';\n",
              "\n",
              "      buttonEl.onclick = () => {\n",
              "        google.colab.notebook.generateWithVariable('task_accuracy_df2');\n",
              "      }\n",
              "      })();\n",
              "    </script>\n",
              "  </div>\n",
              "\n",
              "    </div>\n",
              "  </div>\n"
            ]
          },
          "metadata": {},
          "execution_count": 75
        }
      ]
    },
    {
      "cell_type": "code",
      "source": [
        "task_accuracy_df2.to_csv('/content/gdrive/MyDrive/CV_FER/results/taskacc_race_{}.csv'.format(datetime.now().strftime(\"%d-%m-%Y_%H:%M\")))"
      ],
      "metadata": {
        "id": "SOAzg8Xgz0Ju"
      },
      "execution_count": 76,
      "outputs": []
    },
    {
      "cell_type": "markdown",
      "source": [
        "### Bias metric evaluation"
      ],
      "metadata": {
        "id": "cGEI3HX6kS3O"
      }
    },
    {
      "cell_type": "markdown",
      "metadata": {
        "id": "490HvNiF0ZdC"
      },
      "source": [
        "### Bias Metrics\n",
        "\n",
        "\n",
        "\n",
        "1.   Demographic Parity\n",
        "2.   Statistical Parity Different\n",
        "3.   Treatment Equality\n",
        "4.   Predictive Rate Parity\n",
        "\n",
        "\n",
        "---\n",
        "\n",
        "\n",
        "5.  Richness\n",
        "6.  Shannon Evenness Index\n",
        "7.  Normalized Standard Deviation\n",
        "8.  Berger-parker index\n",
        "9.  Imbalance Ratio\n",
        "10. Shannon Entropy\n",
        "\n"
      ]
    },
    {
      "cell_type": "code",
      "source": [
        "shutil.copy(\"/content/gdrive/MyDrive/CV_FER/bias_metrics.py\", \"/content\")"
      ],
      "metadata": {
        "colab": {
          "base_uri": "https://localhost:8080/",
          "height": 36
        },
        "id": "nuAYIWvejtXz",
        "outputId": "e3f432d0-c0f6-4fa1-a1f4-fcd99227de90"
      },
      "execution_count": 77,
      "outputs": [
        {
          "output_type": "execute_result",
          "data": {
            "text/plain": [
              "'/content/bias_metrics.py'"
            ],
            "application/vnd.google.colaboratory.intrinsic+json": {
              "type": "string"
            }
          },
          "metadata": {},
          "execution_count": 77
        }
      ]
    },
    {
      "cell_type": "code",
      "source": [
        "import bias_metrics"
      ],
      "metadata": {
        "id": "kNJUm8cwKCF-"
      },
      "execution_count": 78,
      "outputs": []
    },
    {
      "cell_type": "code",
      "source": [
        "print(\"Demographic Parity\")\n",
        "print(bias_metrics.dem_parity(expw_result_non_dann, \"African\", \"White\", \"Angry\"))\n",
        "print(\"\\nStatistical Parity Difference\")\n",
        "print(bias_metrics.SPD(expw_result_non_dann, 'African', 'White', 'Angry'))\n",
        "print(\"\\nRichness\")\n",
        "print(bias_metrics.Richness(expw_result_non_dann, \"Angry\"))\n",
        "print(\"\\nGround truth race\")\n",
        "print(set(expw_result_non_dann['gt_race']))\n",
        "print(\"\\nShannon Entropy\")\n",
        "print(bias_metrics.ShannonEntropy(expw_result_non_dann, set(expw_result_non_dann['gt_race'])))\n",
        "print(\"\\nShannon Evenness Index\")\n",
        "print(bias_metrics.ShannonEvennessIndex(expw_result_non_dann, set(expw_result_non_dann['gt_race']), \"Disgust\"))\n",
        "print(\"\\nNormal Standard Deviation\")\n",
        "print(bias_metrics.NSD(expw_result_non_dann, set(expw_result_non_dann['gt_race'])))\n",
        "print(\"\\nImbalance Ratio\")\n",
        "print(bias_metrics.ImbalanceRatio(expw_result_non_dann, set(expw_result_non_dann['gt_race'])))"
      ],
      "metadata": {
        "colab": {
          "base_uri": "https://localhost:8080/"
        },
        "id": "5q7Lc_FYKGWc",
        "outputId": "ab2c7185-ff61-4e3c-8d71-52afffaad11a"
      },
      "execution_count": 79,
      "outputs": [
        {
          "output_type": "stream",
          "name": "stdout",
          "text": [
            "Demographic Parity\n",
            "16.53409090909091\n",
            "\n",
            "Statistical Parity Difference\n",
            "1.230254091300603\n",
            "\n",
            "Richness\n",
            "6\n",
            "\n",
            "Ground truth race\n",
            "{'Asian', 'African', 'Middle Eastern', 'Indian', 'White', 'Black', 'Latino'}\n",
            "\n",
            "Shannon Entropy\n",
            "1.195608916066903\n",
            "\n",
            "Shannon Evenness Index\n",
            "0.2391217832133806\n",
            "\n",
            "Normal Standard Deviation\n",
            "0.16141252539609852\n",
            "\n",
            "Imbalance Ratio\n",
            "28.59605911330049\n"
          ]
        }
      ]
    },
    {
      "cell_type": "code",
      "source": [
        "def bias_metrics_calc(results_table, race1=\"African\", race2=\"White\", emotion=\"Angry\"):\n",
        "  metrics=[]\n",
        "\n",
        "  metrics.append([\"Demographic Parity\", bias_metrics.dem_parity(results_table, race1, race2, emotion)] )\n",
        "\n",
        "  metrics.append([\"Statistical Parity Difference\", bias_metrics.SPD(results_table, race1, race2, emotion)])\n",
        "\n",
        "  metrics.append([\"Richness\",bias_metrics.Richness(results_table, emotion) ])\n",
        "\n",
        "  print(\"\\n<debug>...Ground truth races\")\n",
        "  print(set(results_table['gt_race']))\n",
        "\n",
        "  metrics.append([\"Shannon Entropy\",bias_metrics.ShannonEntropy(results_table, set(results_table['gt_race'])) ])\n",
        "\n",
        "  metrics.append([\"Shannon Evenness Index\", bias_metrics.ShannonEvennessIndex(results_table, set(results_table['gt_race']), emotion)])\n",
        "\n",
        "  metrics.append([\"Normal Standard Deviation\",bias_metrics.NSD(results_table, set(results_table['gt_race']))])\n",
        "\n",
        "  metrics.append([\"Imbalance Ratio\",bias_metrics.ImbalanceRatio(results_table, set(results_table['gt_race']))])\n",
        "\n",
        "  return metrics"
      ],
      "metadata": {
        "id": "OtJ6hIL8fTlD"
      },
      "execution_count": 80,
      "outputs": []
    },
    {
      "cell_type": "markdown",
      "source": [
        "### EXPW bias metrics"
      ],
      "metadata": {
        "id": "kWzAObkdijEi"
      }
    },
    {
      "cell_type": "code",
      "source": [
        "expw_non_dann_metrics=bias_metrics_calc(expw_result_non_dann)\n",
        "expw_non_dann_metrics"
      ],
      "metadata": {
        "colab": {
          "base_uri": "https://localhost:8080/"
        },
        "id": "EsYXtCcQg48s",
        "outputId": "269d47b2-3995-4b44-e71f-a4b3e22c1661"
      },
      "execution_count": 81,
      "outputs": [
        {
          "output_type": "stream",
          "name": "stdout",
          "text": [
            "\n",
            "<debug>...Ground truth races\n",
            "{'Asian', 'African', 'Middle Eastern', 'Indian', 'White', 'Black', 'Latino'}\n"
          ]
        },
        {
          "output_type": "execute_result",
          "data": {
            "text/plain": [
              "[['Demographic Parity', 16.53409090909091],\n",
              " ['Statistical Parity Difference', 1.230254091300603],\n",
              " ['Richness', 6],\n",
              " ['Shannon Entropy', 1.195608916066903],\n",
              " ['Shannon Evenness Index', 0.19926815267781717],\n",
              " ['Normal Standard Deviation', 0.16141252539609852],\n",
              " ['Imbalance Ratio', 28.59605911330049]]"
            ]
          },
          "metadata": {},
          "execution_count": 81
        }
      ]
    },
    {
      "cell_type": "code",
      "source": [
        "expw_dann_metrics=bias_metrics_calc(expw_result_dann)\n",
        "expw_dann_metrics"
      ],
      "metadata": {
        "colab": {
          "base_uri": "https://localhost:8080/"
        },
        "id": "_BI0b7P8hO9y",
        "outputId": "8c58b0c4-7985-41c2-cc17-4ecdfb7c45f5"
      },
      "execution_count": 82,
      "outputs": [
        {
          "output_type": "stream",
          "name": "stdout",
          "text": [
            "\n",
            "<debug>...Ground truth races\n",
            "{'Asian', 'African', 'White', 'Indian', 'Middle Eastern', 'Black', 'Latino'}\n"
          ]
        },
        {
          "output_type": "execute_result",
          "data": {
            "text/plain": [
              "[['Demographic Parity', 16.53409090909091],\n",
              " ['Statistical Parity Difference', 1.230254091300603],\n",
              " ['Richness', 6],\n",
              " ['Shannon Entropy', 1.195608916066903],\n",
              " ['Shannon Evenness Index', 0.19926815267781717],\n",
              " ['Normal Standard Deviation', 0.16279127381486078],\n",
              " ['Imbalance Ratio', 28.59605911330049]]"
            ]
          },
          "metadata": {},
          "execution_count": 82
        }
      ]
    },
    {
      "cell_type": "code",
      "source": [
        "expw_ewc_dann_metrics=bias_metrics_calc(expw_result_ewc_dann)\n",
        "expw_ewc_dann_metrics"
      ],
      "metadata": {
        "colab": {
          "base_uri": "https://localhost:8080/"
        },
        "id": "q9xRoqfmhUKx",
        "outputId": "16160e29-27b0-40f7-c28b-71c44baea19a"
      },
      "execution_count": 83,
      "outputs": [
        {
          "output_type": "stream",
          "name": "stdout",
          "text": [
            "\n",
            "<debug>...Ground truth races\n",
            "{'Asian', 'African', 'Middle Eastern', 'Indian', 'White', 'Black', 'Latino'}\n"
          ]
        },
        {
          "output_type": "execute_result",
          "data": {
            "text/plain": [
              "[['Demographic Parity', 16.53409090909091],\n",
              " ['Statistical Parity Difference', 1.230254091300603],\n",
              " ['Richness', 6],\n",
              " ['Shannon Entropy', 1.195608916066903],\n",
              " ['Shannon Evenness Index', 0.19926815267781717],\n",
              " ['Normal Standard Deviation', 0.16332122568859841],\n",
              " ['Imbalance Ratio', 28.59605911330049]]"
            ]
          },
          "metadata": {},
          "execution_count": 83
        }
      ]
    },
    {
      "cell_type": "markdown",
      "source": [
        "### SFEW bias metrics"
      ],
      "metadata": {
        "id": "4M7hT13ximVE"
      }
    },
    {
      "cell_type": "code",
      "source": [
        "sfew_non_dann_metrics=bias_metrics_calc(sfew_result_non_dann)\n",
        "sfew_non_dann_metrics"
      ],
      "metadata": {
        "colab": {
          "base_uri": "https://localhost:8080/"
        },
        "outputId": "6abfa551-e526-41de-dda1-2ab233d613ba",
        "id": "AdFk3tuwimVg"
      },
      "execution_count": 84,
      "outputs": [
        {
          "output_type": "stream",
          "name": "stdout",
          "text": [
            "\n",
            "<debug>...Ground truth races\n",
            "{'Asian', 'White', 'Indian', 'African'}\n"
          ]
        },
        {
          "output_type": "execute_result",
          "data": {
            "text/plain": [
              "[['Demographic Parity', 68.66666666666667],\n",
              " ['Statistical Parity Difference', 1.6423948220064726],\n",
              " ['Richness', 3],\n",
              " ['Shannon Entropy', 0.25292480390791305],\n",
              " ['Shannon Evenness Index', 0.08430826796930435],\n",
              " ['Normal Standard Deviation', 0.29430297552154655],\n",
              " ['Imbalance Ratio', 412.0]]"
            ]
          },
          "metadata": {},
          "execution_count": 84
        }
      ]
    },
    {
      "cell_type": "code",
      "source": [
        "sfew_dann_metrics=bias_metrics_calc(sfew_result_dann)\n",
        "sfew_dann_metrics"
      ],
      "metadata": {
        "colab": {
          "base_uri": "https://localhost:8080/"
        },
        "outputId": "4373d9b0-d986-4abe-f884-61591d0b9da0",
        "id": "08X2TMiFimVg"
      },
      "execution_count": 85,
      "outputs": [
        {
          "output_type": "stream",
          "name": "stdout",
          "text": [
            "\n",
            "<debug>...Ground truth races\n",
            "{'Asian', 'White', 'Indian', 'African'}\n"
          ]
        },
        {
          "output_type": "execute_result",
          "data": {
            "text/plain": [
              "[['Demographic Parity', 68.66666666666667],\n",
              " ['Statistical Parity Difference', 1.6423948220064726],\n",
              " ['Richness', 3],\n",
              " ['Shannon Entropy', 0.25292480390791305],\n",
              " ['Shannon Evenness Index', 0.08430826796930435],\n",
              " ['Normal Standard Deviation', 0.29430297552154655],\n",
              " ['Imbalance Ratio', 412.0]]"
            ]
          },
          "metadata": {},
          "execution_count": 85
        }
      ]
    },
    {
      "cell_type": "code",
      "source": [
        "sfew_ewc_dann_metrics=bias_metrics_calc(sfew_result_ewc_dann)\n",
        "sfew_ewc_dann_metrics"
      ],
      "metadata": {
        "colab": {
          "base_uri": "https://localhost:8080/"
        },
        "outputId": "8041eb58-66d6-45c9-a0f1-e1068d9bbdf2",
        "id": "vmmacW8cimVg"
      },
      "execution_count": 86,
      "outputs": [
        {
          "output_type": "stream",
          "name": "stdout",
          "text": [
            "\n",
            "<debug>...Ground truth races\n",
            "{'Asian', 'White', 'Indian', 'African'}\n"
          ]
        },
        {
          "output_type": "execute_result",
          "data": {
            "text/plain": [
              "[['Demographic Parity', 68.66666666666667],\n",
              " ['Statistical Parity Difference', 1.6423948220064726],\n",
              " ['Richness', 3],\n",
              " ['Shannon Entropy', 0.25292480390791305],\n",
              " ['Shannon Evenness Index', 0.08430826796930435],\n",
              " ['Normal Standard Deviation', 0.29430297552154655],\n",
              " ['Imbalance Ratio', 412.0]]"
            ]
          },
          "metadata": {},
          "execution_count": 86
        }
      ]
    },
    {
      "cell_type": "markdown",
      "metadata": {
        "id": "-Q6DCuJsHEH0"
      },
      "source": [
        "### Biased Result evaluation"
      ]
    },
    {
      "cell_type": "markdown",
      "metadata": {
        "id": "0xkPCSWLHEIE"
      },
      "source": [
        "### Bias Metrics\n",
        "\n",
        "\n",
        "\n",
        "1.   Demographic Parity\n",
        "2.   Statistical Parity Different\n",
        "3.   Treatment Equality - Not implemented\n",
        "4.   Predictive Rate Parity - Not implemented\n",
        "\n",
        "\n",
        "---\n",
        "\n",
        "\n",
        "5.  Richness\n",
        "6.  Shannon Evenness Index\n",
        "7.  Normalized Standard Deviation\n",
        "8.  Berger-parker index\n",
        "9.  Imbalance Ratio\n",
        "10. Shannon Entropy\n",
        "\n"
      ]
    },
    {
      "cell_type": "code",
      "execution_count": null,
      "metadata": {
        "id": "36FbY-NjHEIE"
      },
      "outputs": [],
      "source": [
        "def dem_parity(df, race1, race2, emotion):\n",
        "    numerator=0\n",
        "    ct_race_and_emotion=0\n",
        "    ct_race=0\n",
        "    for index, row in df.iterrows():\n",
        "        if(row['gt_race']==race1):\n",
        "            ct_race+=1\n",
        "        if(row['p_emotion']==emotion):\n",
        "            ct_race_and_emotion+=1\n",
        "    if(ct_race!=0):\n",
        "        numerator = ct_race_and_emotion/ct_race\n",
        "\n",
        "    denominator=0\n",
        "    ct_race_and_emotion=0\n",
        "    ct_race=0\n",
        "    for index, row in df.iterrows():\n",
        "        if(row['gt_race']==race2):\n",
        "            ct_race+=1\n",
        "            if(row['p_emotion']==emotion):\n",
        "                ct_race_and_emotion+=1\n",
        "    if(ct_race!=0):\n",
        "        denominator = ct_race_and_emotion/ct_race\n",
        "    if(denominator==0):\n",
        "        return 0\n",
        "    return numerator/denominator"
      ]
    },
    {
      "cell_type": "code",
      "source": [
        "dem_parity(result_non_dann_expw, 'Asian', 'White', 'Angry')"
      ],
      "metadata": {
        "colab": {
          "base_uri": "https://localhost:8080/"
        },
        "id": "uR5-mabk3B8E",
        "outputId": "b79b141d-7812-4f0d-a8a6-a87da5807897"
      },
      "execution_count": null,
      "outputs": [
        {
          "output_type": "execute_result",
          "data": {
            "text/plain": [
              "7.66630666477192"
            ]
          },
          "metadata": {},
          "execution_count": 86
        }
      ]
    },
    {
      "cell_type": "code",
      "execution_count": null,
      "metadata": {
        "id": "WtEkrin5HEIE",
        "outputId": "aebaf518-7b51-4e47-8bed-fa509ed1c535"
      },
      "outputs": [
        {
          "data": {
            "text/plain": [
              "25.07826086956522"
            ]
          },
          "execution_count": 41,
          "metadata": {},
          "output_type": "execute_result"
        }
      ],
      "source": [
        "dem_parity(result_non_dann, 'Asian', 'White', 'Angry')"
      ]
    },
    {
      "cell_type": "markdown",
      "metadata": {
        "id": "ahriYBOZHEIF"
      },
      "source": [
        "### Statistical Parity Difference (SPD)\n",
        "\n",
        "SPD = P(Emotion = Angry | Race = Asian)-P(Emotion = Angry | Race = White)\n",
        "\n",
        "\n",
        "* Formula\n",
        "\n",
        "    P (Emotion = Angry | Race = Asian) =\n",
        "\n",
        "    (num of images that where gt_race is Asian **and** p_emotion is Angry /\n",
        "\n",
        "    num of images that where gt_race is Asian)"
      ]
    },
    {
      "cell_type": "code",
      "execution_count": null,
      "metadata": {
        "id": "oBWDhMAEHEIF"
      },
      "outputs": [],
      "source": [
        "def SPD(df, race1, race2, emotion):\n",
        "    term1=0\n",
        "    ct_race_and_emotion=0\n",
        "    ct_race=0\n",
        "    for index, row in df.iterrows():\n",
        "        if(row['gt_race']==race1):\n",
        "            ct_race+=1\n",
        "        if(row['p_emotion']==emotion):\n",
        "            ct_race_and_emotion+=1\n",
        "    if(ct_race!=0):\n",
        "        term1 = ct_race_and_emotion/ct_race\n",
        "\n",
        "    term2=0\n",
        "    ct_race_and_emotion=0\n",
        "    ct_race=0\n",
        "    for index, row in df.iterrows():\n",
        "        if(row['gt_race']==race2):\n",
        "            ct_race+=1\n",
        "        if(row['p_emotion']==emotion):\n",
        "            ct_race_and_emotion+=1\n",
        "    if(ct_race!=0):\n",
        "        term2 = ct_race_and_emotion/ct_race\n",
        "\n",
        "    return term1-term2"
      ]
    },
    {
      "cell_type": "code",
      "execution_count": null,
      "metadata": {
        "outputId": "46a37356-758a-4161-8be8-1b9a8b3a339b",
        "colab": {
          "base_uri": "https://localhost:8080/"
        },
        "id": "hGpnlU3y3K4h"
      },
      "outputs": [
        {
          "output_type": "execute_result",
          "data": {
            "text/plain": [
              "2.5257352036421805"
            ]
          },
          "metadata": {},
          "execution_count": 88
        }
      ],
      "source": [
        "SPD(result_non_dann_expw, 'African', 'White', 'Angry')"
      ]
    },
    {
      "cell_type": "code",
      "execution_count": null,
      "metadata": {
        "id": "RNwvqTghHEIG",
        "outputId": "2c408125-9a53-4396-c356-112ee5ef87ca"
      },
      "outputs": [
        {
          "data": {
            "text/plain": [
              "19.54449838187702"
            ]
          },
          "execution_count": 45,
          "metadata": {},
          "output_type": "execute_result"
        }
      ],
      "source": [
        "SPD(result_non_dann, 'African', 'White', 'Angry')"
      ]
    },
    {
      "cell_type": "markdown",
      "metadata": {
        "id": "HuwDqG9lHEIG"
      },
      "source": [
        "Richness R(X) ?\n",
        "    \n",
        "> Formula\n",
        "\n",
        "    R = | { g ∈ G | ng > 0 } |\n"
      ]
    },
    {
      "cell_type": "code",
      "execution_count": null,
      "metadata": {
        "id": "yuI3HqoFHEIG"
      },
      "outputs": [],
      "source": [
        "def Richness(df, emotion):\n",
        "    r=0\n",
        "    races=[]\n",
        "    for index, row in df.iterrows():\n",
        "        if(row['gt_emotion'] == emotion):\n",
        "            if(row['gt_race'] not in races):\n",
        "                races.append(row['gt_race'])\n",
        "    return len(races)"
      ]
    },
    {
      "cell_type": "code",
      "source": [
        "Richness(result_non_dann_expw, \"Angry\")"
      ],
      "metadata": {
        "colab": {
          "base_uri": "https://localhost:8080/"
        },
        "id": "KNHXESy_3dyS",
        "outputId": "fe716863-434a-4893-9493-6282c1057ac2"
      },
      "execution_count": null,
      "outputs": [
        {
          "output_type": "execute_result",
          "data": {
            "text/plain": [
              "6"
            ]
          },
          "metadata": {},
          "execution_count": 90
        }
      ]
    },
    {
      "cell_type": "code",
      "execution_count": null,
      "metadata": {
        "id": "mHyrBbGPHEIH",
        "outputId": "e7e398fc-f890-41a9-ab89-243a34efb205"
      },
      "outputs": [
        {
          "data": {
            "text/plain": [
              "3"
            ]
          },
          "execution_count": 48,
          "metadata": {},
          "output_type": "execute_result"
        }
      ],
      "source": [
        "Richness(result_non_dann, \"Angry\")"
      ]
    },
    {
      "cell_type": "markdown",
      "metadata": {
        "id": "VIjhYIfZHEII"
      },
      "source": [
        "\n",
        "\n",
        "Shannon Evenness Index(SEI) or Shannon Entropy H(X) ?\n",
        "    \n",
        "> Formula\n",
        "\n",
        "    SEI = H(X) / ln(richness)\n",
        "\n",
        "    H(x) = -sum( p(each race) x ln( p(each race) ) )\n",
        "\n",
        "    p(each race) = n(race = each) / n(race = all)"
      ]
    },
    {
      "cell_type": "code",
      "execution_count": null,
      "metadata": {
        "id": "VM-QgV_rHEIJ"
      },
      "outputs": [],
      "source": [
        "def ShannonEntropy(df, races):\n",
        "    term1=0\n",
        "    ct_race=0\n",
        "    ct_all=0\n",
        "    for race1 in races:\n",
        "        for index, row in df.iterrows():\n",
        "            if(row['gt_race']==race1):\n",
        "                ct_race+=1\n",
        "            ct_all+=1\n",
        "        p=ct_race/ct_all\n",
        "        term1 += p * math.log(p) #check how to use natural log\n",
        "        ct_race=0\n",
        "        ct_all=0\n",
        "    term1= -1 * term1\n",
        "    return term1\n",
        "\n",
        "def ShannonEvennessIndex(df, races, emotion):\n",
        "    term1 = ShannonEntropy(df, races)\n",
        "    term2 = Richness(df, emotion)\n",
        "    return term1/term2\n",
        "\n",
        "def ShannonEvennessIndexAvg(df, races, emotions):\n",
        "    sum = 0\n",
        "    for emotion in emotions:\n",
        "        sum += ShannonEvennessIndex(result, races, emotion)\n",
        "    return sum / len(emotions)"
      ]
    },
    {
      "cell_type": "code",
      "source": [
        "set(result_non_dann_expw['gt_race'])"
      ],
      "metadata": {
        "colab": {
          "base_uri": "https://localhost:8080/"
        },
        "id": "TkV2vV2837Sm",
        "outputId": "1658dd60-db11-4e35-91b4-2a4a459d9b75"
      },
      "execution_count": null,
      "outputs": [
        {
          "output_type": "execute_result",
          "data": {
            "text/plain": [
              "{'African', 'Asian', 'Black', 'Indian', 'Latino', 'Middle Eastern', 'White'}"
            ]
          },
          "metadata": {},
          "execution_count": 92
        }
      ]
    },
    {
      "cell_type": "code",
      "execution_count": null,
      "metadata": {
        "id": "N9jvOu7VHEIJ",
        "outputId": "af721764-c6b5-4795-e88d-96539000c869"
      },
      "outputs": [
        {
          "data": {
            "text/plain": [
              "{'African', 'Asian', 'Indian', 'White'}"
            ]
          },
          "execution_count": 53,
          "metadata": {},
          "output_type": "execute_result"
        }
      ],
      "source": [
        "set(result_non_dann['gt_race'])"
      ]
    },
    {
      "cell_type": "code",
      "source": [
        "ShannonEntropy(result_non_dann_expw, set(result_non_dann['gt_race']))"
      ],
      "metadata": {
        "colab": {
          "base_uri": "https://localhost:8080/"
        },
        "id": "ec6fvdqH4Itt",
        "outputId": "1774dad2-f464-4a5a-ce8b-95f31615b700"
      },
      "execution_count": null,
      "outputs": [
        {
          "output_type": "execute_result",
          "data": {
            "text/plain": [
              "1.195608916066903"
            ]
          },
          "metadata": {},
          "execution_count": 93
        }
      ]
    },
    {
      "cell_type": "code",
      "execution_count": null,
      "metadata": {
        "id": "cceT_GsvHEIJ",
        "outputId": "1f96ef03-df94-4c24-b991-47fcfe83a267"
      },
      "outputs": [
        {
          "data": {
            "text/plain": [
              "0.25292480390791305"
            ]
          },
          "execution_count": 55,
          "metadata": {},
          "output_type": "execute_result"
        }
      ],
      "source": [
        "ShannonEntropy(result_non_dann, set(result_non_dann['gt_race']))"
      ]
    },
    {
      "cell_type": "code",
      "source": [
        "ShannonEvennessIndex(result_non_dann_expw, set(result_non_dann_expw['gt_race']), \"Disgust\")"
      ],
      "metadata": {
        "colab": {
          "base_uri": "https://localhost:8080/"
        },
        "id": "gCei2HYF4Ujx",
        "outputId": "921b62b8-b5c5-4111-de54-5b862f2cc1dd"
      },
      "execution_count": null,
      "outputs": [
        {
          "output_type": "execute_result",
          "data": {
            "text/plain": [
              "0.2391217832133806"
            ]
          },
          "metadata": {},
          "execution_count": 95
        }
      ]
    },
    {
      "cell_type": "code",
      "execution_count": null,
      "metadata": {
        "id": "tHbeJhKlHEIK",
        "outputId": "a075182a-4f11-4331-fdbe-5a7d7dd84081"
      },
      "outputs": [
        {
          "data": {
            "text/plain": [
              "0.12646240195395653"
            ]
          },
          "execution_count": 56,
          "metadata": {},
          "output_type": "execute_result"
        }
      ],
      "source": [
        "ShannonEvennessIndex(result_non_dann, set(result_non_dann['gt_race']), \"Disgust\")"
      ]
    },
    {
      "cell_type": "markdown",
      "metadata": {
        "id": "HTWFOlTGHEIK"
      },
      "source": [
        "Normalized Standard Deviation (NSD)\n",
        "    \n",
        "![Screenshot 2023-12-03 at 8.07.13 PM.png](data:image/png;base64,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)\n",
        "\n",
        "\n",
        "\n",
        "> Formula\n",
        "\n",
        "    |G| = total number of races\n",
        "\n",
        "    p(each race) = n( race = each ) / n(race = all )\n",
        "\n",
        "    Summation [ p(race = each) - mean(p(races))^2 ]"
      ]
    },
    {
      "cell_type": "code",
      "execution_count": null,
      "metadata": {
        "id": "9GYooJlnHEIM"
      },
      "outputs": [],
      "source": [
        "def NSD(df, races):\n",
        "    G=0\n",
        "    races_df=[]\n",
        "    p_values=[]\n",
        "    ct_race=0\n",
        "    ct_all=0\n",
        "\n",
        "    for index, row in df.iterrows():\n",
        "        if(row['gt_race'] not in races_df):\n",
        "            races_df.append(row['gt_race'])\n",
        "    G=len(races_df)\n",
        "\n",
        "    for race1 in races_df:\n",
        "        for index, row in df.iterrows():\n",
        "            if(row['gt_race']==race1):\n",
        "                ct_race+=1\n",
        "            ct_all+=1\n",
        "        p=ct_race/ct_all\n",
        "        p_values.append(p)\n",
        "    p_mean= sum(p_values) / len(p_values)\n",
        "\n",
        "    term1 = 0\n",
        "    term1 = G / math.sqrt(G-1)\n",
        "\n",
        "    term2 = 0\n",
        "    for p in p_values:\n",
        "        term2 = (p - p_mean)*(p - p_mean)\n",
        "    term3 = term2/G\n",
        "\n",
        "    return term1*math.sqrt(term3)"
      ]
    },
    {
      "cell_type": "code",
      "source": [
        "NSD(result_non_dann_expw, set(result_non_dann_expw['gt_race']))"
      ],
      "metadata": {
        "colab": {
          "base_uri": "https://localhost:8080/"
        },
        "id": "2Q3xkUZC5FRU",
        "outputId": "6aa9cce1-8089-4f64-e8bf-8ef54b4c7ec6"
      },
      "execution_count": null,
      "outputs": [
        {
          "output_type": "execute_result",
          "data": {
            "text/plain": [
              "0.009477943836674196"
            ]
          },
          "metadata": {},
          "execution_count": 97
        }
      ]
    },
    {
      "cell_type": "code",
      "execution_count": null,
      "metadata": {
        "id": "8IsjKlA-HEIM",
        "outputId": "a7858271-9083-42aa-c821-59c2351716c2"
      },
      "outputs": [
        {
          "data": {
            "text/plain": [
              "0.29430297552154655"
            ]
          },
          "execution_count": 60,
          "metadata": {},
          "output_type": "execute_result"
        }
      ],
      "source": [
        "NSD(result_non_dann, set(result_non_dann['gt_race']))"
      ]
    },
    {
      "cell_type": "markdown",
      "metadata": {
        "id": "hdn6_aoAHEIM"
      },
      "source": [
        "Imbalance Ratio(IR)\n",
        "\n",
        "> Formula\n",
        "\n",
        "```\n",
        "max ( n(each race) ) / min ( n(each race) )\n",
        "\n",
        "```\n"
      ]
    },
    {
      "cell_type": "code",
      "execution_count": null,
      "metadata": {
        "id": "E14SL4TtHEIM"
      },
      "outputs": [],
      "source": [
        "def ImbalanceRatio(df, races):\n",
        "    races_list=[]\n",
        "    races_dict={}\n",
        "    i=0\n",
        "    for index, row in df.iterrows():\n",
        "        races_dict[row['gt_race']]=0\n",
        "\n",
        "    for index, row in df.iterrows():\n",
        "        races_dict[row['gt_race']]+=1\n",
        "\n",
        "    return max(races_dict.values())/min(races_dict.values())"
      ]
    },
    {
      "cell_type": "code",
      "source": [
        "ImbalanceRatio(result_non_dann_expw, set(result_non_dann_expw['gt_race']))"
      ],
      "metadata": {
        "colab": {
          "base_uri": "https://localhost:8080/"
        },
        "id": "eI8ezg_R5VB2",
        "outputId": "c3e18f75-e061-4d99-b042-bd44a690ef2f"
      },
      "execution_count": null,
      "outputs": [
        {
          "output_type": "execute_result",
          "data": {
            "text/plain": [
              "28.59605911330049"
            ]
          },
          "metadata": {},
          "execution_count": 99
        }
      ]
    },
    {
      "cell_type": "code",
      "execution_count": null,
      "metadata": {
        "id": "kVfOpImYHEIN",
        "outputId": "193a151d-96bc-48fd-859d-f53ed08533fc"
      },
      "outputs": [
        {
          "data": {
            "text/plain": [
              "412.0"
            ]
          },
          "execution_count": 62,
          "metadata": {},
          "output_type": "execute_result"
        }
      ],
      "source": [
        "ImbalanceRatio(result_non_dann, set(result_non_dann['gt_race']))"
      ]
    },
    {
      "cell_type": "markdown",
      "metadata": {
        "id": "m13zTP5EHEIN"
      },
      "source": [
        "### Peeyush Sir code"
      ]
    },
    {
      "cell_type": "code",
      "execution_count": null,
      "metadata": {
        "id": "186HEYgTHEIN",
        "outputId": "167c545d-553f-487d-e3de-60f6decb6363"
      },
      "outputs": [
        {
          "name": "stdout",
          "output_type": "stream",
          "text": [
            "Empty DataFrame\n",
            "Columns: [model_class, trained_on, accuracy_source, accuracy_target]\n",
            "Index: []\n",
            "{'model_class': 'Non_DANN', 'trained_on': 'sfew source', 'accuracy_source': 22.01834862385321, 'accuracy_target': 15.205580029368576}\n",
            "{'model_class': 'DANN', 'trained_on': 'sfew source + expw target', 'accuracy_source': 23.853211009174313, 'accuracy_target': 15.697503671071953}\n"
          ]
        },
        {
          "name": "stderr",
          "output_type": "stream",
          "text": [
            "C:\\Users\\Admin\\AppData\\Local\\Temp\\ipykernel_14332\\4160264040.py:17: FutureWarning: The behavior of DataFrame concatenation with empty or all-NA entries is deprecated. In a future version, this will no longer exclude empty or all-NA columns when determining the result dtypes. To retain the old behavior, exclude the relevant entries before the concat operation.\n",
            "  df_nice_results = pd.concat([df_nice_results, pd.DataFrame(dict_input, index=[0])], ignore_index=True)\n"
          ]
        },
        {
          "data": {
            "text/html": [
              "<div>\n",
              "<style scoped>\n",
              "    .dataframe tbody tr th:only-of-type {\n",
              "        vertical-align: middle;\n",
              "    }\n",
              "\n",
              "    .dataframe tbody tr th {\n",
              "        vertical-align: top;\n",
              "    }\n",
              "\n",
              "    .dataframe thead th {\n",
              "        text-align: right;\n",
              "    }\n",
              "</style>\n",
              "<table border=\"1\" class=\"dataframe\">\n",
              "  <thead>\n",
              "    <tr style=\"text-align: right;\">\n",
              "      <th></th>\n",
              "      <th>model_class</th>\n",
              "      <th>trained_on</th>\n",
              "      <th>accuracy_source</th>\n",
              "      <th>accuracy_target</th>\n",
              "    </tr>\n",
              "  </thead>\n",
              "  <tbody>\n",
              "    <tr>\n",
              "      <th>0</th>\n",
              "      <td>Non_DANN</td>\n",
              "      <td>sfew source</td>\n",
              "      <td>22.018349</td>\n",
              "      <td>15.205580</td>\n",
              "    </tr>\n",
              "    <tr>\n",
              "      <th>1</th>\n",
              "      <td>DANN</td>\n",
              "      <td>sfew source + expw target</td>\n",
              "      <td>23.853211</td>\n",
              "      <td>15.697504</td>\n",
              "    </tr>\n",
              "    <tr>\n",
              "      <th>2</th>\n",
              "      <td>EWC_DANN</td>\n",
              "      <td>sfew source + expw target</td>\n",
              "      <td>23.394495</td>\n",
              "      <td>16.563877</td>\n",
              "    </tr>\n",
              "  </tbody>\n",
              "</table>\n",
              "</div>"
            ],
            "text/plain": [
              "  model_class                 trained_on  accuracy_source  accuracy_target\n",
              "0    Non_DANN                sfew source        22.018349        15.205580\n",
              "1        DANN  sfew source + expw target        23.853211        15.697504\n",
              "2    EWC_DANN  sfew source + expw target        23.394495        16.563877"
            ]
          },
          "execution_count": 31,
          "metadata": {},
          "output_type": "execute_result"
        }
      ],
      "source": [
        "source= 'sfew'\n",
        "target = 'expw'\n",
        "\n",
        "col_name = ['model_class','trained_on','accuracy_source','accuracy_target']\n",
        "df_nice_results = pd.DataFrame(columns = col_name)\n",
        "print(df_nice_results)\n",
        "dict_input = {}\n",
        "dict_input = {'model_class': 'Non_DANN',\n",
        "                   'trained_on': str(source)+ \" source\",\n",
        "                #    'accuracy_source':dict_non_dann_losses_list_sfew_expw['test_accuracy_source'],\n",
        "                #    'accuracy_target':dict_non_dann_losses_list_sfew_expw['test_accuracy_target'],\n",
        "                   'accuracy_source':non_dann_accuracy_source,\n",
        "                   'accuracy_target':non_dann_accuracy_target\n",
        "                   }\n",
        "print(dict_input)\n",
        "df_nice_results = pd.concat([df_nice_results, pd.DataFrame(dict_input, index=[0])], ignore_index=True)\n",
        "\n",
        "\n",
        "dict_input = {'model_class': 'DANN',\n",
        "                   'trained_on': str(source)+\" source + \"+str(target) + \" target\",\n",
        "                  #  'accuracy_source':dict_dann_losses_list_sfew_expw['test_accuracy_source'],\n",
        "                  #  'accuracy_target':dict_dann_losses_list_sfew_expw['test_accuracy_target'],\n",
        "                   'accuracy_source':dann_accuracy_source,\n",
        "                   'accuracy_target':dann_accuracy_target\n",
        "                   }\n",
        "print(dict_input)\n",
        "\n",
        "df_nice_results = pd.concat([df_nice_results, pd.DataFrame(dict_input, index=[0])], ignore_index=True)\n",
        "\n",
        "\n",
        "dict_input = {'model_class': 'EWC_DANN',\n",
        "                   'trained_on': str(source)+\" source + \"+str(target) + \" target\",\n",
        "                  #  'accuracy_source':dict_ewc_dann_losses_list_sfew_expw['test_accuracy_source'],\n",
        "                  #  'accuracy_target':dict_ewc_dann_losses_list_sfew_expw['test_accuracy_target'],\n",
        "                   'accuracy_source':ewc_dann_accuracy_source,\n",
        "                   'accuracy_target':ewc_dann_accuracy_target\n",
        "                   }\n",
        "\n",
        "df_nice_results = pd.concat([df_nice_results, pd.DataFrame(dict_input, index=[0])], ignore_index=True)\n",
        "\n",
        "\n",
        "df_nice_results"
      ]
    },
    {
      "cell_type": "markdown",
      "metadata": {
        "id": "xMwlCE3nHEIO"
      },
      "source": [
        "### Bias Evaluation"
      ]
    },
    {
      "cell_type": "code",
      "execution_count": null,
      "metadata": {
        "id": "QDAV2bBeHEIO"
      },
      "outputs": [],
      "source": []
    }
  ],
  "metadata": {
    "kernelspec": {
      "display_name": "Python 3",
      "name": "python3"
    },
    "language_info": {
      "codemirror_mode": {
        "name": "ipython",
        "version": 3
      },
      "file_extension": ".py",
      "mimetype": "text/x-python",
      "name": "python",
      "nbconvert_exporter": "python",
      "pygments_lexer": "ipython3",
      "version": "3.8.8"
    },
    "colab": {
      "provenance": [],
      "gpuType": "T4",
      "include_colab_link": true
    },
    "accelerator": "GPU"
  },
  "nbformat": 4,
  "nbformat_minor": 0
}