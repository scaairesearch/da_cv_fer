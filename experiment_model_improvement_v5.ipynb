{
  "nbformat": 4,
  "nbformat_minor": 0,
  "metadata": {
    "colab": {
      "provenance": [],
      "authorship_tag": "ABX9TyOcuGUNGpxTLnDJKufXH4KX",
      "include_colab_link": true
    },
    "kernelspec": {
      "name": "python3",
      "display_name": "Python 3"
    },
    "language_info": {
      "name": "python"
    }
  },
  "cells": [
    {
      "cell_type": "markdown",
      "metadata": {
        "id": "view-in-github",
        "colab_type": "text"
      },
      "source": [
        "<a href=\"https://colab.research.google.com/github/scaairesearch/da_cv_fer/blob/main/experiment_model_improvement_v5.ipynb\" target=\"_parent\"><img src=\"https://colab.research.google.com/assets/colab-badge.svg\" alt=\"Open In Colab\"/></a>"
      ]
    },
    {
      "cell_type": "markdown",
      "source": [
        "Objective\n",
        " - creating versions for non_dann, dann and dann_ewc\n",
        " - Previously from v3\n",
        "  - Improve accuracy of base model - classification task\n",
        "  - use basic pretrained models to check accuracy - https://www.robots.ox.ac.uk/~albanie/pytorch-models.html - VGG vgg_vd_face_sfew (weights)\n",
        "\n",
        "Observations\n",
        "  - Previously from v3\n",
        "    - can achieve more than 51% accuracy\n",
        "    - lr of 0.001 gives good accuarcy\n",
        "\n",
        "Next Steps\n",
        "  - lr finder\n",
        "  - best model save\n",
        "  - SE inclusion\n",
        "  \n",
        "Models\n",
        "  - not saved"
      ],
      "metadata": {
        "id": "QePlG4s_hQMt"
      }
    },
    {
      "cell_type": "markdown",
      "source": [
        "## Initializations\n",
        "Cloning Repo, Dependencies installation, Libraries import and Config Initialization"
      ],
      "metadata": {
        "id": "IQmePT3qjm6v"
      }
    },
    {
      "cell_type": "markdown",
      "source": [
        "### Cloning Repo, Installing dependencies"
      ],
      "metadata": {
        "id": "GcyOdMpchll1"
      }
    },
    {
      "cell_type": "code",
      "execution_count": null,
      "metadata": {
        "colab": {
          "base_uri": "https://localhost:8080/"
        },
        "id": "0E9N41O6g4sB",
        "outputId": "88d9f08f-4ba9-4f52-e7f0-79c25f05b4b2"
      },
      "outputs": [
        {
          "output_type": "stream",
          "name": "stdout",
          "text": [
            "Cloning into 'da_cv_fer'...\n",
            "remote: Enumerating objects: 388, done.\u001b[K\n",
            "remote: Counting objects: 100% (179/179), done.\u001b[K\n",
            "remote: Compressing objects: 100% (98/98), done.\u001b[K\n",
            "remote: Total 388 (delta 95), reused 157 (delta 81), pack-reused 209\u001b[K\n",
            "Receiving objects: 100% (388/388), 26.75 MiB | 18.76 MiB/s, done.\n",
            "Resolving deltas: 100% (209/209), done.\n"
          ]
        }
      ],
      "source": [
        "!git clone https://github.com/scaairesearch/da_cv_fer\n",
        "import os\n",
        "os.getcwd()\n",
        "os.chdir('da_cv_fer')"
      ]
    },
    {
      "cell_type": "code",
      "source": [
        "!pip install -q -r requirements.txt # -q is for quiet install\n",
        "# for some reason the below does not get installed with requirements\n",
        "!pip install -q opendatasets\n",
        "!pip install -q facenet_pytorch"
      ],
      "metadata": {
        "colab": {
          "base_uri": "https://localhost:8080/"
        },
        "id": "VX4KxKcihsP_",
        "outputId": "96d506d3-36db-4bfe-9d2d-c42ba8b4abc1"
      },
      "execution_count": null,
      "outputs": [
        {
          "output_type": "stream",
          "name": "stdout",
          "text": [
            "\u001b[2K     \u001b[90m━━━━━━━━━━━━━━━━━━━━━━━━━━━━━━━━━━━━━━━━\u001b[0m \u001b[32m133.7/133.7 kB\u001b[0m \u001b[31m838.0 kB/s\u001b[0m eta \u001b[36m0:00:00\u001b[0m\n",
            "\u001b[2K     \u001b[90m━━━━━━━━━━━━━━━━━━━━━━━━━━━━━━━━━━━━━━━━\u001b[0m \u001b[32m1.0/1.0 MB\u001b[0m \u001b[31m8.0 MB/s\u001b[0m eta \u001b[36m0:00:00\u001b[0m\n",
            "\u001b[2K     \u001b[90m━━━━━━━━━━━━━━━━━━━━━━━━━━━━━━━━━━━━━━━━\u001b[0m \u001b[32m61.2/61.2 kB\u001b[0m \u001b[31m6.9 MB/s\u001b[0m eta \u001b[36m0:00:00\u001b[0m\n",
            "\u001b[2K     \u001b[90m━━━━━━━━━━━━━━━━━━━━━━━━━━━━━━━━━━━━━━━━\u001b[0m \u001b[32m143.0/143.0 kB\u001b[0m \u001b[31m8.4 MB/s\u001b[0m eta \u001b[36m0:00:00\u001b[0m\n",
            "\u001b[2K     \u001b[90m━━━━━━━━━━━━━━━━━━━━━━━━━━━━━━━━━━━━━━━━\u001b[0m \u001b[32m158.3/158.3 kB\u001b[0m \u001b[31m8.2 MB/s\u001b[0m eta \u001b[36m0:00:00\u001b[0m\n",
            "\u001b[2K     \u001b[90m━━━━━━━━━━━━━━━━━━━━━━━━━━━━━━━━━━━━━━━━\u001b[0m \u001b[32m138.7/138.7 kB\u001b[0m \u001b[31m6.9 MB/s\u001b[0m eta \u001b[36m0:00:00\u001b[0m\n",
            "\u001b[2K     \u001b[90m━━━━━━━━━━━━━━━━━━━━━━━━━━━━━━━━━━━━━━━━\u001b[0m \u001b[32m301.7/301.7 kB\u001b[0m \u001b[31m12.2 MB/s\u001b[0m eta \u001b[36m0:00:00\u001b[0m\n",
            "\u001b[2K     \u001b[90m━━━━━━━━━━━━━━━━━━━━━━━━━━━━━━━━━━━━━━━━\u001b[0m \u001b[32m3.3/3.3 MB\u001b[0m \u001b[31m24.1 MB/s\u001b[0m eta \u001b[36m0:00:00\u001b[0m\n",
            "\u001b[2K     \u001b[90m━━━━━━━━━━━━━━━━━━━━━━━━━━━━━━━━━━━━━━━━\u001b[0m \u001b[32m1.9/1.9 MB\u001b[0m \u001b[31m34.0 MB/s\u001b[0m eta \u001b[36m0:00:00\u001b[0m\n",
            "\u001b[2K     \u001b[90m━━━━━━━━━━━━━━━━━━━━━━━━━━━━━━━━━━━━━━━━\u001b[0m \u001b[32m4.5/4.5 MB\u001b[0m \u001b[31m42.2 MB/s\u001b[0m eta \u001b[36m0:00:00\u001b[0m\n",
            "\u001b[2K     \u001b[90m━━━━━━━━━━━━━━━━━━━━━━━━━━━━━━━━━━━━━━━━\u001b[0m \u001b[32m225.7/225.7 kB\u001b[0m \u001b[31m16.3 MB/s\u001b[0m eta \u001b[36m0:00:00\u001b[0m\n",
            "\u001b[2K     \u001b[90m━━━━━━━━━━━━━━━━━━━━━━━━━━━━━━━━━━━━━━━━\u001b[0m \u001b[32m173.4/173.4 kB\u001b[0m \u001b[31m14.2 MB/s\u001b[0m eta \u001b[36m0:00:00\u001b[0m\n",
            "\u001b[2K     \u001b[90m━━━━━━━━━━━━━━━━━━━━━━━━━━━━━━━━━━━━━━━━\u001b[0m \u001b[32m45.3/45.3 kB\u001b[0m \u001b[31m3.5 MB/s\u001b[0m eta \u001b[36m0:00:00\u001b[0m\n",
            "\u001b[2K     \u001b[90m━━━━━━━━━━━━━━━━━━━━━━━━━━━━━━━━━━━━━━━━\u001b[0m \u001b[32m4.8/4.8 MB\u001b[0m \u001b[31m55.0 MB/s\u001b[0m eta \u001b[36m0:00:00\u001b[0m\n",
            "\u001b[2K     \u001b[90m━━━━━━━━━━━━━━━━━━━━━━━━━━━━━━━━━━━━━━━━\u001b[0m \u001b[32m61.5/61.5 kB\u001b[0m \u001b[31m5.7 MB/s\u001b[0m eta \u001b[36m0:00:00\u001b[0m\n",
            "\u001b[2K     \u001b[90m━━━━━━━━━━━━━━━━━━━━━━━━━━━━━━━━━━━━━━━━\u001b[0m \u001b[32m313.3/313.3 kB\u001b[0m \u001b[31m25.8 MB/s\u001b[0m eta \u001b[36m0:00:00\u001b[0m\n",
            "\u001b[2K     \u001b[90m━━━━━━━━━━━━━━━━━━━━━━━━━━━━━━━━━━━━━━━━\u001b[0m \u001b[32m154.2/154.2 kB\u001b[0m \u001b[31m16.4 MB/s\u001b[0m eta \u001b[36m0:00:00\u001b[0m\n",
            "\u001b[2K     \u001b[90m━━━━━━━━━━━━━━━━━━━━━━━━━━━━━━━━━━━━━━━━\u001b[0m \u001b[32m807.0/807.0 kB\u001b[0m \u001b[31m25.7 MB/s\u001b[0m eta \u001b[36m0:00:00\u001b[0m\n",
            "\u001b[2K     \u001b[90m━━━━━━━━━━━━━━━━━━━━━━━━━━━━━━━━━━━━━━━━\u001b[0m \u001b[32m1.6/1.6 MB\u001b[0m \u001b[31m49.0 MB/s\u001b[0m eta \u001b[36m0:00:00\u001b[0m\n",
            "\u001b[2K     \u001b[90m━━━━━━━━━━━━━━━━━━━━━━━━━━━━━━━━━━━━━━━━\u001b[0m \u001b[32m133.1/133.1 kB\u001b[0m \u001b[31m5.8 MB/s\u001b[0m eta \u001b[36m0:00:00\u001b[0m\n",
            "\u001b[2K     \u001b[90m━━━━━━━━━━━━━━━━━━━━━━━━━━━━━━━━━━━━━━━━\u001b[0m \u001b[32m104.0/104.0 kB\u001b[0m \u001b[31m6.7 MB/s\u001b[0m eta \u001b[36m0:00:00\u001b[0m\n",
            "\u001b[2K     \u001b[90m━━━━━━━━━━━━━━━━━━━━━━━━━━━━━━━━━━━━━━━━\u001b[0m \u001b[32m1.0/1.0 MB\u001b[0m \u001b[31m22.5 MB/s\u001b[0m eta \u001b[36m0:00:00\u001b[0m\n",
            "\u001b[2K     \u001b[90m━━━━━━━━━━━━━━━━━━━━━━━━━━━━━━━━━━━━━━━━\u001b[0m \u001b[32m11.6/11.6 MB\u001b[0m \u001b[31m26.0 MB/s\u001b[0m eta \u001b[36m0:00:00\u001b[0m\n",
            "\u001b[2K     \u001b[90m━━━━━━━━━━━━━━━━━━━━━━━━━━━━━━━━━━━━━━━━\u001b[0m \u001b[32m114.5/114.5 kB\u001b[0m \u001b[31m2.8 MB/s\u001b[0m eta \u001b[36m0:00:00\u001b[0m\n",
            "\u001b[2K     \u001b[90m━━━━━━━━━━━━━━━━━━━━━━━━━━━━━━━━━━━━━━━━\u001b[0m \u001b[32m2.1/2.1 MB\u001b[0m \u001b[31m22.1 MB/s\u001b[0m eta \u001b[36m0:00:00\u001b[0m\n",
            "\u001b[2K     \u001b[90m━━━━━━━━━━━━━━━━━━━━━━━━━━━━━━━━━━━━━━━━\u001b[0m \u001b[32m18.2/18.2 MB\u001b[0m \u001b[31m30.6 MB/s\u001b[0m eta \u001b[36m0:00:00\u001b[0m\n",
            "\u001b[2K     \u001b[90m━━━━━━━━━━━━━━━━━━━━━━━━━━━━━━━━━━━━━━━━\u001b[0m \u001b[32m62.2/62.2 MB\u001b[0m \u001b[31m8.5 MB/s\u001b[0m eta \u001b[36m0:00:00\u001b[0m\n",
            "\u001b[2K     \u001b[90m━━━━━━━━━━━━━━━━━━━━━━━━━━━━━━━━━━━━━━━━\u001b[0m \u001b[32m53.0/53.0 kB\u001b[0m \u001b[31m7.8 MB/s\u001b[0m eta \u001b[36m0:00:00\u001b[0m\n",
            "\u001b[2K     \u001b[90m━━━━━━━━━━━━━━━━━━━━━━━━━━━━━━━━━━━━━━━━\u001b[0m \u001b[32m12.3/12.3 MB\u001b[0m \u001b[31m96.5 MB/s\u001b[0m eta \u001b[36m0:00:00\u001b[0m\n",
            "\u001b[2K     \u001b[90m━━━━━━━━━━━━━━━━━━━━━━━━━━━━━━━━━━━━━━━━\u001b[0m \u001b[32m3.6/3.6 MB\u001b[0m \u001b[31m102.8 MB/s\u001b[0m eta \u001b[36m0:00:00\u001b[0m\n",
            "\u001b[2K     \u001b[90m━━━━━━━━━━━━━━━━━━━━━━━━━━━━━━━━━━━━━━━━\u001b[0m \u001b[32m385.2/385.2 kB\u001b[0m \u001b[31m45.1 MB/s\u001b[0m eta \u001b[36m0:00:00\u001b[0m\n",
            "\u001b[2K     \u001b[90m━━━━━━━━━━━━━━━━━━━━━━━━━━━━━━━━━━━━━━━━\u001b[0m \u001b[32m283.6/283.6 kB\u001b[0m \u001b[31m33.8 MB/s\u001b[0m eta \u001b[36m0:00:00\u001b[0m\n",
            "\u001b[2K     \u001b[90m━━━━━━━━━━━━━━━━━━━━━━━━━━━━━━━━━━━━━━━━\u001b[0m \u001b[32m103.1/103.1 kB\u001b[0m \u001b[31m15.3 MB/s\u001b[0m eta \u001b[36m0:00:00\u001b[0m\n",
            "\u001b[2K     \u001b[90m━━━━━━━━━━━━━━━━━━━━━━━━━━━━━━━━━━━━━━━━\u001b[0m \u001b[32m502.5/502.5 kB\u001b[0m \u001b[31m52.3 MB/s\u001b[0m eta \u001b[36m0:00:00\u001b[0m\n",
            "\u001b[?25h\u001b[31mERROR: Could not find a version that satisfies the requirement pywin32==306 (from versions: none)\u001b[0m\u001b[31m\n",
            "\u001b[0m\u001b[31mERROR: No matching distribution found for pywin32==306\u001b[0m\u001b[31m\n",
            "\u001b[2K     \u001b[90m━━━━━━━━━━━━━━━━━━━━━━━━━━━━━━━━━━━━━━━━\u001b[0m \u001b[32m23.7/23.7 MB\u001b[0m \u001b[31m43.9 MB/s\u001b[0m eta \u001b[36m0:00:00\u001b[0m\n",
            "\u001b[2K     \u001b[90m━━━━━━━━━━━━━━━━━━━━━━━━━━━━━━━━━━━━━━━━\u001b[0m \u001b[32m823.6/823.6 kB\u001b[0m \u001b[31m48.1 MB/s\u001b[0m eta \u001b[36m0:00:00\u001b[0m\n",
            "\u001b[2K     \u001b[90m━━━━━━━━━━━━━━━━━━━━━━━━━━━━━━━━━━━━━━━━\u001b[0m \u001b[32m14.1/14.1 MB\u001b[0m \u001b[31m65.4 MB/s\u001b[0m eta \u001b[36m0:00:00\u001b[0m\n",
            "\u001b[2K     \u001b[90m━━━━━━━━━━━━━━━━━━━━━━━━━━━━━━━━━━━━━━━━\u001b[0m \u001b[32m731.7/731.7 MB\u001b[0m \u001b[31m783.5 kB/s\u001b[0m eta \u001b[36m0:00:00\u001b[0m\n",
            "\u001b[2K     \u001b[90m━━━━━━━━━━━━━━━━━━━━━━━━━━━━━━━━━━━━━━━━\u001b[0m \u001b[32m410.6/410.6 MB\u001b[0m \u001b[31m2.7 MB/s\u001b[0m eta \u001b[36m0:00:00\u001b[0m\n",
            "\u001b[2K     \u001b[90m━━━━━━━━━━━━━━━━━━━━━━━━━━━━━━━━━━━━━━━━\u001b[0m \u001b[32m121.6/121.6 MB\u001b[0m \u001b[31m8.6 MB/s\u001b[0m eta \u001b[36m0:00:00\u001b[0m\n",
            "\u001b[2K     \u001b[90m━━━━━━━━━━━━━━━━━━━━━━━━━━━━━━━━━━━━━━━━\u001b[0m \u001b[32m56.5/56.5 MB\u001b[0m \u001b[31m14.4 MB/s\u001b[0m eta \u001b[36m0:00:00\u001b[0m\n",
            "\u001b[2K     \u001b[90m━━━━━━━━━━━━━━━━━━━━━━━━━━━━━━━━━━━━━━━━\u001b[0m \u001b[32m124.2/124.2 MB\u001b[0m \u001b[31m8.1 MB/s\u001b[0m eta \u001b[36m0:00:00\u001b[0m\n",
            "\u001b[2K     \u001b[90m━━━━━━━━━━━━━━━━━━━━━━━━━━━━━━━━━━━━━━━━\u001b[0m \u001b[32m196.0/196.0 MB\u001b[0m \u001b[31m6.7 MB/s\u001b[0m eta \u001b[36m0:00:00\u001b[0m\n",
            "\u001b[2K     \u001b[90m━━━━━━━━━━━━━━━━━━━━━━━━━━━━━━━━━━━━━━━━\u001b[0m \u001b[32m166.0/166.0 MB\u001b[0m \u001b[31m7.1 MB/s\u001b[0m eta \u001b[36m0:00:00\u001b[0m\n",
            "\u001b[2K     \u001b[90m━━━━━━━━━━━━━━━━━━━━━━━━━━━━━━━━━━━━━━━━\u001b[0m \u001b[32m99.1/99.1 kB\u001b[0m \u001b[31m13.2 MB/s\u001b[0m eta \u001b[36m0:00:00\u001b[0m\n",
            "\u001b[2K     \u001b[90m━━━━━━━━━━━━━━━━━━━━━━━━━━━━━━━━━━━━━━━━\u001b[0m \u001b[32m21.1/21.1 MB\u001b[0m \u001b[31m56.8 MB/s\u001b[0m eta \u001b[36m0:00:00\u001b[0m\n",
            "\u001b[?25h"
          ]
        }
      ]
    },
    {
      "cell_type": "code",
      "source": [
        "# Installs from files\n",
        "from da_cv_fer.data_config import DataConfig\n",
        "# from da_cv_fer.ds_sfew import DatasetSFEW\n",
        "from da_cv_fer.ds_sfew_crop import DatasetSFEWCROP\n",
        "# from da_cv_fer.ds_expw_crop import EXPWCROP\n",
        "# from da_cv_fer.ds_expw import EXPW\n",
        "from da_cv_fer.utils import *\n",
        "# from da_cv_fer.model_DANN import DANN\n",
        "# from da_cv_fer.model_DANN_Bespoke import DANNBespoke\n",
        "from da_cv_fer.run_config import RunConfig\n",
        "from da_cv_fer.train import *\n",
        "import os\n",
        "import zipfile\n",
        "\n",
        "import torch\n",
        "import torch.nn as nn\n",
        "import torch.optim as optim\n",
        "from torch.optim.lr_scheduler import ReduceLROnPlateau\n",
        "\n",
        "from tqdm import tqdm # for beautiful model training updates\n",
        "\n",
        "import matplotlib.pyplot as plt # for plots\n",
        "\n",
        "import time\n",
        "from pathlib import Path\n",
        "\n",
        "from copy import deepcopy\n",
        "import numpy as np\n"
      ],
      "metadata": {
        "id": "0y28FiTBh0C2"
      },
      "execution_count": null,
      "outputs": []
    },
    {
      "cell_type": "markdown",
      "source": [
        "### Initializing Configs"
      ],
      "metadata": {
        "id": "gn2hvt_cjele"
      }
    },
    {
      "cell_type": "code",
      "source": [
        "#initializing dataconfig, it tells us about dataset configuration and directory structure\n",
        "dataconfig = DataConfig()"
      ],
      "metadata": {
        "id": "GetTuA_BjhcE"
      },
      "execution_count": null,
      "outputs": []
    },
    {
      "cell_type": "markdown",
      "source": [
        "##  Dataset\n",
        "- SFEW Dataset\n",
        "- Creating Dataloader object\n"
      ],
      "metadata": {
        "id": "9mJkZt_lj3cq"
      }
    },
    {
      "cell_type": "code",
      "source": [
        "# Mounting Google drive\n",
        "from google.colab import drive\n",
        "drive.mount('/content/gdrive')"
      ],
      "metadata": {
        "colab": {
          "base_uri": "https://localhost:8080/"
        },
        "id": "s2UM5ncbj2aL",
        "outputId": "c417873b-ff59-4cb0-fedc-ea215955ea82"
      },
      "execution_count": 4,
      "outputs": [
        {
          "output_type": "stream",
          "name": "stdout",
          "text": [
            "Mounted at /content/gdrive\n"
          ]
        }
      ]
    },
    {
      "cell_type": "markdown",
      "source": [
        "### Creating Dataloader"
      ],
      "metadata": {
        "id": "lmgcKr_LkXGS"
      }
    },
    {
      "cell_type": "code",
      "source": [
        "sfew = DatasetSFEWCROP()\n",
        "sfew_train_loader, sfew_val_loader = sfew.get_dataloader()\n",
        "print(f' length of SFEW dataset : {len(sfew_train_loader.dataset)}')"
      ],
      "metadata": {
        "colab": {
          "base_uri": "https://localhost:8080/"
        },
        "id": "EabgBzhfkC0n",
        "outputId": "015f627d-56e4-47e3-9096-8091782b7e94"
      },
      "execution_count": null,
      "outputs": [
        {
          "output_type": "stream",
          "name": "stdout",
          "text": [
            " self.BASE_PATH -dataset, \n",
            " self.EXTRACT_DIR-dataset/sfew,\n",
            " self.ZIP_FILE_PATH - dataset/SFEW_2.zip \n",
            "Directory dataset/sfew created successfully.\n",
            "No files (including zip file) found in dataset/sfew.Copying file\n",
            "Starting File copying from /content/gdrive/MyDrive/CV_FER/dataset/SFEW_2.zip to dataset/sfew\n",
            "File copied successfully from /content/gdrive/MyDrive/CV_FER/dataset/SFEW_2.zip to dataset/sfew\n",
            "Initiating extraction of dataset/sfew/SFEW_2.zip to dataset/sfew\n",
            "...completed for dataset/sfew/SFEW_2.zip\n",
            "dataset/sfew/Train Happy.zip Happy\n",
            "...completed for dataset/sfew/Train/Happy.zip\n",
            "dataset/sfew/Train Sad.zip Sad\n",
            "...completed for dataset/sfew/Train/Sad.zip\n",
            "dataset/sfew/Train Disgust.zip Disgust\n",
            "...completed for dataset/sfew/Train/Disgust.zip\n",
            "dataset/sfew/Train Surprise.zip Surprise\n",
            "...completed for dataset/sfew/Train/Surprise.zip\n",
            "dataset/sfew/Train Fear.zip Fear\n",
            "...completed for dataset/sfew/Train/Fear.zip\n",
            "dataset/sfew/Train Angry.zip Angry\n",
            "...completed for dataset/sfew/Train/Angry.zip\n",
            "dataset/sfew/Train Neutral.zip Neutral\n",
            "...completed for dataset/sfew/Train/Neutral.zip\n",
            "dataset/sfew/Val Happy.zip Happy\n",
            "...completed for dataset/sfew/Val/Happy.zip\n",
            "dataset/sfew/Val Sad.zip Sad\n",
            "...completed for dataset/sfew/Val/Sad.zip\n",
            "dataset/sfew/Val Disgust.zip Disgust\n",
            "...completed for dataset/sfew/Val/Disgust.zip\n",
            "dataset/sfew/Val Surprise.zip Surprise\n",
            "...completed for dataset/sfew/Val/Surprise.zip\n",
            "dataset/sfew/Val Fear.zip Fear\n",
            "...completed for dataset/sfew/Val/Fear.zip\n",
            "dataset/sfew/Val Angry.zip Angry\n",
            "...completed for dataset/sfew/Val/Angry.zip\n",
            "dataset/sfew/Val Neutral.zip Neutral\n",
            "...completed for dataset/sfew/Val/Neutral.zip\n",
            "Directory created: dataset/sfew/Train_Crop\n",
            "Directory created: dataset/sfew/Val_Crop\n",
            "98 cropped images created in Fear\n",
            "172 cropped images created in Sad\n",
            "66 cropped images created in Disgust\n",
            "150 cropped images created in Neutral\n",
            "178 cropped images created in Angry\n",
            "96 cropped images created in Surprise\n",
            "198 cropped images created in Happy\n",
            "47 cropped images created in Fear\n",
            "73 cropped images created in Sad\n",
            "23 cropped images created in Disgust\n",
            "86 cropped images created in Neutral\n",
            "77 cropped images created in Angry\n",
            "57 cropped images created in Surprise\n",
            "73 cropped images created in Happy\n",
            "----------mean_ds = [0.2197, 0.1858, 0.1569], std_dev_ds = [0.181, 0.1635, 0.1511]----------\n",
            " length of SFEW dataset : 913\n"
          ]
        },
        {
          "output_type": "stream",
          "name": "stderr",
          "text": [
            "/usr/local/lib/python3.10/dist-packages/torch/utils/data/dataloader.py:558: UserWarning: This DataLoader will create 4 worker processes in total. Our suggested max number of worker in current system is 2, which is smaller than what this DataLoader is going to create. Please be aware that excessive worker creation might get DataLoader running slow or even freeze, lower the worker number to avoid potential slowness/freeze if necessary.\n",
            "  warnings.warn(_create_warning_msg(\n"
          ]
        }
      ]
    },
    {
      "cell_type": "markdown",
      "source": [
        "### Example Images"
      ],
      "metadata": {
        "id": "AoA-RUgQkbfL"
      }
    },
    {
      "cell_type": "code",
      "source": [
        "show_batch(sfew_train_loader,sfew.labels,4, normalized = False)"
      ],
      "metadata": {
        "colab": {
          "base_uri": "https://localhost:8080/",
          "height": 293
        },
        "id": "Jg0ewKgFkWSA",
        "outputId": "18944a4b-8519-450a-e1c6-1bc679cfdfb5"
      },
      "execution_count": null,
      "outputs": [
        {
          "output_type": "display_data",
          "data": {
            "text/plain": [
              "<Figure size 1600x800 with 4 Axes>"
            ],
            "image/png": "[encoded data removed]"
          },
          "metadata": {}
        }
      ]
    },
    {
      "cell_type": "code",
      "source": [
        "sfew_loader = {'name': 'sfew',\n",
        "               'train':sfew_train_loader,\n",
        "               'val':sfew_val_loader\n",
        "               }\n",
        "data_loader = {'source' : sfew_loader}\n",
        "source_name = data_loader['source']['name']"
      ],
      "metadata": {
        "id": "esftYBERnNS_"
      },
      "execution_count": null,
      "outputs": []
    },
    {
      "cell_type": "markdown",
      "source": [
        "## Model Initialization"
      ],
      "metadata": {
        "id": "N8tir7U3xExh"
      }
    },
    {
      "cell_type": "markdown",
      "source": [
        "### Simple Model_V5\n",
        "- including dann\n",
        "- including grl\n",
        "- including GAP"
      ],
      "metadata": {
        "id": "gQPpwHSPxHsg"
      }
    },
    {
      "cell_type": "code",
      "source": [
        "\n",
        "import torch\n",
        "import torch.nn as nn\n",
        "from torch.autograd import Function\n",
        "import torch.nn.functional as F\n",
        "\n",
        "\n",
        "class Vgg_vd_face_sfew_dag(nn.Module):\n",
        "\n",
        "    def __init__(self):\n",
        "        super(Vgg_vd_face_sfew_dag, self).__init__()\n",
        "        self.meta = {'mean': [129.186279296875, 104.76238250732422, 93.59396362304688],\n",
        "                     'std': [1, 1, 1],\n",
        "                     'imageSize': [224, 224, 3]}\n",
        "        self.conv1_1 = nn.Conv2d(3, 64, kernel_size=[3, 3], stride=(1, 1), padding=(1, 1))\n",
        "        self.relu1_1 = nn.ReLU()\n",
        "        self.conv1_2 = nn.Conv2d(64, 64, kernel_size=[3, 3], stride=(1, 1), padding=(1, 1))\n",
        "        self.relu1_2 = nn.ReLU()\n",
        "        self.pool1 = nn.MaxPool2d(kernel_size=[2, 2], stride=[2, 2], padding=0, dilation=1, ceil_mode=False)\n",
        "        self.conv2_1 = nn.Conv2d(64, 128, kernel_size=[3, 3], stride=(1, 1), padding=(1, 1))\n",
        "        self.relu2_1 = nn.ReLU()\n",
        "        self.conv2_2 = nn.Conv2d(128, 128, kernel_size=[3, 3], stride=(1, 1), padding=(1, 1))\n",
        "        self.relu2_2 = nn.ReLU()\n",
        "        self.pool2 = nn.MaxPool2d(kernel_size=[2, 2], stride=[2, 2], padding=0, dilation=1, ceil_mode=False)\n",
        "        self.conv3_1 = nn.Conv2d(128, 256, kernel_size=[3, 3], stride=(1, 1), padding=(1, 1))\n",
        "        self.relu3_1 = nn.ReLU()\n",
        "        self.conv3_2 = nn.Conv2d(256, 256, kernel_size=[3, 3], stride=(1, 1), padding=(1, 1))\n",
        "        self.relu3_2 = nn.ReLU()\n",
        "        self.conv3_3 = nn.Conv2d(256, 256, kernel_size=[3, 3], stride=(1, 1), padding=(1, 1))\n",
        "        self.relu3_3 = nn.ReLU()\n",
        "        self.pool3 = nn.MaxPool2d(kernel_size=[2, 2], stride=[2, 2], padding=0, dilation=1, ceil_mode=False)\n",
        "        self.conv4_1 = nn.Conv2d(256, 512, kernel_size=[3, 3], stride=(1, 1), padding=(1, 1))\n",
        "        self.relu4_1 = nn.ReLU()\n",
        "        self.conv4_2 = nn.Conv2d(512, 512, kernel_size=[3, 3], stride=(1, 1), padding=(1, 1))\n",
        "        self.relu4_2 = nn.ReLU()\n",
        "        self.conv4_3 = nn.Conv2d(512, 512, kernel_size=[3, 3], stride=(1, 1), padding=(1, 1))\n",
        "        self.relu4_3 = nn.ReLU()\n",
        "        self.pool4 = nn.MaxPool2d(kernel_size=[2, 2], stride=[2, 2], padding=0, dilation=1, ceil_mode=False)\n",
        "        self.conv5_1 = nn.Conv2d(512, 512, kernel_size=[3, 3], stride=(1, 1), padding=(1, 1))\n",
        "        self.relu5_1 = nn.ReLU()\n",
        "        self.conv5_2 = nn.Conv2d(512, 512, kernel_size=[3, 3], stride=(1, 1), padding=(1, 1))\n",
        "        self.relu5_2 = nn.ReLU()\n",
        "        self.conv5_3 = nn.Conv2d(512, 512, kernel_size=[3, 3], stride=(1, 1), padding=(1, 1))\n",
        "        self.relu5_3 = nn.ReLU()\n",
        "        self.pool5 = nn.MaxPool2d(kernel_size=[2, 2], stride=[2, 2], padding=0, dilation=1, ceil_mode=False)\n",
        "        self.fc6 = nn.Conv2d(512, 4096, kernel_size=[7, 7], stride=(1, 1))\n",
        "        self.relu6 = nn.ReLU()\n",
        "        self.fc7 = nn.Linear(in_features=4096, out_features=4096, bias=True)\n",
        "        self.relu7 = nn.ReLU()\n",
        "        self.fc8 = nn.Linear(in_features=4096, out_features=7, bias=True)\n",
        "\n",
        "    def forward(self, data):\n",
        "        x1 = self.conv1_1(data)\n",
        "        x2 = self.relu1_1(x1)\n",
        "        x3 = self.conv1_2(x2)\n",
        "        x4 = self.relu1_2(x3)\n",
        "        x5 = self.pool1(x4)\n",
        "        x6 = self.conv2_1(x5)\n",
        "        x7 = self.relu2_1(x6)\n",
        "        x8 = self.conv2_2(x7)\n",
        "        x9 = self.relu2_2(x8)\n",
        "        x10 = self.pool2(x9)\n",
        "        x11 = self.conv3_1(x10)\n",
        "        x12 = self.relu3_1(x11)\n",
        "        x13 = self.conv3_2(x12)\n",
        "        x14 = self.relu3_2(x13)\n",
        "        x15 = self.conv3_3(x14)\n",
        "        x16 = self.relu3_3(x15)\n",
        "        x17 = self.pool3(x16)\n",
        "        x18 = self.conv4_1(x17)\n",
        "        x19 = self.relu4_1(x18)\n",
        "        x20 = self.conv4_2(x19)\n",
        "        x21 = self.relu4_2(x20)\n",
        "        x22 = self.conv4_3(x21)\n",
        "        x23 = self.relu4_3(x22)\n",
        "        x24 = self.pool4(x23)\n",
        "        x25 = self.conv5_1(x24)\n",
        "        x26 = self.relu5_1(x25)\n",
        "        x27 = self.conv5_2(x26)\n",
        "        x28 = self.relu5_2(x27)\n",
        "        x29 = self.conv5_3(x28)\n",
        "        x30 = self.relu5_3(x29)\n",
        "        x31 = self.pool5(x30)\n",
        "        x32 = self.fc6(x31) # this is a conv layer, this is the output we need\n",
        "        x33_preflatten = self.relu6(x32)\n",
        "        x33 = x33_preflatten.view(x33_preflatten.size(0), -1)\n",
        "        x34 = self.fc7(x33)\n",
        "        x35 = self.relu7(x34)\n",
        "        prediction = self.fc8(x35)\n",
        "        return prediction\n",
        "\n",
        "\n",
        "def vgg_vd_face_sfew_dag(weights_path=None, **kwargs):\n",
        "    \"\"\"\n",
        "    load imported model instance\n",
        "\n",
        "    Args:\n",
        "        weights_path (str): If set, loads model weights from the given path\n",
        "    \"\"\"\n",
        "    model = Vgg_vd_face_sfew_dag()\n",
        "    if weights_path:\n",
        "        state_dict = torch.load(weights_path)\n",
        "        model.load_state_dict(state_dict)\n",
        "    return model"
      ],
      "metadata": {
        "id": "rKUQHLA98okN"
      },
      "execution_count": 5,
      "outputs": []
    },
    {
      "cell_type": "code",
      "source": [
        "model_pretrained = vgg_vd_face_sfew_dag(weights_path=\"/content/gdrive/MyDrive/CV_FER/weights/vgg_vd_face_sfew_dag.pth\")"
      ],
      "metadata": {
        "id": "tHQoYRsu8q34"
      },
      "execution_count": 6,
      "outputs": []
    },
    {
      "cell_type": "code",
      "source": [
        "model_pretrained"
      ],
      "metadata": {
        "colab": {
          "base_uri": "https://localhost:8080/"
        },
        "id": "tkiv9eu5Crrd",
        "outputId": "03b40efa-94fc-4943-82c3-4ec2fa18a01b"
      },
      "execution_count": 9,
      "outputs": [
        {
          "output_type": "execute_result",
          "data": {
            "text/plain": [
              "Vgg_vd_face_sfew_dag(\n",
              "  (conv1_1): Conv2d(3, 64, kernel_size=(3, 3), stride=(1, 1), padding=(1, 1))\n",
              "  (relu1_1): ReLU()\n",
              "  (conv1_2): Conv2d(64, 64, kernel_size=(3, 3), stride=(1, 1), padding=(1, 1))\n",
              "  (relu1_2): ReLU()\n",
              "  (pool1): MaxPool2d(kernel_size=[2, 2], stride=[2, 2], padding=0, dilation=1, ceil_mode=False)\n",
              "  (conv2_1): Conv2d(64, 128, kernel_size=(3, 3), stride=(1, 1), padding=(1, 1))\n",
              "  (relu2_1): ReLU()\n",
              "  (conv2_2): Conv2d(128, 128, kernel_size=(3, 3), stride=(1, 1), padding=(1, 1))\n",
              "  (relu2_2): ReLU()\n",
              "  (pool2): MaxPool2d(kernel_size=[2, 2], stride=[2, 2], padding=0, dilation=1, ceil_mode=False)\n",
              "  (conv3_1): Conv2d(128, 256, kernel_size=(3, 3), stride=(1, 1), padding=(1, 1))\n",
              "  (relu3_1): ReLU()\n",
              "  (conv3_2): Conv2d(256, 256, kernel_size=(3, 3), stride=(1, 1), padding=(1, 1))\n",
              "  (relu3_2): ReLU()\n",
              "  (conv3_3): Conv2d(256, 256, kernel_size=(3, 3), stride=(1, 1), padding=(1, 1))\n",
              "  (relu3_3): ReLU()\n",
              "  (pool3): MaxPool2d(kernel_size=[2, 2], stride=[2, 2], padding=0, dilation=1, ceil_mode=False)\n",
              "  (conv4_1): Conv2d(256, 512, kernel_size=(3, 3), stride=(1, 1), padding=(1, 1))\n",
              "  (relu4_1): ReLU()\n",
              "  (conv4_2): Conv2d(512, 512, kernel_size=(3, 3), stride=(1, 1), padding=(1, 1))\n",
              "  (relu4_2): ReLU()\n",
              "  (conv4_3): Conv2d(512, 512, kernel_size=(3, 3), stride=(1, 1), padding=(1, 1))\n",
              "  (relu4_3): ReLU()\n",
              "  (pool4): MaxPool2d(kernel_size=[2, 2], stride=[2, 2], padding=0, dilation=1, ceil_mode=False)\n",
              "  (conv5_1): Conv2d(512, 512, kernel_size=(3, 3), stride=(1, 1), padding=(1, 1))\n",
              "  (relu5_1): ReLU()\n",
              "  (conv5_2): Conv2d(512, 512, kernel_size=(3, 3), stride=(1, 1), padding=(1, 1))\n",
              "  (relu5_2): ReLU()\n",
              "  (conv5_3): Conv2d(512, 512, kernel_size=(3, 3), stride=(1, 1), padding=(1, 1))\n",
              "  (relu5_3): ReLU()\n",
              "  (pool5): MaxPool2d(kernel_size=[2, 2], stride=[2, 2], padding=0, dilation=1, ceil_mode=False)\n",
              "  (fc6): Conv2d(512, 4096, kernel_size=(7, 7), stride=(1, 1))\n",
              "  (relu6): ReLU()\n",
              "  (fc7): Linear(in_features=4096, out_features=4096, bias=True)\n",
              "  (relu7): ReLU()\n",
              "  (fc8): Linear(in_features=4096, out_features=7, bias=True)\n",
              ")"
            ]
          },
          "metadata": {},
          "execution_count": 9
        }
      ]
    },
    {
      "cell_type": "code",
      "source": [
        "list(model_pretrained.children())[:-4]"
      ],
      "metadata": {
        "colab": {
          "base_uri": "https://localhost:8080/"
        },
        "id": "XVGLgzuWCcA3",
        "outputId": "705f422c-8988-4cc2-c959-2f28dd1c069a"
      },
      "execution_count": 12,
      "outputs": [
        {
          "output_type": "execute_result",
          "data": {
            "text/plain": [
              "[Conv2d(3, 64, kernel_size=(3, 3), stride=(1, 1), padding=(1, 1)),\n",
              " ReLU(),\n",
              " Conv2d(64, 64, kernel_size=(3, 3), stride=(1, 1), padding=(1, 1)),\n",
              " ReLU(),\n",
              " MaxPool2d(kernel_size=[2, 2], stride=[2, 2], padding=0, dilation=1, ceil_mode=False),\n",
              " Conv2d(64, 128, kernel_size=(3, 3), stride=(1, 1), padding=(1, 1)),\n",
              " ReLU(),\n",
              " Conv2d(128, 128, kernel_size=(3, 3), stride=(1, 1), padding=(1, 1)),\n",
              " ReLU(),\n",
              " MaxPool2d(kernel_size=[2, 2], stride=[2, 2], padding=0, dilation=1, ceil_mode=False),\n",
              " Conv2d(128, 256, kernel_size=(3, 3), stride=(1, 1), padding=(1, 1)),\n",
              " ReLU(),\n",
              " Conv2d(256, 256, kernel_size=(3, 3), stride=(1, 1), padding=(1, 1)),\n",
              " ReLU(),\n",
              " Conv2d(256, 256, kernel_size=(3, 3), stride=(1, 1), padding=(1, 1)),\n",
              " ReLU(),\n",
              " MaxPool2d(kernel_size=[2, 2], stride=[2, 2], padding=0, dilation=1, ceil_mode=False),\n",
              " Conv2d(256, 512, kernel_size=(3, 3), stride=(1, 1), padding=(1, 1)),\n",
              " ReLU(),\n",
              " Conv2d(512, 512, kernel_size=(3, 3), stride=(1, 1), padding=(1, 1)),\n",
              " ReLU(),\n",
              " Conv2d(512, 512, kernel_size=(3, 3), stride=(1, 1), padding=(1, 1)),\n",
              " ReLU(),\n",
              " MaxPool2d(kernel_size=[2, 2], stride=[2, 2], padding=0, dilation=1, ceil_mode=False),\n",
              " Conv2d(512, 512, kernel_size=(3, 3), stride=(1, 1), padding=(1, 1)),\n",
              " ReLU(),\n",
              " Conv2d(512, 512, kernel_size=(3, 3), stride=(1, 1), padding=(1, 1)),\n",
              " ReLU(),\n",
              " Conv2d(512, 512, kernel_size=(3, 3), stride=(1, 1), padding=(1, 1)),\n",
              " ReLU(),\n",
              " MaxPool2d(kernel_size=[2, 2], stride=[2, 2], padding=0, dilation=1, ceil_mode=False),\n",
              " Conv2d(512, 4096, kernel_size=(7, 7), stride=(1, 1))]"
            ]
          },
          "metadata": {},
          "execution_count": 12
        }
      ]
    },
    {
      "cell_type": "code",
      "source": [
        "import torch.nn as nn\n",
        "import torch\n",
        "from torch.autograd import Function\n",
        "import torch.nn.functional as F\n",
        "\n",
        "class GradientReversalFn(Function):\n",
        "    @staticmethod\n",
        "    def forward(ctx, x, alpha):\n",
        "        ctx.alpha = alpha\n",
        "\n",
        "        return x.view_as(x)\n",
        "\n",
        "    @staticmethod\n",
        "    def backward(ctx, grad_output):\n",
        "        output = grad_output.neg() * ctx.alpha\n",
        "\n",
        "        return output, None\n",
        "\n",
        "class DANN_VGG(nn.Module):\n",
        "    def __init__(self,\n",
        "                 model_pretrained = model_pretrained,\n",
        "                 num_classes=7):\n",
        "        super(DANN_VGG, self).__init__()\n",
        "        #---------------------Feature Extractor Network------------------------#\n",
        "        self.feature_extractor = nn.Sequential(*list(model_pretrained.children())[:-4])\n",
        "        #---------------------Class Classifier------------------------#\n",
        "        self.class_classifier = nn.Sequential(*list(model_pretrained.children())[-4:])\n",
        "        #---------------------Domain Classifier------------------------#\n",
        "        domain_classifer_layers = list(model_pretrained.children())[-4:-2]\n",
        "        domain_classifer_layers.append(nn.Linear(4096, 2))\n",
        "        self.domain_classifier = nn.Sequential(*domain_classifer_layers)\n",
        "\n",
        "\n",
        "    def forward(self, input_data, alpha = 0.0):\n",
        "        features = self.feature_extractor(input_data)\n",
        "        print(\"features.shape......\", features.shape)\n",
        "        features = features.view(-1,features.size(1))\n",
        "        print(\"features.shape after view......\", features.shape)\n",
        "\n",
        "        reverse_features = GradientReversalFn.apply(features,alpha)\n",
        "\n",
        "        class_output = self.class_classifier(features)\n",
        "        domain_output = self.domain_classifier(reverse_features)\n",
        "\n",
        "        return class_output, domain_output, features\n"
      ],
      "metadata": {
        "id": "_ebHWqGi-KfW"
      },
      "execution_count": 13,
      "outputs": []
    },
    {
      "cell_type": "code",
      "source": [
        "model = DANN_VGG(model_pretrained = model_pretrained, num_classes=7)\n",
        "from torchsummary import summary  #for model summary and params\n",
        "print(model)\n",
        "summary(model, input_size=(3,224,224))"
      ],
      "metadata": {
        "id": "Vn_nFpTr9fhS",
        "colab": {
          "base_uri": "https://localhost:8080/"
        },
        "outputId": "9d5b6cc8-6f6b-40a8-8b13-ffa3991f8e54"
      },
      "execution_count": 15,
      "outputs": [
        {
          "output_type": "stream",
          "name": "stdout",
          "text": [
            "DANN_VGG(\n",
            "  (feature_extractor): Sequential(\n",
            "    (0): Conv2d(3, 64, kernel_size=(3, 3), stride=(1, 1), padding=(1, 1))\n",
            "    (1): ReLU()\n",
            "    (2): Conv2d(64, 64, kernel_size=(3, 3), stride=(1, 1), padding=(1, 1))\n",
            "    (3): ReLU()\n",
            "    (4): MaxPool2d(kernel_size=[2, 2], stride=[2, 2], padding=0, dilation=1, ceil_mode=False)\n",
            "    (5): Conv2d(64, 128, kernel_size=(3, 3), stride=(1, 1), padding=(1, 1))\n",
            "    (6): ReLU()\n",
            "    (7): Conv2d(128, 128, kernel_size=(3, 3), stride=(1, 1), padding=(1, 1))\n",
            "    (8): ReLU()\n",
            "    (9): MaxPool2d(kernel_size=[2, 2], stride=[2, 2], padding=0, dilation=1, ceil_mode=False)\n",
            "    (10): Conv2d(128, 256, kernel_size=(3, 3), stride=(1, 1), padding=(1, 1))\n",
            "    (11): ReLU()\n",
            "    (12): Conv2d(256, 256, kernel_size=(3, 3), stride=(1, 1), padding=(1, 1))\n",
            "    (13): ReLU()\n",
            "    (14): Conv2d(256, 256, kernel_size=(3, 3), stride=(1, 1), padding=(1, 1))\n",
            "    (15): ReLU()\n",
            "    (16): MaxPool2d(kernel_size=[2, 2], stride=[2, 2], padding=0, dilation=1, ceil_mode=False)\n",
            "    (17): Conv2d(256, 512, kernel_size=(3, 3), stride=(1, 1), padding=(1, 1))\n",
            "    (18): ReLU()\n",
            "    (19): Conv2d(512, 512, kernel_size=(3, 3), stride=(1, 1), padding=(1, 1))\n",
            "    (20): ReLU()\n",
            "    (21): Conv2d(512, 512, kernel_size=(3, 3), stride=(1, 1), padding=(1, 1))\n",
            "    (22): ReLU()\n",
            "    (23): MaxPool2d(kernel_size=[2, 2], stride=[2, 2], padding=0, dilation=1, ceil_mode=False)\n",
            "    (24): Conv2d(512, 512, kernel_size=(3, 3), stride=(1, 1), padding=(1, 1))\n",
            "    (25): ReLU()\n",
            "    (26): Conv2d(512, 512, kernel_size=(3, 3), stride=(1, 1), padding=(1, 1))\n",
            "    (27): ReLU()\n",
            "    (28): Conv2d(512, 512, kernel_size=(3, 3), stride=(1, 1), padding=(1, 1))\n",
            "    (29): ReLU()\n",
            "    (30): MaxPool2d(kernel_size=[2, 2], stride=[2, 2], padding=0, dilation=1, ceil_mode=False)\n",
            "    (31): Conv2d(512, 4096, kernel_size=(7, 7), stride=(1, 1))\n",
            "  )\n",
            "  (class_classifier): Sequential(\n",
            "    (0): ReLU()\n",
            "    (1): Linear(in_features=4096, out_features=4096, bias=True)\n",
            "    (2): ReLU()\n",
            "    (3): Linear(in_features=4096, out_features=7, bias=True)\n",
            "  )\n",
            "  (domain_classifier): Sequential(\n",
            "    (0): ReLU()\n",
            "    (1): Linear(in_features=4096, out_features=4096, bias=True)\n",
            "    (2): ReLU()\n",
            "    (3): Linear(in_features=4096, out_features=7, bias=True)\n",
            "  )\n",
            ")\n",
            "features.shape...... torch.Size([2, 4096, 1, 1])\n",
            "features.shape after view...... torch.Size([2, 4096])\n",
            "----------------------------------------------------------------\n",
            "        Layer (type)               Output Shape         Param #\n",
            "================================================================\n",
            "            Conv2d-1         [-1, 64, 224, 224]           1,792\n",
            "              ReLU-2         [-1, 64, 224, 224]               0\n",
            "            Conv2d-3         [-1, 64, 224, 224]          36,928\n",
            "              ReLU-4         [-1, 64, 224, 224]               0\n",
            "         MaxPool2d-5         [-1, 64, 112, 112]               0\n",
            "            Conv2d-6        [-1, 128, 112, 112]          73,856\n",
            "              ReLU-7        [-1, 128, 112, 112]               0\n",
            "            Conv2d-8        [-1, 128, 112, 112]         147,584\n",
            "              ReLU-9        [-1, 128, 112, 112]               0\n",
            "        MaxPool2d-10          [-1, 128, 56, 56]               0\n",
            "           Conv2d-11          [-1, 256, 56, 56]         295,168\n",
            "             ReLU-12          [-1, 256, 56, 56]               0\n",
            "           Conv2d-13          [-1, 256, 56, 56]         590,080\n",
            "             ReLU-14          [-1, 256, 56, 56]               0\n",
            "           Conv2d-15          [-1, 256, 56, 56]         590,080\n",
            "             ReLU-16          [-1, 256, 56, 56]               0\n",
            "        MaxPool2d-17          [-1, 256, 28, 28]               0\n",
            "           Conv2d-18          [-1, 512, 28, 28]       1,180,160\n",
            "             ReLU-19          [-1, 512, 28, 28]               0\n",
            "           Conv2d-20          [-1, 512, 28, 28]       2,359,808\n",
            "             ReLU-21          [-1, 512, 28, 28]               0\n",
            "           Conv2d-22          [-1, 512, 28, 28]       2,359,808\n",
            "             ReLU-23          [-1, 512, 28, 28]               0\n",
            "        MaxPool2d-24          [-1, 512, 14, 14]               0\n",
            "           Conv2d-25          [-1, 512, 14, 14]       2,359,808\n",
            "             ReLU-26          [-1, 512, 14, 14]               0\n",
            "           Conv2d-27          [-1, 512, 14, 14]       2,359,808\n",
            "             ReLU-28          [-1, 512, 14, 14]               0\n",
            "           Conv2d-29          [-1, 512, 14, 14]       2,359,808\n",
            "             ReLU-30          [-1, 512, 14, 14]               0\n",
            "        MaxPool2d-31            [-1, 512, 7, 7]               0\n",
            "           Conv2d-32           [-1, 4096, 1, 1]     102,764,544\n",
            "             ReLU-33                 [-1, 4096]               0\n",
            "             ReLU-34                 [-1, 4096]               0\n",
            "           Linear-35                 [-1, 4096]      16,781,312\n",
            "           Linear-36                 [-1, 4096]      16,781,312\n",
            "             ReLU-37                 [-1, 4096]               0\n",
            "             ReLU-38                 [-1, 4096]               0\n",
            "           Linear-39                    [-1, 7]          28,679\n",
            "           Linear-40                    [-1, 7]          28,679\n",
            "             ReLU-41                 [-1, 4096]               0\n",
            "             ReLU-42                 [-1, 4096]               0\n",
            "           Linear-43                 [-1, 4096]      16,781,312\n",
            "           Linear-44                 [-1, 4096]      16,781,312\n",
            "             ReLU-45                 [-1, 4096]               0\n",
            "             ReLU-46                 [-1, 4096]               0\n",
            "           Linear-47                    [-1, 7]          28,679\n",
            "           Linear-48                    [-1, 7]          28,679\n",
            "================================================================\n",
            "Total params: 184,719,196\n",
            "Trainable params: 184,719,196\n",
            "Non-trainable params: 0\n",
            "----------------------------------------------------------------\n",
            "Input size (MB): 0.57\n",
            "Forward/backward pass size (MB): 218.80\n",
            "Params size (MB): 704.65\n",
            "Estimated Total Size (MB): 924.02\n",
            "----------------------------------------------------------------\n"
          ]
        }
      ]
    },
    {
      "cell_type": "markdown",
      "source": [
        "## Checking accuracy before fine tuning"
      ],
      "metadata": {
        "id": "GjHaPPQ7_LUZ"
      }
    },
    {
      "cell_type": "code",
      "source": [
        "use_cuda = torch.cuda.is_available()\n",
        "device = torch.device(\"cuda\" if use_cuda else \"cpu\")\n",
        "print(device)"
      ],
      "metadata": {
        "colab": {
          "base_uri": "https://localhost:8080/"
        },
        "id": "sL4sJBcs_TfU",
        "outputId": "edaf2b32-9a35-431c-f576-5510b20de01d"
      },
      "execution_count": null,
      "outputs": [
        {
          "output_type": "stream",
          "name": "stdout",
          "text": [
            "cuda\n"
          ]
        }
      ]
    },
    {
      "cell_type": "code",
      "source": [
        "model = model.to(device=device)"
      ],
      "metadata": {
        "id": "GFh6azqs_Qcy"
      },
      "execution_count": null,
      "outputs": []
    },
    {
      "cell_type": "code",
      "source": [
        "def get_correct_preds(prediction, labels):\n",
        "    \"\"\"\n",
        "    Function to return total number of correct predictions\n",
        "    :param prediction: Model predictions on a given sample of data\n",
        "    :param labels: Correct labels of a given sample of data\n",
        "    :return: Number of correct predictions\n",
        "    \"\"\"\n",
        "    return prediction.argmax(dim=1).eq(labels.argmax(dim=1)).sum().item()"
      ],
      "metadata": {
        "id": "q-Ru9UFrAUcZ"
      },
      "execution_count": null,
      "outputs": []
    },
    {
      "cell_type": "code",
      "source": [
        "def test_model_local(model, device, data_loader, mode= 'test',\n",
        "               class_loss_function = nn.CrossEntropyLoss() ):\n",
        "    model.eval() # evaluation mode\n",
        "\n",
        "    # variables to track loss and accuracy\n",
        "    test_loss = 0.0\n",
        "    correct = 0\n",
        "\n",
        "    # Disable gradient updation\n",
        "    with torch.no_grad():\n",
        "        # Iterate over each batch and fetch images and labels from the batch\n",
        "        for batch_idx, batch in enumerate(data_loader):\n",
        "            images, labels = batch[0].to(device), batch[1].to(device)\n",
        "\n",
        "            class_output  = model((images*255)) # forward pass, output = {class}\n",
        "            class_loss = class_loss_function(class_output,labels) # Calculate Loss\n",
        "\n",
        "            test_loss += class_loss.item() # sum up batch loss\n",
        "\n",
        "            # Sum up batch correct predictions\n",
        "            correct += get_correct_preds(class_output, labels)\n",
        "\n",
        "    # Calculate test loss for a epoch\n",
        "    test_loss /= len(data_loader.dataset)\n",
        "\n",
        "    print('Test / Val: Average loss: {:.4f}, Accuracy: {}/{} ({:.2f}%)\\n'.format(test_loss, correct, len(data_loader.dataset),\n",
        "        100. * correct / len(data_loader.dataset)))\n",
        "\n",
        "\n",
        "    return correct, test_loss"
      ],
      "metadata": {
        "id": "YCNMLUllAJUs"
      },
      "execution_count": null,
      "outputs": []
    },
    {
      "cell_type": "code",
      "source": [
        "correct, test_loss = test_model_local(model, device, data_loader['source']['val'], mode= 'test')\n",
        "correct, test_loss"
      ],
      "metadata": {
        "colab": {
          "base_uri": "https://localhost:8080/"
        },
        "id": "Adp5WdYOAmAb",
        "outputId": "e9065ac4-7699-4097-cd3d-953eb5b0ca7d"
      },
      "execution_count": null,
      "outputs": [
        {
          "output_type": "stream",
          "name": "stdout",
          "text": [
            "Test / Val: Average loss: 0.5760, Accuracy: 108/419 (25.78%)\n",
            "\n"
          ]
        },
        {
          "output_type": "execute_result",
          "data": {
            "text/plain": [
              "(108, 0.5760191858241552)"
            ]
          },
          "metadata": {},
          "execution_count": 17
        }
      ]
    },
    {
      "cell_type": "code",
      "source": [
        "import torch\n",
        "import torch.nn as nn\n",
        "import torch.optim as optim\n",
        "from torchvision.transforms import ToTensor\n",
        "from torch.utils.data import DataLoader\n",
        "\n",
        "def train_model_local(model, train_loader, criterion, optimizer, device='cuda'):\n",
        "    model.to(device)\n",
        "    model.train()\n",
        "\n",
        "\n",
        "    # for epoch in range(num_epochs):\n",
        "    running_loss = 0.0\n",
        "    correct = 0\n",
        "\n",
        "    for inputs, labels,_ in train_loader:\n",
        "        inputs = inputs * 255.0  # Convert inputs from [0, 1] to [0, 255]\n",
        "        inputs = inputs.to(device)\n",
        "        labels = labels.to(device)\n",
        "\n",
        "        optimizer.zero_grad()\n",
        "\n",
        "        outputs = model(inputs)\n",
        "        loss = criterion(outputs, labels)\n",
        "        loss.backward()\n",
        "        optimizer.step()\n",
        "\n",
        "        running_loss += loss.item() * inputs.size(0)\n",
        "        correct += get_correct_preds(outputs, labels)\n",
        "\n",
        "\n",
        "    epoch_loss = running_loss / len(train_loader.dataset)\n",
        "    length_dataset = len(train_loader.dataset)\n",
        "    print(f'Epoch [{epoch+1}/{num_epochs}], Loss: {epoch_loss:.4f}, Accuracy : {correct}/{length_dataset} Or {100. * correct / length_dataset}')\n",
        "\n"
      ],
      "metadata": {
        "id": "XzcsTuKlBwG4"
      },
      "execution_count": null,
      "outputs": []
    },
    {
      "cell_type": "code",
      "source": [
        "criterion = nn.CrossEntropyLoss()\n",
        "optimizer = optim.SGD(model.parameters(), lr=0.001, momentum=0.9)"
      ],
      "metadata": {
        "id": "XosfYs97CRjU"
      },
      "execution_count": null,
      "outputs": []
    },
    {
      "cell_type": "code",
      "source": [
        "num_epochs=55\n",
        "for epoch in range(num_epochs):\n",
        "  train_model_local(model = model, train_loader = data_loader['source']['train'], criterion = criterion, optimizer=optimizer)\n",
        "  test_model_local(model, device, data_loader['source']['val'], class_loss_function= criterion, mode= 'test')\n",
        "  print('Training finished.')"
      ],
      "metadata": {
        "colab": {
          "base_uri": "https://localhost:8080/"
        },
        "id": "I9mIovltCpC8",
        "outputId": "f83f152f-aaf2-45f5-b232-5dc57ba74d61"
      },
      "execution_count": null,
      "outputs": [
        {
          "output_type": "stream",
          "name": "stdout",
          "text": [
            "Epoch [1/55], Loss: 2.4992, Accuracy : 173/913 Or 18.948521358159912\n",
            "Test / Val: Average loss: 0.1230, Accuracy: 75/419 (17.90%)\n",
            "\n",
            "Epoch [2/55], Loss: 1.9248, Accuracy : 164/913 Or 17.96276013143483\n",
            "Test / Val: Average loss: 0.1239, Accuracy: 82/419 (19.57%)\n",
            "\n",
            "Epoch [3/55], Loss: 1.9022, Accuracy : 167/913 Or 18.291347207009856\n",
            "Test / Val: Average loss: 0.1225, Accuracy: 78/419 (18.62%)\n",
            "\n",
            "Epoch [4/55], Loss: 1.9237, Accuracy : 145/913 Or 15.881708652792991\n",
            "Test / Val: Average loss: 0.1223, Accuracy: 78/419 (18.62%)\n",
            "\n",
            "Epoch [5/55], Loss: 1.8953, Accuracy : 171/913 Or 18.729463307776562\n",
            "Test / Val: Average loss: 0.1220, Accuracy: 74/419 (17.66%)\n",
            "\n",
            "Epoch [6/55], Loss: 1.8898, Accuracy : 200/913 Or 21.90580503833516\n",
            "Test / Val: Average loss: 0.1221, Accuracy: 79/419 (18.85%)\n",
            "\n",
            "Epoch [7/55], Loss: 1.8947, Accuracy : 173/913 Or 18.948521358159912\n",
            "Test / Val: Average loss: 0.1220, Accuracy: 81/419 (19.33%)\n",
            "\n",
            "Epoch [8/55], Loss: 1.8814, Accuracy : 185/913 Or 20.262869660460023\n",
            "Test / Val: Average loss: 0.1226, Accuracy: 79/419 (18.85%)\n",
            "\n",
            "Epoch [9/55], Loss: 1.8908, Accuracy : 193/913 Or 21.139101861993428\n",
            "Test / Val: Average loss: 0.1205, Accuracy: 105/419 (25.06%)\n",
            "\n",
            "Epoch [10/55], Loss: 1.8855, Accuracy : 196/913 Or 21.467688937568454\n",
            "Test / Val: Average loss: 0.1219, Accuracy: 82/419 (19.57%)\n",
            "\n",
            "Epoch [11/55], Loss: 1.8671, Accuracy : 204/913 Or 22.343921139101862\n",
            "Test / Val: Average loss: 0.1207, Accuracy: 92/419 (21.96%)\n",
            "\n",
            "Epoch [12/55], Loss: 1.8743, Accuracy : 203/913 Or 22.234392113910186\n",
            "Test / Val: Average loss: 0.1198, Accuracy: 115/419 (27.45%)\n",
            "\n",
            "Epoch [13/55], Loss: 1.8451, Accuracy : 247/913 Or 27.05366922234392\n",
            "Test / Val: Average loss: 0.1182, Accuracy: 90/419 (21.48%)\n",
            "\n",
            "Epoch [14/55], Loss: 1.7873, Accuracy : 246/913 Or 26.944140197152244\n",
            "Test / Val: Average loss: 0.1212, Accuracy: 94/419 (22.43%)\n",
            "\n",
            "Epoch [15/55], Loss: 1.7992, Accuracy : 272/913 Or 29.791894852135815\n",
            "Test / Val: Average loss: 0.1129, Accuracy: 135/419 (32.22%)\n",
            "\n",
            "Epoch [16/55], Loss: 1.7622, Accuracy : 276/913 Or 30.230010952902518\n",
            "Test / Val: Average loss: 0.1429, Accuracy: 91/419 (21.72%)\n",
            "\n",
            "Epoch [17/55], Loss: 1.7667, Accuracy : 272/913 Or 29.791894852135815\n",
            "Test / Val: Average loss: 0.1163, Accuracy: 122/419 (29.12%)\n",
            "\n",
            "Epoch [18/55], Loss: 1.6331, Accuracy : 340/913 Or 37.23986856516977\n",
            "Test / Val: Average loss: 0.1142, Accuracy: 149/419 (35.56%)\n",
            "\n",
            "Epoch [19/55], Loss: 1.5816, Accuracy : 374/913 Or 40.963855421686745\n",
            "Test / Val: Average loss: 0.1195, Accuracy: 154/419 (36.75%)\n",
            "\n",
            "Epoch [20/55], Loss: 1.5149, Accuracy : 387/913 Or 42.38773274917853\n",
            "Test / Val: Average loss: 0.1099, Accuracy: 180/419 (42.96%)\n",
            "\n",
            "Epoch [21/55], Loss: 1.4320, Accuracy : 423/913 Or 46.33077765607886\n",
            "Test / Val: Average loss: 0.1019, Accuracy: 173/419 (41.29%)\n",
            "\n",
            "Epoch [22/55], Loss: 1.4219, Accuracy : 434/913 Or 47.53559693318729\n",
            "Test / Val: Average loss: 0.0996, Accuracy: 180/419 (42.96%)\n",
            "\n",
            "Epoch [23/55], Loss: 1.2909, Accuracy : 481/913 Or 52.68346111719606\n",
            "Test / Val: Average loss: 0.1059, Accuracy: 200/419 (47.73%)\n",
            "\n",
            "Epoch [24/55], Loss: 1.2452, Accuracy : 500/913 Or 54.7645125958379\n",
            "Test / Val: Average loss: 0.1031, Accuracy: 187/419 (44.63%)\n",
            "\n",
            "Epoch [25/55], Loss: 1.1963, Accuracy : 526/913 Or 57.61226725082147\n",
            "Test / Val: Average loss: 0.0984, Accuracy: 181/419 (43.20%)\n",
            "\n",
            "Epoch [26/55], Loss: 1.1852, Accuracy : 532/913 Or 58.26944140197152\n",
            "Test / Val: Average loss: 0.1097, Accuracy: 217/419 (51.79%)\n",
            "\n",
            "Epoch [27/55], Loss: 1.0843, Accuracy : 556/913 Or 60.89813800657174\n",
            "Test / Val: Average loss: 0.1057, Accuracy: 201/419 (47.97%)\n",
            "\n",
            "Epoch [28/55], Loss: 1.0218, Accuracy : 611/913 Or 66.92223439211391\n",
            "Test / Val: Average loss: 0.1008, Accuracy: 182/419 (43.44%)\n",
            "\n",
            "Epoch [29/55], Loss: 0.9988, Accuracy : 603/913 Or 66.04600219058051\n",
            "Test / Val: Average loss: 0.1381, Accuracy: 186/419 (44.39%)\n",
            "\n",
            "Epoch [30/55], Loss: 0.9806, Accuracy : 637/913 Or 69.76998904709748\n",
            "Test / Val: Average loss: 0.1052, Accuracy: 211/419 (50.36%)\n",
            "\n",
            "Epoch [31/55], Loss: 0.9275, Accuracy : 626/913 Or 68.56516976998904\n",
            "Test / Val: Average loss: 0.1103, Accuracy: 165/419 (39.38%)\n",
            "\n",
            "Epoch [32/55], Loss: 1.0255, Accuracy : 579/913 Or 63.41730558598029\n",
            "Test / Val: Average loss: 0.1250, Accuracy: 198/419 (47.26%)\n",
            "\n",
            "Epoch [33/55], Loss: 0.8816, Accuracy : 642/913 Or 70.31763417305586\n",
            "Test / Val: Average loss: 0.1093, Accuracy: 187/419 (44.63%)\n",
            "\n",
            "Epoch [34/55], Loss: 0.7617, Accuracy : 682/913 Or 74.6987951807229\n",
            "Test / Val: Average loss: 0.1201, Accuracy: 199/419 (47.49%)\n",
            "\n",
            "Epoch [35/55], Loss: 1.0161, Accuracy : 601/913 Or 65.82694414019716\n",
            "Test / Val: Average loss: 0.1139, Accuracy: 184/419 (43.91%)\n",
            "\n",
            "Epoch [36/55], Loss: 0.8269, Accuracy : 652/913 Or 71.41292442497262\n",
            "Test / Val: Average loss: 0.1321, Accuracy: 156/419 (37.23%)\n",
            "\n",
            "Epoch [37/55], Loss: 0.8750, Accuracy : 649/913 Or 71.08433734939759\n",
            "Test / Val: Average loss: 0.1166, Accuracy: 191/419 (45.58%)\n",
            "\n",
            "Epoch [38/55], Loss: 1.3587, Accuracy : 465/913 Or 50.93099671412924\n",
            "Test / Val: Average loss: 0.1126, Accuracy: 177/419 (42.24%)\n",
            "\n",
            "Epoch [39/55], Loss: 1.0169, Accuracy : 587/913 Or 64.29353778751369\n",
            "Test / Val: Average loss: 0.1381, Accuracy: 191/419 (45.58%)\n",
            "\n",
            "Epoch [40/55], Loss: 1.2741, Accuracy : 508/913 Or 55.640744797371305\n",
            "Test / Val: Average loss: 0.1077, Accuracy: 204/419 (48.69%)\n",
            "\n",
            "Epoch [41/55], Loss: 0.9843, Accuracy : 619/913 Or 67.79846659364732\n",
            "Test / Val: Average loss: 0.1192, Accuracy: 189/419 (45.11%)\n",
            "\n",
            "Epoch [42/55], Loss: 0.8515, Accuracy : 654/913 Or 71.63198247535597\n",
            "Test / Val: Average loss: 0.1079, Accuracy: 219/419 (52.27%)\n",
            "\n",
            "Epoch [43/55], Loss: 0.7202, Accuracy : 701/913 Or 76.77984665936474\n",
            "Test / Val: Average loss: 0.0989, Accuracy: 236/419 (56.32%)\n",
            "\n",
            "Epoch [44/55], Loss: 0.7423, Accuracy : 685/913 Or 75.02738225629791\n",
            "Test / Val: Average loss: 0.1124, Accuracy: 202/419 (48.21%)\n",
            "\n",
            "Epoch [45/55], Loss: 0.6259, Accuracy : 729/913 Or 79.84665936473165\n",
            "Test / Val: Average loss: 0.1450, Accuracy: 207/419 (49.40%)\n",
            "\n",
            "Epoch [46/55], Loss: 0.6520, Accuracy : 735/913 Or 80.50383351588171\n",
            "Test / Val: Average loss: 0.1316, Accuracy: 205/419 (48.93%)\n",
            "\n",
            "Epoch [47/55], Loss: 0.5442, Accuracy : 756/913 Or 82.8039430449069\n",
            "Test / Val: Average loss: 0.1168, Accuracy: 213/419 (50.84%)\n",
            "\n",
            "Epoch [48/55], Loss: 0.5212, Accuracy : 760/913 Or 83.24205914567361\n",
            "Test / Val: Average loss: 0.1731, Accuracy: 208/419 (49.64%)\n",
            "\n",
            "Epoch [49/55], Loss: 0.6501, Accuracy : 703/913 Or 76.99890470974809\n",
            "Test / Val: Average loss: 0.1370, Accuracy: 189/419 (45.11%)\n",
            "\n",
            "Epoch [50/55], Loss: 0.4913, Accuracy : 773/913 Or 84.66593647316539\n",
            "Test / Val: Average loss: 0.1644, Accuracy: 199/419 (47.49%)\n",
            "\n",
            "Epoch [51/55], Loss: 0.5638, Accuracy : 756/913 Or 82.8039430449069\n",
            "Test / Val: Average loss: 0.1264, Accuracy: 207/419 (49.40%)\n",
            "\n",
            "Epoch [52/55], Loss: 0.4221, Accuracy : 787/913 Or 86.19934282584884\n",
            "Test / Val: Average loss: 0.1288, Accuracy: 208/419 (49.64%)\n",
            "\n",
            "Epoch [53/55], Loss: 0.3864, Accuracy : 797/913 Or 87.29463307776561\n",
            "Test / Val: Average loss: 0.1689, Accuracy: 211/419 (50.36%)\n",
            "\n",
            "Epoch [54/55], Loss: 0.5127, Accuracy : 771/913 Or 84.44687842278204\n",
            "Test / Val: Average loss: 0.1785, Accuracy: 189/419 (45.11%)\n",
            "\n",
            "Epoch [55/55], Loss: 0.4131, Accuracy : 794/913 Or 86.96604600219058\n",
            "Test / Val: Average loss: 0.1422, Accuracy: 199/419 (47.49%)\n",
            "\n"
          ]
        }
      ]
    },
    {
      "cell_type": "code",
      "source": [
        "# import torch.nn as nn\n",
        "# # import torch\n",
        "# import torch.nn.functional as F\n",
        "\n",
        "# class SimpleModelv1(nn.Module):\n",
        "#     def __init__(self,\n",
        "#                  num_classes = 7,\n",
        "#                  dropout = 0.1):\n",
        "\n",
        "#         super(SimpleModelv1, self).__init__()\n",
        "#         self.num_classes = num_classes\n",
        "\n",
        "#         #---------------------Feature Extractor Network------------------------#\n",
        "#         self.conv1 = nn.Conv2d(in_channels=3, out_channels=32, kernel_size=3, padding=1) # 224>224 | 3\n",
        "#         self.conv2 = nn.Conv2d(in_channels=32,out_channels=64, kernel_size=3, padding= 1) # 224>224 | 5\n",
        "#         self.pool1 = nn.MaxPool2d(kernel_size=2, stride=2) # 224>112 | 10\n",
        "\n",
        "#         self.conv3 = nn.Conv2d(in_channels=64, out_channels=128, kernel_size=3, padding=1) # 112>112 | 12\n",
        "#         self.conv4 = nn.Conv2d(in_channels=128,out_channels=256, kernel_size=3, padding= 1) # 112>112 | 14\n",
        "#         self.pool2 = nn.MaxPool2d(kernel_size=2, stride=2) # 112>56 | 28\n",
        "\n",
        "#         self.conv5 = nn.Conv2d(in_channels=256, out_channels=512, kernel_size=3, padding=1) # 56>56 | 30\n",
        "#         self.conv6 = nn.Conv2d(in_channels=512,out_channels=1024, kernel_size=3, padding= 1) # 56>56 | 32\n",
        "#         self.pool3 = nn.MaxPool2d(kernel_size=2, stride=2) # 56>28 | 64\n",
        "\n",
        "#         self.conv7 = nn.Conv2d(in_channels=1024, out_channels=2048, kernel_size=3, padding=1) # 28>28 | 66\n",
        "#         self.conv8 = nn.Conv2d(in_channels=2048,out_channels=2048, kernel_size=3, padding= 1) # 28>28 | 68\n",
        "#         self.pool4 = nn.MaxPool2d(kernel_size=2, stride=2) # 28>14 | 136\n",
        "\n",
        "#         self.conv9 = nn.Conv2d(in_channels=2048, out_channels=512, kernel_size=3, padding=1) # 14>14 | 138\n",
        "#         self.conv10 = nn.Conv2d(in_channels=512,out_channels=128, kernel_size=3, padding= 1) # 14>14 | 140\n",
        "#         self.pool5 = nn.MaxPool2d(kernel_size=2, stride=2) # 14>7 | 280\n",
        "\n",
        "#         self.conv11 = nn.Conv2d(in_channels=128, out_channels=32, kernel_size=3) # 7>5 | 282\n",
        "#         self.conv12 = nn.Conv2d(in_channels=32,out_channels=16, kernel_size=3) # 5>3 | 284\n",
        "#         self.conv13 = nn.Conv2d(in_channels=16,out_channels=self.num_classes, kernel_size=3) # 3>1x1xnum_classes | 286\n",
        "\n",
        "#         # #---------------------Class (Task) Classifier Network------------------------#\n",
        "\n",
        "#         # class_classifier_layers = [nn.ReLU(),\n",
        "#         #                            nn.Dropout(p=dropout),\n",
        "#         #                            nn.Linear(1280,100),\n",
        "#         #                            nn.ReLU(),\n",
        "#         #                            nn.Dropout(p=dropout)]\n",
        "\n",
        "#         # class_classifier_layers.extend([nn.ReLU(),\n",
        "#         #                                 nn.Dropout(p=dropout),\n",
        "#         #                                 nn.Linear(100,num_classes)])\n",
        "\n",
        "#         # self.class_classifier = nn.Sequential(*class_classifier_layers)\n",
        "#         # print (self.class_classifier)\n",
        "\n",
        "#     def forward(self, x):\n",
        "#         x = self.pool1(F.relu(self.conv2(F.relu(self.conv1(x)))))\n",
        "#         # print(\"after first max pool, shape :\", x.shape)\n",
        "#         x = self.pool2(F.relu(self.conv4(F.relu(self.conv3(x)))))\n",
        "#         # print(\"after second max pool, shape :\", x.shape)\n",
        "#         x = self.pool3(F.relu(self.conv6(F.relu(self.conv5(x)))))\n",
        "#         # print(\"after third max pool, shape :\", x.shape)\n",
        "#         x = self.pool4(F.relu(self.conv8(F.relu(self.conv7(x)))))\n",
        "#         # print(\"after fourth max pool, shape :\", x.shape)\n",
        "#         x = self.pool5(F.relu(self.conv10(F.relu(self.conv9(x)))))\n",
        "#         # print(\"after fifth max pool, shape :\", x.shape)\n",
        "#         x = self.conv13(F.relu(self.conv12(F.relu(self.conv11(x)))))\n",
        "#         # print(\"after convolution shape :\", x.shape)\n",
        "\n",
        "#         x = x.view(-1, self.num_classes)\n",
        "#         # print(\"after reshaping - view shape :\", x.shape)\n",
        "#         return x\n",
        "#         # return F.log_softmax(x, dim=1)"
      ],
      "metadata": {
        "id": "gJBU0uYcpO8A"
      },
      "execution_count": null,
      "outputs": []
    },
    {
      "cell_type": "code",
      "source": [
        "import torch\n",
        "import torch.nn as nn\n",
        "import torchvision.models as models\n",
        "\n",
        "class SimpleModelv2(nn.Module):\n",
        "    def __init__(self,\n",
        "                 num_classes = 7,\n",
        "                 dropout = 0.1):\n",
        "\n",
        "        super(SimpleModelv2, self).__init__()\n",
        "\n",
        "        self.num_classes = num_classes\n",
        "        resnet = models.resnet50(pretrained=True)\n",
        "        num_features = resnet.fc.in_features\n",
        "        resnet.fc = nn.Linear(num_features, num_classes)\n",
        "        self.resnet = resnet\n",
        "\n",
        "    def forward(self, x):\n",
        "        x = self.resnet(x)\n",
        "        return x,x,x"
      ],
      "metadata": {
        "id": "1dxWtAEiJ9dy"
      },
      "execution_count": null,
      "outputs": []
    },
    {
      "cell_type": "code",
      "source": [
        "use_cuda = torch.cuda.is_available()\n",
        "device = torch.device(\"cuda\" if use_cuda else \"cpu\")\n",
        "print(device)"
      ],
      "metadata": {
        "id": "3-GEN-hRyEVV"
      },
      "execution_count": null,
      "outputs": []
    },
    {
      "cell_type": "code",
      "source": [
        "model = SimpleModelv2().to(device=device)"
      ],
      "metadata": {
        "id": "HVnWgtc9xCoy"
      },
      "execution_count": null,
      "outputs": []
    },
    {
      "cell_type": "markdown",
      "source": [
        "#### Model params"
      ],
      "metadata": {
        "id": "X7pJhBHizJor"
      }
    },
    {
      "cell_type": "code",
      "source": [
        "!pip install torchsummary\n",
        "from torchsummary import summary\n",
        "summary(model, input_size=(3, 224, 224))"
      ],
      "metadata": {
        "id": "uxfL13gyzIrp"
      },
      "execution_count": null,
      "outputs": []
    },
    {
      "cell_type": "code",
      "source": [
        "# print(model)"
      ],
      "metadata": {
        "id": "OtDhFKyZKpTn"
      },
      "execution_count": null,
      "outputs": []
    },
    {
      "cell_type": "markdown",
      "source": [
        "#### Running Model for single Run"
      ],
      "metadata": {
        "id": "-KDx-ibEyO5o"
      }
    },
    {
      "cell_type": "code",
      "source": [
        "for usage, dict_data_loader in data_loader.items(): ## {'source' : sfew_loader,'target' : expw_loader}\n",
        "    print('-'*80)\n",
        "    print(usage)\n",
        "    for k, v in dict_data_loader.items(): # {'name': 'sfew','train':sfew_train_loader,'val':sfew_val_loader}\n",
        "      if k == 'name':\n",
        "        print (f'--------{k} of dataset : {v}--------')\n",
        "      else:\n",
        "        print (f'   --------type : {k}--------')\n",
        "        batch = next(iter(v)) # it may be possible that some datasets have more than 2 outputs, so this strategy is safe\n",
        "        images, labels = batch[0].to(device), batch[1].to(device)\n",
        "        print( \"Input:\\n\",\"Input Image: \",images.shape, \", labels: \",labels.shape)\n",
        "        print(\"Input labels:\\n\", labels)\n",
        "        print(\"Input labels - index\", labels.argmax(dim=1))\n",
        "\n",
        "        x_labels, _ , _ = model(images) # forward pass\n",
        "        print(\"Output:\\n\", \"labels shape: \", x_labels.shape)\n",
        "        print(\"Output labels:\\n\", x_labels)\n",
        "        print(\"Output labels - index\", x_labels.argmax(dim=1))\n"
      ],
      "metadata": {
        "id": "eFym0W6LyMXV"
      },
      "execution_count": null,
      "outputs": []
    },
    {
      "cell_type": "markdown",
      "source": [
        "## Training and Testing"
      ],
      "metadata": {
        "id": "_yK6tTPkzlSC"
      }
    },
    {
      "cell_type": "code",
      "source": [
        "from tqdm import tqdm\n",
        "import torch.nn.functional as F"
      ],
      "metadata": {
        "id": "R1S91c7RyaXs"
      },
      "execution_count": null,
      "outputs": []
    },
    {
      "cell_type": "markdown",
      "source": [
        "### Train Function"
      ],
      "metadata": {
        "id": "WslOILxXARMU"
      }
    },
    {
      "cell_type": "code",
      "source": [
        "# import torch.nn as nn\n",
        "# def train(model, device, train_loader,\n",
        "#           optimizer, epoch,\n",
        "#           # loss_fn = F.cross_entropy\n",
        "#           # loss_fn = F.nll_loss\n",
        "#           # loss_fn = F.binary_cross_entropy_with_logits\n",
        "#           loss_fn = nn.CrossEntropyLoss()\n",
        "\n",
        "#           ):\n",
        "#   model.train()\n",
        "#   pbar = tqdm(train_loader)\n",
        "#   correct = 0\n",
        "#   processed = 0\n",
        "#   for batch_idx, (data, target,img_name) in enumerate(pbar):\n",
        "#     # get samples\n",
        "#     data, target = data.to(device), target.to(device)\n",
        "\n",
        "#     # Init\n",
        "#     optimizer.zero_grad()\n",
        "\n",
        "#     # Predict\n",
        "#     y_pred = model(data)\n",
        "\n",
        "#     # Calculate loss\n",
        "#     loss = loss_fn(y_pred, target)\n",
        "#     train_losses.append(loss)\n",
        "\n",
        "#     # Backpropagation\n",
        "#     loss.backward()\n",
        "#     optimizer.step()\n",
        "\n",
        "#     # Update pbar-tqdm\n",
        "\n",
        "#     pred = y_pred.argmax(dim=1, keepdim=True)  # get the index of the max log-probability\n",
        "#     # correct += pred.eq(target.view_as(pred)).sum().item()\n",
        "#     correct += (pred.argmax(dim=1).eq(target.argmax(dim=1))).sum().item()\n",
        "\n",
        "#     processed += len(data)\n",
        "\n",
        "#     pbar.set_description(desc= f'Loss={loss.item()} Batch_id={batch_idx} Accuracy={100*correct/processed:0.2f}')\n",
        "#     train_acc.append(100*correct/processed)"
      ],
      "metadata": {
        "id": "FbN28XjYz4UR"
      },
      "execution_count": null,
      "outputs": []
    },
    {
      "cell_type": "markdown",
      "source": [
        "### Test Function"
      ],
      "metadata": {
        "id": "_e3pomW9AUOT"
      }
    },
    {
      "cell_type": "code",
      "source": [
        "# def test(model, device, test_loader,\n",
        "#         #  loss_fn = F.cross_entropy\n",
        "#         #  loss_fn = F.nll_loss\n",
        "#         #  loss_fn = F.binary_cross_entropy_with_logits\n",
        "#         loss_fn = nn.CrossEntropyLoss()\n",
        "#          ):\n",
        "#     model.eval()\n",
        "#     test_loss = 0\n",
        "#     correct = 0\n",
        "#     with torch.no_grad():\n",
        "#         for data, target, img_name in test_loader:\n",
        "#             data, target = data.to(device), target.to(device)\n",
        "#             output = model(data)\n",
        "#             test_loss += loss_fn(output, target).item()  # sum up batch loss\n",
        "#             pred = output.argmax(dim=1, keepdim=True)  # get the index of the max log-probability\n",
        "#             correct += (pred.argmax(dim=1).eq(target.argmax(dim=1))).sum().item()\n",
        "\n",
        "#     test_loss /= len(test_loader.dataset)\n",
        "#     test_losses.append(test_loss)\n",
        "\n",
        "#     print('--Test set: Average loss: {:.4f}, Accuracy: {}/{} ({:.2f}%)\\n'.format(\n",
        "#         test_loss, correct, len(test_loader.dataset),\n",
        "#         100. * correct / len(test_loader.dataset)))\n",
        "\n",
        "#     test_acc.append(100. * correct / len(test_loader.dataset))"
      ],
      "metadata": {
        "id": "AxizAkdZzuhn"
      },
      "execution_count": null,
      "outputs": []
    },
    {
      "cell_type": "markdown",
      "source": [
        "### Execution"
      ],
      "metadata": {
        "id": "Eqper_MjAMku"
      }
    },
    {
      "cell_type": "code",
      "source": [
        "runconfig = RunConfig()\n",
        "device = runconfig.device\n",
        "model = SimpleModelv2().to(device=device)\n",
        "best_model = SimpleModelv2().to(device=device)\n",
        "\n",
        "\n",
        "#learning rate\n",
        "lr =  0.01 #float(runconfig.inital_lr)\n",
        "\n",
        "# Epochs\n",
        "EPOCHS = runconfig.NUM_EPOCHS\n",
        "# EPOCHS = 5 #override\n",
        "print(\"EPOCHS\", EPOCHS)\n",
        "\n",
        "# ReduceLRonPlateau Scheduler Params\n",
        "scheduler_patience = 8 #runconfig.scheduler_patience\n",
        "scheduler_factor = runconfig.scheduler_factor\n",
        "scheduler_threshold = 25 #runconfig.scheduler_threshold\n",
        "\n",
        "# Early stopping params\n",
        "early_stop_patience = 10 #runconfig.early_stop_patience\n",
        "early_stop_difference = 15 #runconfig.early_stop_difference\n",
        "\n",
        "# optimizer\n",
        "optimizer = optim.SGD(model.parameters(), lr = lr, momentum = 0.9)\n",
        "\n",
        "#optimizer with weight decay (L2 regularization)\n",
        "# optimizer = optim.SGD(non_dann_model.parameters(), lr = lr, momentum = 0.9, weight_decay= 0.0001)\n",
        "\n",
        "# Set up the ReduceLROnPlateau scheduler\n",
        "scheduler = ReduceLROnPlateau(optimizer,\n",
        "                              # mode='min',\n",
        "                              mode='max',\n",
        "                              factor=scheduler_factor,\n",
        "                              patience=scheduler_patience,\n",
        "                              threshold = scheduler_threshold,\n",
        "                              threshold_mode='abs',\n",
        "                              min_lr=1e-6,\n",
        "                              verbose= True)\n",
        "\n",
        "# Initialize variables to track the best validation loss and the best model state\n",
        "best_val_loss = float('inf')\n",
        "best_val_acc = 0\n",
        "best_model_state = None\n",
        "\n",
        "# loss functions\n",
        "criterion_class = (runconfig.criterion_class).to(device=device)\n",
        "# criterion_domain = (runconfig.criterion_domain).to(device=device)\n",
        "\n",
        "# loss accumulation\n",
        "train_losses = [] # to capture train losses over training epochs\n",
        "val_losses = [] # to capture validation loss over epochs\n",
        "lr_schedule = [] # to capture learning rate over epochs\n",
        "epoch_converge = 0 #TODO: run config based\n",
        "list_val_correct = [] # to capture validation accuracy over epochs\n",
        "list_best_val_correct = [] # to capture best validtion accuracy over epochs"
      ],
      "metadata": {
        "id": "-Rm1SjUDNxI6"
      },
      "execution_count": null,
      "outputs": []
    },
    {
      "cell_type": "code",
      "source": [
        "# Training block\n",
        "print('------ Training started for Non DANN Model ---- ')\n",
        "print(f'starting LR : {lr}')\n",
        "for epoch in range(EPOCHS):\n",
        "    print(\"EPOCH:\", epoch+1, \" of \", EPOCHS)\n",
        "\n",
        "    #Train Model\n",
        "    avg_epoch_loss, curr_lr = train_model(model = model,\n",
        "                                          device = device,\n",
        "                                          data_loader = data_loader['source']['train'],\n",
        "                                          optimizer = optimizer,\n",
        "                                          epoch = epoch,\n",
        "                                          class_loss_function = criterion_class)\n",
        "    train_losses.append(avg_epoch_loss)\n",
        "    lr_schedule.append(curr_lr)\n",
        "\n",
        "    #Validate Model\n",
        "    correct, avg_epoch_val_loss = test_model(model= model,\n",
        "                                    device= device,\n",
        "                                    data_loader = data_loader['source']['val'],\n",
        "                                    class_loss_function = criterion_class\n",
        "                                    )\n",
        "\n",
        "    val_losses.append(avg_epoch_val_loss)\n",
        "    list_val_correct.append(correct)\n",
        "\n",
        "    #Adding Scheduler #TODO: ADD SCHEDULER\n",
        "    scheduler.step(correct) #applying scheduler on accuracy proxy, i.e. correct\n",
        "\n",
        "    # # Check if the current model has the best validation loss\n",
        "    # print(f'Last Epoch Val Loss = {avg_epoch_val_loss} | Best Val Loss = {best_val_loss}' )\n",
        "    # if avg_epoch_val_loss < best_val_loss:\n",
        "    #   best_val_loss = avg_epoch_val_loss\n",
        "    #   # save the current model state as the best model state\n",
        "    #   best_model_state = deepcopy(non_dann_model.state_dict())\n",
        "    #   print(f'Updated the best model with validation loss: {best_val_loss}\\n')\n",
        "\n",
        "    # check if the current model has the best accuracy\n",
        "    print (f'last correct ={correct} | best correct = {best_val_acc}')\n",
        "    if correct > best_val_acc:\n",
        "      best_val_acc = correct\n",
        "      # save the current model state as the best model state\n",
        "      best_model_state = deepcopy(model.state_dict())\n",
        "      print(f'Updated the best model with correct: {correct}\\n')\n",
        "\n",
        "    list_best_val_correct.append(best_val_acc)\n",
        "\n",
        "    # early stopping\n",
        "    # if early_stopping_difference(val_losses,\n",
        "    #                              patience = early_stop_patience,\n",
        "    #                              difference= early_stop_difference):\n",
        "    #   print (f'-------Early Stopping at epoch {epoch+1}---')\n",
        "    #   epoch_converge = epoch+1\n",
        "    #   break\n",
        "\n",
        "    if early_stopping_difference(list_val_correct,\n",
        "                                 patience = early_stop_patience,\n",
        "                                 difference= early_stop_difference):\n",
        "      print (f'-------Early Stopping at epoch {epoch+1}---')\n",
        "      epoch_converge = epoch+1\n",
        "      break\n",
        "\n",
        "    if early_stopping_difference(list_best_val_correct,\n",
        "                                 patience = 2*early_stop_patience,\n",
        "                                 difference= 0):\n",
        "      print (f'-------Early Stopping at epoch {epoch+1}---')\n",
        "      epoch_converge = epoch+1\n",
        "      break\n",
        "\n",
        "\n",
        "\n",
        "    ## showing misclassification images after every 10 epochs\n",
        "    if epoch % 10 == 0:\n",
        "      list_misclassified_images = get_misclassified_images_list(model= model,\n",
        "                                                                device = device,\n",
        "                                                                test_loader = data_loader['source']['val'],\n",
        "                                                                num_image = 10)\n",
        "      plot_misclassified_images(list_misclassified_images)\n",
        "\n",
        "## using params of best model to update model\n",
        "if best_model_state: # only update if best model has been saved, else the last one would be picked up\n",
        "  # best_non_dann_model.load_state_dict(best_model_state)\n",
        "  best_model.load_state_dict(best_model_state)\n",
        "  print('Best model loaded')\n",
        "\n",
        "\n",
        "print(f'Validation results with {source_name}')\n",
        "\n",
        "correct, test_loss_source = test_model(model= best_model, #best_non_dann_model, #non_dann_model,\n",
        "                                    device= device,\n",
        "                                    data_loader = data_loader['source']['val'], # source val loader\n",
        "                                    class_loss_function = criterion_class)\n",
        "\n",
        "\n",
        "dict_non_dann_losses = {'train_losses' : train_losses,\n",
        "                                       'val_losses': val_losses,\n",
        "                                       'test_loss_source' : test_loss_source,\n",
        "                                       'test_loss_target' : test_loss_target,\n",
        "                                       'epoch_convergence' : epoch_converge,\n",
        "                                       'lr': lr_schedule}\n"
      ],
      "metadata": {
        "id": "zGX6thYBOSyA"
      },
      "execution_count": null,
      "outputs": []
    },
    {
      "cell_type": "code",
      "source": [
        "fig, axs = plt.subplots(2,2,figsize=(15,10))\n",
        "axs[0, 0].plot([t_items.item() for t_items in dict_non_dann_losses['train_losses']])\n",
        "axs[0, 0].set_title(\"Training Loss\")\n",
        "axs[1, 0].plot([t_items.item() for t_items in dict_non_dann_losses['train_losses']])\n",
        "axs[1, 0].set_title(\"WIP Training Accuracy\")\n",
        "axs[0, 1].plot(dict_non_dann_losses['val_losses'])\n",
        "axs[0, 1].set_title(\"Test Loss\")\n",
        "axs[1, 1].plot(dict_non_dann_losses['val_losses'])\n",
        "axs[1, 1].set_title(\"WIP Test Accuracy\")"
      ],
      "metadata": {
        "id": "sW3iniNq98q0"
      },
      "execution_count": null,
      "outputs": []
    }
  ]
}