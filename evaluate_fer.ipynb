{
  "cells": [
    {
      "cell_type": "markdown",
      "metadata": {
        "id": "mpClqD9aD85M"
      },
      "source": [
        "### Task evaluation"
      ]
    },
    {
      "cell_type": "markdown",
      "metadata": {
        "id": "JMr8XyiaD85O"
      },
      "source": [
        "#### Loading Models\n",
        "Please note the models output `task,domain,feature`"
      ]
    },
    {
      "cell_type": "code",
      "execution_count": 1,
      "metadata": {
        "colab": {
          "base_uri": "https://localhost:8080/"
        },
        "id": "fRQi5xWND85P",
        "outputId": "abe02a80-554f-4f26-9058-c57e37743f67"
      },
      "outputs": [
        {
          "output_type": "stream",
          "name": "stdout",
          "text": [
            "Cloning into 'da_cv_fer'...\n",
            "remote: Enumerating objects: 87, done.\u001b[K\n",
            "remote: Counting objects: 100% (87/87), done.\u001b[K\n",
            "remote: Compressing objects: 100% (49/49), done.\u001b[K\n",
            "remote: Total 87 (delta 37), reused 79 (delta 35), pack-reused 0\u001b[K\n",
            "Receiving objects: 100% (87/87), 2.94 MiB | 13.60 MiB/s, done.\n",
            "Resolving deltas: 100% (37/37), done.\n"
          ]
        }
      ],
      "source": [
        "!git clone https://github.com/scaairesearch/da_cv_fer.git\n",
        "import os\n",
        "os.getcwd()\n",
        "os.chdir('da_cv_fer')"
      ]
    },
    {
      "cell_type": "code",
      "source": [
        "!pip install -q -r requirements.txt # -q is for quiet install\n",
        "!pip install -q opendatasets # quient install, for some reason this does not get installed with requirements"
      ],
      "metadata": {
        "colab": {
          "base_uri": "https://localhost:8080/"
        },
        "id": "S3raEEF2aNFj",
        "outputId": "28140d8e-8b66-49e1-9771-4038bc3d67aa"
      },
      "execution_count": 2,
      "outputs": [
        {
          "output_type": "stream",
          "name": "stdout",
          "text": [
            "\u001b[2K     \u001b[90m━━━━━━━━━━━━━━━━━━━━━━━━━━━━━━━━━━━━━━━━\u001b[0m \u001b[32m1.0/1.0 MB\u001b[0m \u001b[31m5.6 MB/s\u001b[0m eta \u001b[36m0:00:00\u001b[0m\n",
            "\u001b[2K     \u001b[90m━━━━━━━━━━━━━━━━━━━━━━━━━━━━━━━━━━━━━━━━\u001b[0m \u001b[32m61.2/61.2 kB\u001b[0m \u001b[31m8.2 MB/s\u001b[0m eta \u001b[36m0:00:00\u001b[0m\n",
            "\u001b[2K     \u001b[90m━━━━━━━━━━━━━━━━━━━━━━━━━━━━━━━━━━━━━━━━\u001b[0m \u001b[32m158.3/158.3 kB\u001b[0m \u001b[31m20.8 MB/s\u001b[0m eta \u001b[36m0:00:00\u001b[0m\n",
            "\u001b[2K     \u001b[90m━━━━━━━━━━━━━━━━━━━━━━━━━━━━━━━━━━━━━━━━\u001b[0m \u001b[32m138.7/138.7 kB\u001b[0m \u001b[31m17.3 MB/s\u001b[0m eta \u001b[36m0:00:00\u001b[0m\n",
            "\u001b[2K     \u001b[90m━━━━━━━━━━━━━━━━━━━━━━━━━━━━━━━━━━━━━━━━\u001b[0m \u001b[32m301.7/301.7 kB\u001b[0m \u001b[31m24.6 MB/s\u001b[0m eta \u001b[36m0:00:00\u001b[0m\n",
            "\u001b[2K     \u001b[90m━━━━━━━━━━━━━━━━━━━━━━━━━━━━━━━━━━━━━━━━\u001b[0m \u001b[32m3.3/3.3 MB\u001b[0m \u001b[31m29.4 MB/s\u001b[0m eta \u001b[36m0:00:00\u001b[0m\n",
            "\u001b[2K     \u001b[90m━━━━━━━━━━━━━━━━━━━━━━━━━━━━━━━━━━━━━━━━\u001b[0m \u001b[32m4.5/4.5 MB\u001b[0m \u001b[31m36.8 MB/s\u001b[0m eta \u001b[36m0:00:00\u001b[0m\n",
            "\u001b[2K     \u001b[90m━━━━━━━━━━━━━━━━━━━━━━━━━━━━━━━━━━━━━━━━\u001b[0m \u001b[32m225.7/225.7 kB\u001b[0m \u001b[31m22.0 MB/s\u001b[0m eta \u001b[36m0:00:00\u001b[0m\n",
            "\u001b[2K     \u001b[90m━━━━━━━━━━━━━━━━━━━━━━━━━━━━━━━━━━━━━━━━\u001b[0m \u001b[32m173.4/173.4 kB\u001b[0m \u001b[31m11.9 MB/s\u001b[0m eta \u001b[36m0:00:00\u001b[0m\n",
            "\u001b[2K     \u001b[90m━━━━━━━━━━━━━━━━━━━━━━━━━━━━━━━━━━━━━━━━\u001b[0m \u001b[32m61.5/61.5 kB\u001b[0m \u001b[31m3.7 MB/s\u001b[0m eta \u001b[36m0:00:00\u001b[0m\n",
            "\u001b[2K     \u001b[90m━━━━━━━━━━━━━━━━━━━━━━━━━━━━━━━━━━━━━━━━\u001b[0m \u001b[32m154.2/154.2 kB\u001b[0m \u001b[31m15.6 MB/s\u001b[0m eta \u001b[36m0:00:00\u001b[0m\n",
            "\u001b[2K     \u001b[90m━━━━━━━━━━━━━━━━━━━━━━━━━━━━━━━━━━━━━━━━\u001b[0m \u001b[32m807.0/807.0 kB\u001b[0m \u001b[31m34.1 MB/s\u001b[0m eta \u001b[36m0:00:00\u001b[0m\n",
            "\u001b[2K     \u001b[90m━━━━━━━━━━━━━━━━━━━━━━━━━━━━━━━━━━━━━━━━\u001b[0m \u001b[32m1.6/1.6 MB\u001b[0m \u001b[31m22.1 MB/s\u001b[0m eta \u001b[36m0:00:00\u001b[0m\n",
            "\u001b[2K     \u001b[90m━━━━━━━━━━━━━━━━━━━━━━━━━━━━━━━━━━━━━━━━\u001b[0m \u001b[32m133.1/133.1 kB\u001b[0m \u001b[31m9.7 MB/s\u001b[0m eta \u001b[36m0:00:00\u001b[0m\n",
            "\u001b[2K     \u001b[90m━━━━━━━━━━━━━━━━━━━━━━━━━━━━━━━━━━━━━━━━\u001b[0m \u001b[32m104.0/104.0 kB\u001b[0m \u001b[31m9.0 MB/s\u001b[0m eta \u001b[36m0:00:00\u001b[0m\n",
            "\u001b[2K     \u001b[90m━━━━━━━━━━━━━━━━━━━━━━━━━━━━━━━━━━━━━━━━\u001b[0m \u001b[32m11.6/11.6 MB\u001b[0m \u001b[31m47.4 MB/s\u001b[0m eta \u001b[36m0:00:00\u001b[0m\n",
            "\u001b[2K     \u001b[90m━━━━━━━━━━━━━━━━━━━━━━━━━━━━━━━━━━━━━━━━\u001b[0m \u001b[32m2.1/2.1 MB\u001b[0m \u001b[31m66.0 MB/s\u001b[0m eta \u001b[36m0:00:00\u001b[0m\n",
            "\u001b[2K     \u001b[90m━━━━━━━━━━━━━━━━━━━━━━━━━━━━━━━━━━━━━━━━\u001b[0m \u001b[32m18.2/18.2 MB\u001b[0m \u001b[31m51.2 MB/s\u001b[0m eta \u001b[36m0:00:00\u001b[0m\n",
            "\u001b[2K     \u001b[90m━━━━━━━━━━━━━━━━━━━━━━━━━━━━━━━━━━━━━━━━\u001b[0m \u001b[32m12.3/12.3 MB\u001b[0m \u001b[31m52.4 MB/s\u001b[0m eta \u001b[36m0:00:00\u001b[0m\n",
            "\u001b[2K     \u001b[90m━━━━━━━━━━━━━━━━━━━━━━━━━━━━━━━━━━━━━━━━\u001b[0m \u001b[32m3.6/3.6 MB\u001b[0m \u001b[31m63.9 MB/s\u001b[0m eta \u001b[36m0:00:00\u001b[0m\n",
            "\u001b[2K     \u001b[90m━━━━━━━━━━━━━━━━━━━━━━━━━━━━━━━━━━━━━━━━\u001b[0m \u001b[32m385.2/385.2 kB\u001b[0m \u001b[31m37.8 MB/s\u001b[0m eta \u001b[36m0:00:00\u001b[0m\n",
            "\u001b[2K     \u001b[90m━━━━━━━━━━━━━━━━━━━━━━━━━━━━━━━━━━━━━━━━\u001b[0m \u001b[32m283.6/283.6 kB\u001b[0m \u001b[31m27.4 MB/s\u001b[0m eta \u001b[36m0:00:00\u001b[0m\n",
            "\u001b[?25h\u001b[31mERROR: Could not find a version that satisfies the requirement pywin32==306 (from versions: none)\u001b[0m\u001b[31m\n",
            "\u001b[0m\u001b[31mERROR: No matching distribution found for pywin32==306\u001b[0m\u001b[31m\n",
            "\u001b[0m"
          ]
        }
      ]
    },
    {
      "cell_type": "code",
      "execution_count": 3,
      "metadata": {
        "id": "va3m2tTID85Q"
      },
      "outputs": [],
      "source": [
        "import torch\n",
        "from pathlib import Path\n",
        "import pandas as pd\n",
        "\n",
        "import torch.nn as nn\n",
        "\n",
        "from da_cv_fer.data_config import DataConfig\n",
        "from da_cv_fer.ds_sfew import DatasetSFEW\n",
        "from da_cv_fer.ds_expw import EXPW\n",
        "from da_cv_fer.utils import show_batch\n",
        "from da_cv_fer.model_DANN import DANN\n",
        "from da_cv_fer.run_config import RunConfig\n",
        "from da_cv_fer.train import (weights_init,\n",
        "                             train_model,\n",
        "                             get_correct_predictions,\n",
        "                             test_model)"
      ]
    },
    {
      "cell_type": "code",
      "execution_count": 4,
      "metadata": {
        "colab": {
          "base_uri": "https://localhost:8080/"
        },
        "id": "Hn390pyND85Q",
        "outputId": "f3d8ec7e-a071-4e63-b133-47dc4eb96088"
      },
      "outputs": [
        {
          "output_type": "stream",
          "name": "stdout",
          "text": [
            "cuda\n"
          ]
        }
      ],
      "source": [
        "use_cuda = torch.cuda.is_available()\n",
        "device = torch.device(\"cuda\" if use_cuda else \"cpu\")\n",
        "print(device)"
      ]
    },
    {
      "cell_type": "markdown",
      "metadata": {
        "id": "w-_v4OhnD85R"
      },
      "source": [
        "#### Loading Models to evaluate"
      ]
    },
    {
      "cell_type": "code",
      "source": [
        "dataconfig_inference = DataConfig()"
      ],
      "metadata": {
        "id": "E4vhtBBa4Ogd"
      },
      "execution_count": 10,
      "outputs": []
    },
    {
      "cell_type": "code",
      "source": [
        "non_dann_model_sfew_name = 'non_dann_sfew_20_01.pt'\n",
        "dann_model_sfew_expw_name = 'dann_sfew_expw_20_01.pt'\n",
        "ewc_dann_model_sfew_expw_name = 'ewc_dann_sfew_expw_20_01.pt'"
      ],
      "metadata": {
        "id": "q03J34oF4EzM"
      },
      "execution_count": 11,
      "outputs": []
    },
    {
      "cell_type": "code",
      "execution_count": 12,
      "metadata": {
        "colab": {
          "base_uri": "https://localhost:8080/"
        },
        "id": "5VeGr2ZRD85S",
        "outputId": "a1808b30-da13-4a1d-9510-221ea1cbbef0"
      },
      "outputs": [
        {
          "output_type": "stream",
          "name": "stdout",
          "text": [
            "non_dann_sfew_20_01.pt locked and loaded\n",
            "dann_sfew_expw_20_01.pt locked and loaded\n",
            "ewc_dann_sfew_expw_20_01.pt locked and loaded\n"
          ]
        }
      ],
      "source": [
        "# NON DANN\n",
        "non_dann_model_inference = DANN(num_classes=7) # skeleton copy\n",
        "NON_DANN_SFEW_DIR = dataconfig_inference.NON_DANN_SFEW_DIR # Path(self.MODEL_DIR,\"non_dann_sfew\")\n",
        "\n",
        "try:\n",
        "    non_dann_model_inference.load_state_dict(torch.load(Path(NON_DANN_SFEW_DIR, non_dann_model_sfew_name),\n",
        "                                                        map_location=torch.device(device)))\n",
        "    print(f'{non_dann_model_sfew_name} locked and loaded')\n",
        "except:\n",
        "    print(f' problem in loading {non_dann_model_sfew_name}')\n",
        "\n",
        "# DANN\n",
        "dann_model_sfew_expw_inference = DANN(num_classes=7) # skeleton copy\n",
        "DANN_SFEW_EXPW_DIR = dataconfig_inference.DANN_SFEW_EXPW_DIR # Path(self.MODEL_DIR,\"dann_sfew_expw\")\n",
        "try:\n",
        "    dann_model_sfew_expw_inference.load_state_dict(torch.load(Path(DANN_SFEW_EXPW_DIR, dann_model_sfew_expw_name),\n",
        "                                                              map_location=torch.device(device)))\n",
        "    print(f'{dann_model_sfew_expw_name} locked and loaded')\n",
        "except:\n",
        "    print(f' problem in loading {dann_model_sfew_expw_name}')\n",
        "\n",
        "# EWC DANN\n",
        "ewc_dann_model_sfew_expw_inference = DANN(num_classes=7) # skeleton copy\n",
        "EWC_DANN_SFEW_EXPW_DIR = dataconfig_inference.EWC_DANN_SFEW_EXPW_DIR # Path(self.MODEL_DIR,\"ewc_dann_sfew_expw\")\n",
        "try:\n",
        "    ewc_dann_model_sfew_expw_inference.load_state_dict(torch.load(Path(EWC_DANN_SFEW_EXPW_DIR, ewc_dann_model_sfew_expw_name),\n",
        "                                                              map_location=torch.device(device)))\n",
        "    print(f'{ewc_dann_model_sfew_expw_name} locked and loaded')\n",
        "except:\n",
        "    print(f' problem in loading {ewc_dann_model_sfew_expw_name}')\n"
      ]
    },
    {
      "cell_type": "markdown",
      "metadata": {
        "id": "wARkGL1XD85S"
      },
      "source": [
        "### Dataloaders for source and target"
      ]
    },
    {
      "cell_type": "code",
      "source": [
        "# Mounting Google drive\n",
        "from google.colab import drive\n",
        "drive.mount('/content/gdrive')"
      ],
      "metadata": {
        "colab": {
          "base_uri": "https://localhost:8080/"
        },
        "id": "Ky99TSjgeTS8",
        "outputId": "bff273a3-79bb-4396-a43f-4c5111d7aca9"
      },
      "execution_count": 6,
      "outputs": [
        {
          "output_type": "stream",
          "name": "stdout",
          "text": [
            "Mounted at /content/gdrive\n"
          ]
        }
      ]
    },
    {
      "cell_type": "code",
      "execution_count": 9,
      "metadata": {
        "colab": {
          "base_uri": "https://localhost:8080/"
        },
        "id": "6pXO7XtND85T",
        "outputId": "2f12f344-4a1d-46f8-c021-14617d1a69c1"
      },
      "outputs": [
        {
          "output_type": "stream",
          "name": "stdout",
          "text": [
            "self.BASE_PATH -dataset,\n",
            " self.EXTRACT_DIR-dataset/sfew,\n",
            " self.ZIP_FILE_PATH - dataset/SFEW_2.zip \n",
            "Directory dataset/sfew created successfully.\n",
            "No files (including zip file) found in dataset/sfew.Copying file\n",
            "Starting File copying from /content/gdrive/MyDrive/CV_FER/dataset/SFEW_2.zip to dataset/sfew\n",
            "File copied successfully from /content/gdrive/MyDrive/CV_FER/dataset/SFEW_2.zip to dataset/sfew\n",
            "Initiating extraction of dataset/sfew/SFEW_2.zip to dataset/sfew\n",
            "...completed for dataset/sfew/SFEW_2.zip\n",
            "dataset/sfew/Train Neutral.zip Neutral\n",
            "...completed for dataset/sfew/Train/Neutral.zip\n",
            "dataset/sfew/Train Sad.zip Sad\n",
            "...completed for dataset/sfew/Train/Sad.zip\n",
            "dataset/sfew/Train Happy.zip Happy\n",
            "...completed for dataset/sfew/Train/Happy.zip\n",
            "dataset/sfew/Train Angry.zip Angry\n",
            "...completed for dataset/sfew/Train/Angry.zip\n",
            "dataset/sfew/Train Disgust.zip Disgust\n",
            "...completed for dataset/sfew/Train/Disgust.zip\n",
            "dataset/sfew/Train Fear.zip Fear\n",
            "...completed for dataset/sfew/Train/Fear.zip\n",
            "dataset/sfew/Train Surprise.zip Surprise\n",
            "...completed for dataset/sfew/Train/Surprise.zip\n",
            "dataset/sfew/Val Neutral.zip Neutral\n",
            "...completed for dataset/sfew/Val/Neutral.zip\n",
            "dataset/sfew/Val Sad.zip Sad\n",
            "...completed for dataset/sfew/Val/Sad.zip\n",
            "dataset/sfew/Val Happy.zip Happy\n",
            "...completed for dataset/sfew/Val/Happy.zip\n",
            "dataset/sfew/Val Angry.zip Angry\n",
            "...completed for dataset/sfew/Val/Angry.zip\n",
            "dataset/sfew/Val Disgust.zip Disgust\n",
            "...completed for dataset/sfew/Val/Disgust.zip\n",
            "dataset/sfew/Val Fear.zip Fear\n",
            "...completed for dataset/sfew/Val/Fear.zip\n",
            "dataset/sfew/Val Surprise.zip Surprise\n",
            "...completed for dataset/sfew/Val/Surprise.zip\n"
          ]
        }
      ],
      "source": [
        "sfew = DatasetSFEW()\n",
        "sfew_train_loader, sfew_val_loader = sfew.get_dataloader()\n"
      ]
    },
    {
      "cell_type": "code",
      "execution_count": 8,
      "metadata": {
        "colab": {
          "base_uri": "https://localhost:8080/"
        },
        "id": "yLDhweDUD85V",
        "outputId": "714ce648-b29b-45ae-fd52-4b9271a158a7"
      },
      "outputs": [
        {
          "output_type": "stream",
          "name": "stdout",
          "text": [
            "desitination file path = dataset/expwds/expwds.zip\n",
            "in EXPW()...\n",
            "Directory dataset/expwds created successfully.\n",
            "Downloading expwds.zip to dataset/expwds\n"
          ]
        },
        {
          "output_type": "stream",
          "name": "stderr",
          "text": [
            "100%|██████████| 7.68G/7.68G [01:23<00:00, 98.5MB/s]\n"
          ]
        },
        {
          "output_type": "stream",
          "name": "stdout",
          "text": [
            "\n",
            "File downloaded successfully from https://www.kaggle.com/datasets/mohammedaaltaha/expwds to dataset/expwds/expwds.zip\n",
            "Unzipped Files already exist in dataset/expwds, not extracted\n",
            "Directory dataset/expwds already exists.\n",
            "Directory dataset/expwds already exists.\n"
          ]
        },
        {
          "output_type": "stream",
          "name": "stderr",
          "text": [
            "/usr/local/lib/python3.10/dist-packages/torch/utils/data/dataloader.py:557: UserWarning: This DataLoader will create 4 worker processes in total. Our suggested max number of worker in current system is 2, which is smaller than what this DataLoader is going to create. Please be aware that excessive worker creation might get DataLoader running slow or even freeze, lower the worker number to avoid potential slowness/freeze if necessary.\n",
            "  warnings.warn(_create_warning_msg(\n"
          ]
        }
      ],
      "source": [
        "expw_obj = EXPW()\n",
        "expw_train_ds, expw_val_ds = expw_obj.get_dataset()\n",
        "expw_train_loader, expw_val_loader = expw_obj.get_dataloader()"
      ]
    },
    {
      "cell_type": "markdown",
      "metadata": {
        "id": "MyE9X4ZND85V"
      },
      "source": [
        "#### Printing comparison"
      ]
    },
    {
      "cell_type": "code",
      "execution_count": 13,
      "metadata": {
        "id": "3Y6wsW0MD85W"
      },
      "outputs": [],
      "source": [
        "#@title Typical Test Function\n",
        "#TODO : move this to common file\n",
        "\n",
        "def get_correct_predictions(prediction, labels):\n",
        "    \"\"\"\n",
        "    Function to return total number of correct predictions\n",
        "    :param prediction: Model predictions on a given sample of data\n",
        "    :param labels: Correct labels of a given sample of data\n",
        "    :return: Number of correct predictions\n",
        "    \"\"\"\n",
        "    return prediction.argmax(dim=1).eq(labels.argmax(dim=1)).sum().item()\n",
        "\n",
        "def test_model(model, device, data_loader, mode= 'test',\n",
        "               class_loss_function = nn.CrossEntropyLoss() ):\n",
        "    model.eval() # evaluation mode\n",
        "\n",
        "    # variables to track loss and accuracy\n",
        "    test_loss = 0.0\n",
        "    correct = 0\n",
        "\n",
        "    # Disable gradient updation\n",
        "    with torch.no_grad():\n",
        "        # Iterate over each batch and fetch images and labels from the batch\n",
        "        for batch_idx, batch in enumerate(data_loader):\n",
        "            images, labels = batch[0].to(device), batch[1].to(device)\n",
        "\n",
        "            class_output, _ , _ = model(images) # forward pass, output = {class, domain, feature}\n",
        "            class_loss = class_loss_function(class_output,labels) # Calculate Loss\n",
        "\n",
        "            test_loss += class_loss.item() # sum up batch loss\n",
        "\n",
        "            # Sum up batch correct predictions\n",
        "            correct += get_correct_predictions(class_output, labels)\n",
        "\n",
        "    # Calculate test loss for a epoch\n",
        "    test_loss /= len(data_loader.dataset)\n",
        "    accuracy = 100. * correct / len(data_loader.dataset)\n",
        "\n",
        "    print('Test / Val: Average loss: {:.4f}, Accuracy: {}/{} ({:.2f}%)\\n'.format(test_loss, correct, len(data_loader.dataset),\n",
        "        accuracy))\n",
        "\n",
        "\n",
        "    return correct, test_loss, accuracy\n",
        "\n"
      ]
    },
    {
      "cell_type": "code",
      "source": [
        "# Moving the models to device (GPU or CPU)\n",
        "non_dann_model_inference = non_dann_model_inference.to(device)\n",
        "dann_model_sfew_expw_inference = dann_model_sfew_expw_inference.to(device)\n",
        "ewc_dann_model_sfew_expw_inference= ewc_dann_model_sfew_expw_inference.to(device)"
      ],
      "metadata": {
        "id": "8Wn9ADAof5Kh"
      },
      "execution_count": null,
      "outputs": []
    },
    {
      "cell_type": "code",
      "execution_count": 15,
      "metadata": {
        "colab": {
          "base_uri": "https://localhost:8080/"
        },
        "id": "uppI1LxXD85W",
        "outputId": "12735e23-1ff4-4052-f81f-9f98ed46875f"
      },
      "outputs": [
        {
          "output_type": "stream",
          "name": "stdout",
          "text": [
            "Test / Val: Average loss: 0.1684, Accuracy: 101/436 (23.17%)\n",
            "\n",
            "Test / Val: Average loss: 0.1704, Accuracy: 2590/13620 (19.02%)\n",
            "\n",
            "Test / Val: Average loss: 0.1962, Accuracy: 109/436 (25.00%)\n",
            "\n",
            "Test / Val: Average loss: 0.2043, Accuracy: 2734/13620 (20.07%)\n",
            "\n",
            "Test / Val: Average loss: 0.1950, Accuracy: 110/436 (25.23%)\n",
            "\n",
            "Test / Val: Average loss: 0.2023, Accuracy: 2756/13620 (20.23%)\n",
            "\n"
          ]
        }
      ],
      "source": [
        "runconfig = RunConfig()\n",
        "_,_,non_dann_accuracy_source = test_model(model =non_dann_model_inference,\n",
        "                                 device=device,\n",
        "                                 data_loader=sfew_val_loader,\n",
        "                                 class_loss_function=runconfig.criterion_class )\n",
        "\n",
        "_,_,non_dann_accuracy_target = test_model(model =non_dann_model_inference,\n",
        "                                 device=device,\n",
        "                                 data_loader=expw_val_loader,\n",
        "                                 class_loss_function=runconfig.criterion_class )\n",
        "\n",
        "_,_,dann_accuracy_source = test_model(model =dann_model_sfew_expw_inference,\n",
        "                                 device=device,\n",
        "                                 data_loader=sfew_val_loader,\n",
        "                                 class_loss_function=runconfig.criterion_class )\n",
        "\n",
        "_,_,dann_accuracy_target = test_model(model =dann_model_sfew_expw_inference,\n",
        "                                 device=device,\n",
        "                                 data_loader=expw_val_loader,\n",
        "                                 class_loss_function=runconfig.criterion_class )\n",
        "\n",
        "_,_,ewc_dann_accuracy_source = test_model(model =ewc_dann_model_sfew_expw_inference,\n",
        "                                 device=device,\n",
        "                                 data_loader=sfew_val_loader,\n",
        "                                 class_loss_function=runconfig.criterion_class )\n",
        "\n",
        "_,_,ewc_dann_accuracy_target = test_model(model =ewc_dann_model_sfew_expw_inference,\n",
        "                                 device=device,\n",
        "                                 data_loader=expw_val_loader,\n",
        "                                 class_loss_function=runconfig.criterion_class )\n"
      ]
    },
    {
      "cell_type": "code",
      "execution_count": null,
      "metadata": {
        "id": "q6xhEWX6D85X"
      },
      "outputs": [],
      "source": [
        "# ewc_dann_model_sfew_expw_name = 'ewc_dann_sfew_expw_20_12.pt'\n",
        "# ewc_dann_model_sfew_expw_inference = DANN(num_classes=7) # skeleton copy\n",
        "# EWC_DANN_SFEW_EXPW_DIR = dataconfig_inference.EWC_DANN_SFEW_EXPW_DIR # Path(self.MODEL_DIR,\"ewc_dann_sfew_expw\")\n",
        "# try:\n",
        "#     ewc_dann_model_sfew_expw_inference.load_state_dict(torch.load(Path(EWC_DANN_SFEW_EXPW_DIR, ewc_dann_model_sfew_expw_name),\n",
        "#                                                               map_location=torch.device(device)))\n",
        "#     print(f'{ewc_dann_model_sfew_expw_name} locked and loaded')\n",
        "# except:\n",
        "#     print(f' problem in loading {ewc_dann_model_sfew_expw_name}')\n",
        "\n",
        "# _,_,ewc_dann_accuracy_source = test_model(model =ewc_dann_model_sfew_expw_inference,\n",
        "#                                  device=device,\n",
        "#                                  data_loader=sfew_val_loader,\n",
        "#                                  class_loss_function=runconfig.criterion_class )\n",
        "\n",
        "# _,_,ewc_dann_accuracy_target = test_model(model =ewc_dann_model_sfew_expw_inference,\n",
        "#                                  device=device,\n",
        "#                                  data_loader=expw_val_loader,\n",
        "#                                  class_loss_function=runconfig.criterion_class )"
      ]
    },
    {
      "cell_type": "code",
      "execution_count": 16,
      "metadata": {
        "colab": {
          "base_uri": "https://localhost:8080/",
          "height": 230
        },
        "id": "Oe5FaWovD85Y",
        "outputId": "e24313bb-09b2-400e-984e-3bb66ac09d09"
      },
      "outputs": [
        {
          "output_type": "stream",
          "name": "stdout",
          "text": [
            "Empty DataFrame\n",
            "Columns: [model_class, trained_on, accuracy_source, accuracy_target]\n",
            "Index: []\n",
            "{'model_class': 'Non_DANN', 'trained_on': 'sfew source', 'accuracy_source': 23.165137614678898, 'accuracy_target': 19.016152716593247}\n",
            "{'model_class': 'DANN', 'trained_on': 'sfew source + expw target', 'accuracy_source': 25.0, 'accuracy_target': 20.073421439060205}\n"
          ]
        },
        {
          "output_type": "execute_result",
          "data": {
            "text/plain": [
              "  model_class                 trained_on  accuracy_source  accuracy_target\n",
              "0    Non_DANN                sfew source        23.165138        19.016153\n",
              "1        DANN  sfew source + expw target        25.000000        20.073421\n",
              "2    EWC_DANN  sfew source + expw target        25.229358        20.234949"
            ],
            "text/html": [
              "\n",
              "  <div id=\"df-8142429b-0c57-43d5-a092-932638ab6144\" class=\"colab-df-container\">\n",
              "    <div>\n",
              "<style scoped>\n",
              "    .dataframe tbody tr th:only-of-type {\n",
              "        vertical-align: middle;\n",
              "    }\n",
              "\n",
              "    .dataframe tbody tr th {\n",
              "        vertical-align: top;\n",
              "    }\n",
              "\n",
              "    .dataframe thead th {\n",
              "        text-align: right;\n",
              "    }\n",
              "</style>\n",
              "<table border=\"1\" class=\"dataframe\">\n",
              "  <thead>\n",
              "    <tr style=\"text-align: right;\">\n",
              "      <th></th>\n",
              "      <th>model_class</th>\n",
              "      <th>trained_on</th>\n",
              "      <th>accuracy_source</th>\n",
              "      <th>accuracy_target</th>\n",
              "    </tr>\n",
              "  </thead>\n",
              "  <tbody>\n",
              "    <tr>\n",
              "      <th>0</th>\n",
              "      <td>Non_DANN</td>\n",
              "      <td>sfew source</td>\n",
              "      <td>23.165138</td>\n",
              "      <td>19.016153</td>\n",
              "    </tr>\n",
              "    <tr>\n",
              "      <th>1</th>\n",
              "      <td>DANN</td>\n",
              "      <td>sfew source + expw target</td>\n",
              "      <td>25.000000</td>\n",
              "      <td>20.073421</td>\n",
              "    </tr>\n",
              "    <tr>\n",
              "      <th>2</th>\n",
              "      <td>EWC_DANN</td>\n",
              "      <td>sfew source + expw target</td>\n",
              "      <td>25.229358</td>\n",
              "      <td>20.234949</td>\n",
              "    </tr>\n",
              "  </tbody>\n",
              "</table>\n",
              "</div>\n",
              "    <div class=\"colab-df-buttons\">\n",
              "\n",
              "  <div class=\"colab-df-container\">\n",
              "    <button class=\"colab-df-convert\" onclick=\"convertToInteractive('df-8142429b-0c57-43d5-a092-932638ab6144')\"\n",
              "            title=\"Convert this dataframe to an interactive table.\"\n",
              "            style=\"display:none;\">\n",
              "\n",
              "  <svg xmlns=\"http://www.w3.org/2000/svg\" height=\"24px\" viewBox=\"0 -960 960 960\">\n",
              "    <path d=\"M120-120v-720h720v720H120Zm60-500h600v-160H180v160Zm220 220h160v-160H400v160Zm0 220h160v-160H400v160ZM180-400h160v-160H180v160Zm440 0h160v-160H620v160ZM180-180h160v-160H180v160Zm440 0h160v-160H620v160Z\"/>\n",
              "  </svg>\n",
              "    </button>\n",
              "\n",
              "  <style>\n",
              "    .colab-df-container {\n",
              "      display:flex;\n",
              "      gap: 12px;\n",
              "    }\n",
              "\n",
              "    .colab-df-convert {\n",
              "      background-color: #E8F0FE;\n",
              "      border: none;\n",
              "      border-radius: 50%;\n",
              "      cursor: pointer;\n",
              "      display: none;\n",
              "      fill: #1967D2;\n",
              "      height: 32px;\n",
              "      padding: 0 0 0 0;\n",
              "      width: 32px;\n",
              "    }\n",
              "\n",
              "    .colab-df-convert:hover {\n",
              "      background-color: #E2EBFA;\n",
              "      box-shadow: 0px 1px 2px rgba(60, 64, 67, 0.3), 0px 1px 3px 1px rgba(60, 64, 67, 0.15);\n",
              "      fill: #174EA6;\n",
              "    }\n",
              "\n",
              "    .colab-df-buttons div {\n",
              "      margin-bottom: 4px;\n",
              "    }\n",
              "\n",
              "    [theme=dark] .colab-df-convert {\n",
              "      background-color: #3B4455;\n",
              "      fill: #D2E3FC;\n",
              "    }\n",
              "\n",
              "    [theme=dark] .colab-df-convert:hover {\n",
              "      background-color: #434B5C;\n",
              "      box-shadow: 0px 1px 3px 1px rgba(0, 0, 0, 0.15);\n",
              "      filter: drop-shadow(0px 1px 2px rgba(0, 0, 0, 0.3));\n",
              "      fill: #FFFFFF;\n",
              "    }\n",
              "  </style>\n",
              "\n",
              "    <script>\n",
              "      const buttonEl =\n",
              "        document.querySelector('#df-8142429b-0c57-43d5-a092-932638ab6144 button.colab-df-convert');\n",
              "      buttonEl.style.display =\n",
              "        google.colab.kernel.accessAllowed ? 'block' : 'none';\n",
              "\n",
              "      async function convertToInteractive(key) {\n",
              "        const element = document.querySelector('#df-8142429b-0c57-43d5-a092-932638ab6144');\n",
              "        const dataTable =\n",
              "          await google.colab.kernel.invokeFunction('convertToInteractive',\n",
              "                                                    [key], {});\n",
              "        if (!dataTable) return;\n",
              "\n",
              "        const docLinkHtml = 'Like what you see? Visit the ' +\n",
              "          '<a target=\"_blank\" href=https://colab.research.google.com/notebooks/data_table.ipynb>data table notebook</a>'\n",
              "          + ' to learn more about interactive tables.';\n",
              "        element.innerHTML = '';\n",
              "        dataTable['output_type'] = 'display_data';\n",
              "        await google.colab.output.renderOutput(dataTable, element);\n",
              "        const docLink = document.createElement('div');\n",
              "        docLink.innerHTML = docLinkHtml;\n",
              "        element.appendChild(docLink);\n",
              "      }\n",
              "    </script>\n",
              "  </div>\n",
              "\n",
              "\n",
              "<div id=\"df-3b95a5db-6161-4ed9-9cad-1eeaec25b4c0\">\n",
              "  <button class=\"colab-df-quickchart\" onclick=\"quickchart('df-3b95a5db-6161-4ed9-9cad-1eeaec25b4c0')\"\n",
              "            title=\"Suggest charts\"\n",
              "            style=\"display:none;\">\n",
              "\n",
              "<svg xmlns=\"http://www.w3.org/2000/svg\" height=\"24px\"viewBox=\"0 0 24 24\"\n",
              "     width=\"24px\">\n",
              "    <g>\n",
              "        <path d=\"M19 3H5c-1.1 0-2 .9-2 2v14c0 1.1.9 2 2 2h14c1.1 0 2-.9 2-2V5c0-1.1-.9-2-2-2zM9 17H7v-7h2v7zm4 0h-2V7h2v10zm4 0h-2v-4h2v4z\"/>\n",
              "    </g>\n",
              "</svg>\n",
              "  </button>\n",
              "\n",
              "<style>\n",
              "  .colab-df-quickchart {\n",
              "      --bg-color: #E8F0FE;\n",
              "      --fill-color: #1967D2;\n",
              "      --hover-bg-color: #E2EBFA;\n",
              "      --hover-fill-color: #174EA6;\n",
              "      --disabled-fill-color: #AAA;\n",
              "      --disabled-bg-color: #DDD;\n",
              "  }\n",
              "\n",
              "  [theme=dark] .colab-df-quickchart {\n",
              "      --bg-color: #3B4455;\n",
              "      --fill-color: #D2E3FC;\n",
              "      --hover-bg-color: #434B5C;\n",
              "      --hover-fill-color: #FFFFFF;\n",
              "      --disabled-bg-color: #3B4455;\n",
              "      --disabled-fill-color: #666;\n",
              "  }\n",
              "\n",
              "  .colab-df-quickchart {\n",
              "    background-color: var(--bg-color);\n",
              "    border: none;\n",
              "    border-radius: 50%;\n",
              "    cursor: pointer;\n",
              "    display: none;\n",
              "    fill: var(--fill-color);\n",
              "    height: 32px;\n",
              "    padding: 0;\n",
              "    width: 32px;\n",
              "  }\n",
              "\n",
              "  .colab-df-quickchart:hover {\n",
              "    background-color: var(--hover-bg-color);\n",
              "    box-shadow: 0 1px 2px rgba(60, 64, 67, 0.3), 0 1px 3px 1px rgba(60, 64, 67, 0.15);\n",
              "    fill: var(--button-hover-fill-color);\n",
              "  }\n",
              "\n",
              "  .colab-df-quickchart-complete:disabled,\n",
              "  .colab-df-quickchart-complete:disabled:hover {\n",
              "    background-color: var(--disabled-bg-color);\n",
              "    fill: var(--disabled-fill-color);\n",
              "    box-shadow: none;\n",
              "  }\n",
              "\n",
              "  .colab-df-spinner {\n",
              "    border: 2px solid var(--fill-color);\n",
              "    border-color: transparent;\n",
              "    border-bottom-color: var(--fill-color);\n",
              "    animation:\n",
              "      spin 1s steps(1) infinite;\n",
              "  }\n",
              "\n",
              "  @keyframes spin {\n",
              "    0% {\n",
              "      border-color: transparent;\n",
              "      border-bottom-color: var(--fill-color);\n",
              "      border-left-color: var(--fill-color);\n",
              "    }\n",
              "    20% {\n",
              "      border-color: transparent;\n",
              "      border-left-color: var(--fill-color);\n",
              "      border-top-color: var(--fill-color);\n",
              "    }\n",
              "    30% {\n",
              "      border-color: transparent;\n",
              "      border-left-color: var(--fill-color);\n",
              "      border-top-color: var(--fill-color);\n",
              "      border-right-color: var(--fill-color);\n",
              "    }\n",
              "    40% {\n",
              "      border-color: transparent;\n",
              "      border-right-color: var(--fill-color);\n",
              "      border-top-color: var(--fill-color);\n",
              "    }\n",
              "    60% {\n",
              "      border-color: transparent;\n",
              "      border-right-color: var(--fill-color);\n",
              "    }\n",
              "    80% {\n",
              "      border-color: transparent;\n",
              "      border-right-color: var(--fill-color);\n",
              "      border-bottom-color: var(--fill-color);\n",
              "    }\n",
              "    90% {\n",
              "      border-color: transparent;\n",
              "      border-bottom-color: var(--fill-color);\n",
              "    }\n",
              "  }\n",
              "</style>\n",
              "\n",
              "  <script>\n",
              "    async function quickchart(key) {\n",
              "      const quickchartButtonEl =\n",
              "        document.querySelector('#' + key + ' button');\n",
              "      quickchartButtonEl.disabled = true;  // To prevent multiple clicks.\n",
              "      quickchartButtonEl.classList.add('colab-df-spinner');\n",
              "      try {\n",
              "        const charts = await google.colab.kernel.invokeFunction(\n",
              "            'suggestCharts', [key], {});\n",
              "      } catch (error) {\n",
              "        console.error('Error during call to suggestCharts:', error);\n",
              "      }\n",
              "      quickchartButtonEl.classList.remove('colab-df-spinner');\n",
              "      quickchartButtonEl.classList.add('colab-df-quickchart-complete');\n",
              "    }\n",
              "    (() => {\n",
              "      let quickchartButtonEl =\n",
              "        document.querySelector('#df-3b95a5db-6161-4ed9-9cad-1eeaec25b4c0 button');\n",
              "      quickchartButtonEl.style.display =\n",
              "        google.colab.kernel.accessAllowed ? 'block' : 'none';\n",
              "    })();\n",
              "  </script>\n",
              "</div>\n",
              "\n",
              "  <div id=\"id_2daf4d3b-8d1b-4705-9355-4cf34f50864e\">\n",
              "    <style>\n",
              "      .colab-df-generate {\n",
              "        background-color: #E8F0FE;\n",
              "        border: none;\n",
              "        border-radius: 50%;\n",
              "        cursor: pointer;\n",
              "        display: none;\n",
              "        fill: #1967D2;\n",
              "        height: 32px;\n",
              "        padding: 0 0 0 0;\n",
              "        width: 32px;\n",
              "      }\n",
              "\n",
              "      .colab-df-generate:hover {\n",
              "        background-color: #E2EBFA;\n",
              "        box-shadow: 0px 1px 2px rgba(60, 64, 67, 0.3), 0px 1px 3px 1px rgba(60, 64, 67, 0.15);\n",
              "        fill: #174EA6;\n",
              "      }\n",
              "\n",
              "      [theme=dark] .colab-df-generate {\n",
              "        background-color: #3B4455;\n",
              "        fill: #D2E3FC;\n",
              "      }\n",
              "\n",
              "      [theme=dark] .colab-df-generate:hover {\n",
              "        background-color: #434B5C;\n",
              "        box-shadow: 0px 1px 3px 1px rgba(0, 0, 0, 0.15);\n",
              "        filter: drop-shadow(0px 1px 2px rgba(0, 0, 0, 0.3));\n",
              "        fill: #FFFFFF;\n",
              "      }\n",
              "    </style>\n",
              "    <button class=\"colab-df-generate\" onclick=\"generateWithVariable('df_nice_results')\"\n",
              "            title=\"Generate code using this dataframe.\"\n",
              "            style=\"display:none;\">\n",
              "\n",
              "  <svg xmlns=\"http://www.w3.org/2000/svg\" height=\"24px\"viewBox=\"0 0 24 24\"\n",
              "       width=\"24px\">\n",
              "    <path d=\"M7,19H8.4L18.45,9,17,7.55,7,17.6ZM5,21V16.75L18.45,3.32a2,2,0,0,1,2.83,0l1.4,1.43a1.91,1.91,0,0,1,.58,1.4,1.91,1.91,0,0,1-.58,1.4L9.25,21ZM18.45,9,17,7.55Zm-12,3A5.31,5.31,0,0,0,4.9,8.1,5.31,5.31,0,0,0,1,6.5,5.31,5.31,0,0,0,4.9,4.9,5.31,5.31,0,0,0,6.5,1,5.31,5.31,0,0,0,8.1,4.9,5.31,5.31,0,0,0,12,6.5,5.46,5.46,0,0,0,6.5,12Z\"/>\n",
              "  </svg>\n",
              "    </button>\n",
              "    <script>\n",
              "      (() => {\n",
              "      const buttonEl =\n",
              "        document.querySelector('#id_2daf4d3b-8d1b-4705-9355-4cf34f50864e button.colab-df-generate');\n",
              "      buttonEl.style.display =\n",
              "        google.colab.kernel.accessAllowed ? 'block' : 'none';\n",
              "\n",
              "      buttonEl.onclick = () => {\n",
              "        google.colab.notebook.generateWithVariable('df_nice_results');\n",
              "      }\n",
              "      })();\n",
              "    </script>\n",
              "  </div>\n",
              "\n",
              "    </div>\n",
              "  </div>\n"
            ]
          },
          "metadata": {},
          "execution_count": 16
        }
      ],
      "source": [
        "source= 'sfew'\n",
        "target = 'expw'\n",
        "\n",
        "col_name = ['model_class','trained_on','accuracy_source','accuracy_target']\n",
        "df_nice_results = pd.DataFrame(columns = col_name)\n",
        "print(df_nice_results)\n",
        "dict_input = {}\n",
        "dict_input = {'model_class': 'Non_DANN',\n",
        "                   'trained_on': str(source)+ \" source\",\n",
        "                #    'accuracy_source':dict_non_dann_losses_list_sfew_expw['test_accuracy_source'],\n",
        "                #    'accuracy_target':dict_non_dann_losses_list_sfew_expw['test_accuracy_target'],\n",
        "                   'accuracy_source':non_dann_accuracy_source,\n",
        "                   'accuracy_target':non_dann_accuracy_target\n",
        "                   }\n",
        "print(dict_input)\n",
        "df_nice_results = pd.concat([df_nice_results, pd.DataFrame(dict_input, index=[0])], ignore_index=True)\n",
        "\n",
        "\n",
        "dict_input = {'model_class': 'DANN',\n",
        "                   'trained_on': str(source)+\" source + \"+str(target) + \" target\",\n",
        "                  #  'accuracy_source':dict_dann_losses_list_sfew_expw['test_accuracy_source'],\n",
        "                  #  'accuracy_target':dict_dann_losses_list_sfew_expw['test_accuracy_target'],\n",
        "                   'accuracy_source':dann_accuracy_source,\n",
        "                   'accuracy_target':dann_accuracy_target\n",
        "                   }\n",
        "print(dict_input)\n",
        "\n",
        "df_nice_results = pd.concat([df_nice_results, pd.DataFrame(dict_input, index=[0])], ignore_index=True)\n",
        "\n",
        "\n",
        "dict_input = {'model_class': 'EWC_DANN',\n",
        "                   'trained_on': str(source)+\" source + \"+str(target) + \" target\",\n",
        "                  #  'accuracy_source':dict_ewc_dann_losses_list_sfew_expw['test_accuracy_source'],\n",
        "                  #  'accuracy_target':dict_ewc_dann_losses_list_sfew_expw['test_accuracy_target'],\n",
        "                   'accuracy_source':ewc_dann_accuracy_source,\n",
        "                   'accuracy_target':ewc_dann_accuracy_target\n",
        "                   }\n",
        "\n",
        "df_nice_results = pd.concat([df_nice_results, pd.DataFrame(dict_input, index=[0])], ignore_index=True)\n",
        "\n",
        "\n",
        "df_nice_results"
      ]
    },
    {
      "cell_type": "markdown",
      "metadata": {
        "id": "UYARgrfMD85Z"
      },
      "source": [
        "### Bias Evaluation"
      ]
    },
    {
      "cell_type": "code",
      "execution_count": null,
      "metadata": {
        "id": "DxbUpwVpD85Z"
      },
      "outputs": [],
      "source": []
    }
  ],
  "metadata": {
    "kernelspec": {
      "display_name": "Python 3",
      "name": "python3"
    },
    "language_info": {
      "codemirror_mode": {
        "name": "ipython",
        "version": 3
      },
      "file_extension": ".py",
      "mimetype": "text/x-python",
      "name": "python",
      "nbconvert_exporter": "python",
      "pygments_lexer": "ipython3",
      "version": "3.10.11"
    },
    "colab": {
      "provenance": [],
      "gpuType": "T4"
    },
    "accelerator": "GPU"
  },
  "nbformat": 4,
  "nbformat_minor": 0
}