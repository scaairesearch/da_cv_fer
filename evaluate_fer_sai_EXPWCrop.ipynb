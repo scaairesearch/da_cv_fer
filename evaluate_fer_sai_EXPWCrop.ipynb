{
  "cells": [
    {
      "cell_type": "markdown",
      "metadata": {
        "id": "view-in-github",
        "colab_type": "text"
      },
      "source": [
        "<a href=\"https://colab.research.google.com/github/scaairesearch/da_cv_fer/blob/main/evaluate_fer_sai_EXPWCrop.ipynb\" target=\"_parent\"><img src=\"https://colab.research.google.com/assets/colab-badge.svg\" alt=\"Open In Colab\"/></a>"
      ]
    },
    {
      "cell_type": "code",
      "execution_count": 41,
      "metadata": {
        "colab": {
          "base_uri": "https://localhost:8080/"
        },
        "id": "0zjHOzFjwTIf",
        "outputId": "dd557c12-d091-4904-cb71-f8da2a9164db"
      },
      "outputs": [
        {
          "output_type": "stream",
          "name": "stdout",
          "text": [
            "Cloning into 'da_cv_fer'...\n",
            "remote: Enumerating objects: 289, done.\u001b[K\n",
            "remote: Counting objects: 100% (80/80), done.\u001b[K\n",
            "remote: Compressing objects: 100% (48/48), done.\u001b[K\n",
            "remote: Total 289 (delta 38), reused 66 (delta 32), pack-reused 209\u001b[K\n",
            "Receiving objects: 100% (289/289), 15.65 MiB | 18.35 MiB/s, done.\n",
            "Resolving deltas: 100% (152/152), done.\n"
          ]
        }
      ],
      "source": [
        "!git clone https://github.com/scaairesearch/da_cv_fer.git\n",
        "import os\n",
        "os.getcwd()\n",
        "os.chdir('da_cv_fer')"
      ]
    },
    {
      "cell_type": "code",
      "execution_count": 22,
      "metadata": {
        "colab": {
          "base_uri": "https://localhost:8080/"
        },
        "id": "Ua6CoLoRD3hS",
        "outputId": "2fa04a10-0fc5-4c4f-c469-66fcf79858b0"
      },
      "outputs": [
        {
          "output_type": "stream",
          "name": "stdout",
          "text": [
            "\u001b[31mERROR: Could not find a version that satisfies the requirement pywin32==306 (from versions: none)\u001b[0m\u001b[31m\n",
            "\u001b[0m\u001b[31mERROR: No matching distribution found for pywin32==306\u001b[0m\u001b[31m\n",
            "\u001b[0m"
          ]
        }
      ],
      "source": [
        "!pip install -q -r requirements.txt # -q is for quiet install\n",
        "!pip install -q opendatasets # quient install, for some reason this does not get installed with requirements"
      ]
    },
    {
      "cell_type": "code",
      "execution_count": 23,
      "metadata": {
        "colab": {
          "base_uri": "https://localhost:8080/"
        },
        "id": "Ueav4z4a_u55",
        "outputId": "0802d631-e5b9-4bb8-809b-cbb0b5170743"
      },
      "outputs": [
        {
          "output_type": "stream",
          "name": "stdout",
          "text": [
            "Requirement already satisfied: facenet_pytorch in /usr/local/lib/python3.10/dist-packages (2.5.3)\n",
            "Requirement already satisfied: numpy in /usr/local/lib/python3.10/dist-packages (from facenet_pytorch) (1.25.2)\n",
            "Requirement already satisfied: requests in /usr/local/lib/python3.10/dist-packages (from facenet_pytorch) (2.31.0)\n",
            "Requirement already satisfied: torchvision in /usr/local/lib/python3.10/dist-packages (from facenet_pytorch) (0.16.0+cu121)\n",
            "Requirement already satisfied: pillow in /usr/local/lib/python3.10/dist-packages (from facenet_pytorch) (9.4.0)\n",
            "Requirement already satisfied: charset-normalizer<4,>=2 in /usr/local/lib/python3.10/dist-packages (from requests->facenet_pytorch) (3.3.2)\n",
            "Requirement already satisfied: idna<4,>=2.5 in /usr/local/lib/python3.10/dist-packages (from requests->facenet_pytorch) (3.6)\n",
            "Requirement already satisfied: urllib3<3,>=1.21.1 in /usr/local/lib/python3.10/dist-packages (from requests->facenet_pytorch) (2.0.7)\n",
            "Requirement already satisfied: certifi>=2017.4.17 in /usr/local/lib/python3.10/dist-packages (from requests->facenet_pytorch) (2024.2.2)\n",
            "Requirement already satisfied: torch==2.1.0 in /usr/local/lib/python3.10/dist-packages (from torchvision->facenet_pytorch) (2.1.0+cu121)\n",
            "Requirement already satisfied: filelock in /usr/local/lib/python3.10/dist-packages (from torch==2.1.0->torchvision->facenet_pytorch) (3.13.1)\n",
            "Requirement already satisfied: typing-extensions in /usr/local/lib/python3.10/dist-packages (from torch==2.1.0->torchvision->facenet_pytorch) (4.9.0)\n",
            "Requirement already satisfied: sympy in /usr/local/lib/python3.10/dist-packages (from torch==2.1.0->torchvision->facenet_pytorch) (1.12)\n",
            "Requirement already satisfied: networkx in /usr/local/lib/python3.10/dist-packages (from torch==2.1.0->torchvision->facenet_pytorch) (3.2.1)\n",
            "Requirement already satisfied: jinja2 in /usr/local/lib/python3.10/dist-packages (from torch==2.1.0->torchvision->facenet_pytorch) (3.1.3)\n",
            "Requirement already satisfied: fsspec in /usr/local/lib/python3.10/dist-packages (from torch==2.1.0->torchvision->facenet_pytorch) (2023.6.0)\n",
            "Requirement already satisfied: triton==2.1.0 in /usr/local/lib/python3.10/dist-packages (from torch==2.1.0->torchvision->facenet_pytorch) (2.1.0)\n",
            "Requirement already satisfied: MarkupSafe>=2.0 in /usr/local/lib/python3.10/dist-packages (from jinja2->torch==2.1.0->torchvision->facenet_pytorch) (2.1.5)\n",
            "Requirement already satisfied: mpmath>=0.19 in /usr/local/lib/python3.10/dist-packages (from sympy->torch==2.1.0->torchvision->facenet_pytorch) (1.3.0)\n"
          ]
        }
      ],
      "source": [
        "!pip install facenet_pytorch"
      ]
    },
    {
      "cell_type": "code",
      "execution_count": 24,
      "metadata": {
        "id": "aTnLgKvkD3jt"
      },
      "outputs": [],
      "source": [
        "from pathlib import Path\n",
        "from da_cv_fer.data_config import DataConfig\n",
        "from da_cv_fer.ds_sfew import DatasetSFEW\n",
        "from da_cv_fer.ds_sfew_crop import DatasetSFEWCROP\n",
        "from da_cv_fer.ds_expw import EXPW\n",
        "from da_cv_fer.ds_expw_crop import EXPWCROP\n",
        "from da_cv_fer.utils import show_batch\n",
        "from da_cv_fer.model_DANN import DANN\n",
        "from da_cv_fer.run_config import RunConfig\n",
        "from da_cv_fer.train import (weights_init,\n",
        "                             train_model,\n",
        "                             get_correct_predictions,\n",
        "                             test_model)\n",
        "from da_cv_fer.model_DANN_Bespoke import DANNBespoke\n",
        "import os\n",
        "import torch\n",
        "import pandas as pd\n",
        "import numpy as np\n",
        "from torch.utils.data import Dataset, random_split, DataLoader\n",
        "from torchvision.datasets import ImageFolder\n",
        "from PIL import Image\n",
        "from torchvision.models import resnet50, ResNet50_Weights\n",
        "import torchvision.models as models\n",
        "import matplotlib.pyplot as plt\n",
        "from torchvision.transforms import ToTensor\n",
        "import torchvision.transforms as tt\n",
        "from sklearn.metrics import f1_score\n",
        "import torch.nn.functional as F\n",
        "import torch.nn as nn\n",
        "from torchvision.utils import make_grid\n",
        "import random\n",
        "import shutil\n",
        "import tarfile\n",
        "import cv2\n",
        "import time\n",
        "import os\n",
        "import math\n",
        "from datetime import datetime\n",
        "import warnings\n",
        "warnings.filterwarnings(\"ignore\")\n",
        "from facenet_pytorch import MTCNN\n",
        "from zipfile import ZipFile"
      ]
    },
    {
      "cell_type": "code",
      "execution_count": 25,
      "metadata": {
        "colab": {
          "base_uri": "https://localhost:8080/"
        },
        "id": "ckc-0ncgFVb1",
        "outputId": "5fb7c019-4ddc-46a2-daeb-91c1708a7f2c"
      },
      "outputs": [
        {
          "output_type": "stream",
          "name": "stdout",
          "text": [
            "Drive already mounted at /content/gdrive; to attempt to forcibly remount, call drive.mount(\"/content/gdrive\", force_remount=True).\n"
          ]
        }
      ],
      "source": [
        "# Mounting Google drive\n",
        "from google.colab import drive\n",
        "drive.mount('/content/gdrive')"
      ]
    },
    {
      "cell_type": "code",
      "execution_count": 26,
      "metadata": {
        "colab": {
          "base_uri": "https://localhost:8080/"
        },
        "id": "3XzIz3fIyYoi",
        "outputId": "388d8dbe-b466-4856-b871-236aa86b892f"
      },
      "outputs": [
        {
          "output_type": "stream",
          "name": "stdout",
          "text": [
            "cuda\n"
          ]
        }
      ],
      "source": [
        "use_cuda = torch.cuda.is_available()\n",
        "device = torch.device(\"cuda\" if use_cuda else \"cpu\")\n",
        "print(device)"
      ]
    },
    {
      "cell_type": "markdown",
      "metadata": {
        "id": "cUslyy4N8k0V"
      },
      "source": [
        "### Creating a cropped dataset\n",
        "\n",
        "Commented out since  cropped dataset has already been saved in Drive"
      ]
    },
    {
      "cell_type": "code",
      "execution_count": 27,
      "metadata": {
        "id": "Qsi3aDpQyB0O"
      },
      "outputs": [],
      "source": [
        "# def create_annotated_cropped_ds():\n",
        "#   mtcnn = MTCNN(image_size=224,device=device)\n"
      ]
    },
    {
      "cell_type": "code",
      "execution_count": 28,
      "metadata": {
        "id": "QKAa0Bbvv31T"
      },
      "outputs": [],
      "source": [
        "# mtcnn = MTCNN(image_size=224,device=device)"
      ]
    },
    {
      "cell_type": "code",
      "execution_count": 29,
      "metadata": {
        "id": "wA3Ixbf-OZmv"
      },
      "outputs": [],
      "source": [
        "# #define paths for extraction\n",
        "\n",
        "# dataconfig = DataConfig()\n",
        "# EXPW_RACEDS_BASE_PATH = \"/content/gdrive/MyDrive/CV_FER/dataset\"\n",
        "# EXPW_RACEDS_EXTRACT_PATH = \"/content/gdrive/MyDrive/CV_FER/dataset/RaceTest_EXPW\"\n",
        "# EXPW_RACEDS_ZIP_FILE_PATH = \"/content/gdrive/MyDrive/CV_FER/dataset\"\n",
        "# EXPW_RACEDS_labels = ['angry','disgust','fear','happy','neutral','sad','surprise']\n",
        "\n",
        "# EXPWCrop_RACEDS_IMPATH = \"/content/gdrive/MyDrive/CV_FER/dataset/RaceTest_EXPWCrop\"\n",
        "\n",
        "# labels_map={\"0\":\"Angry\",\n",
        "# \"1\":\"Disgust\",\n",
        "# \"2\":\"Fear\",\n",
        "# \"3\":\"Happy\",\n",
        "# \"4\":\"Sad\",\n",
        "# \"5\":\"Surprise\",\n",
        "# \"6\":\"Neutral\"}\n",
        "\n",
        "# labels_map2={\"Angry\":\"0\",\n",
        "# \"Disgust\": \"1\",\n",
        "# \"Fear\":\"2\",\n",
        "# \"Happy\":\"3\",\n",
        "# \"Sad\":\"4\",\n",
        "# \"Surprise\":\"5\",\n",
        "# \"Neutral\":\"6\"}\n",
        "\n",
        "# labels=list(labels_map.values())\n",
        "\n",
        "# EXPW_RACEDS_dict_dataset = {'TEST_DIR' : EXPW_RACEDS_EXTRACT_PATH}\n",
        "\n",
        "# print(f'self.BASE_PATH -{EXPW_RACEDS_BASE_PATH } | self.EXTRACT_DIR- {EXPW_RACEDS_EXTRACT_PATH} | self.ZIP_FILE_PATH - {EXPW_RACEDS_ZIP_FILE_PATH} ')"
      ]
    },
    {
      "cell_type": "code",
      "execution_count": 30,
      "metadata": {
        "id": "tGnh-JviQhiH"
      },
      "outputs": [],
      "source": [
        "# #extract data EXPW\n",
        "\n",
        "# if not (os.path.exists(EXPW_RACEDS_EXTRACT_PATH+\"/\"+\"EXPW_annotated\")):\n",
        "#   try:\n",
        "#       with ZipFile(Path(EXPW_RACEDS_ZIP_FILE_PATH, \"EXPW_annotated.zip\"), 'r') as zip:\n",
        "#           zip.extractall(Path(EXPW_RACEDS_EXTRACT_PATH))\n",
        "#           print(\"Done\")\n",
        "#   except Exception as e:\n",
        "#       print('Failed: ', e)"
      ]
    },
    {
      "cell_type": "code",
      "execution_count": 31,
      "metadata": {
        "id": "SPRXG6z_zzkd"
      },
      "outputs": [],
      "source": [
        "## Cropping images\n",
        "\n",
        "# data_list=[]\n",
        "# EXPW_RACEDS_IM_PATH=EXPW_RACEDS_EXTRACT_PATH+ \"/EXPW_annotated\"\n",
        "# EXPW_RACEDS_list=os.listdir(EXPW_RACEDS_IM_PATH)\n",
        "# EXPW_RACEDS_dict={}\n",
        "# EXPW_RACEDS_dict_list=[]\n",
        "# races=[\"African\", \"Asian\", \"White\", \"Indian\", \"Middle Eastern\", \"Latino\"]\n",
        "\n",
        "# for i in EXPW_RACEDS_list:\n",
        "#     race = os.listdir(EXPW_RACEDS_IM_PATH+\"/\"+i)\n",
        "#     EXPW_RACEDS_dict[i] = {key: None for key in race}\n",
        "\n",
        "# for emotion in EXPW_RACEDS_list:\n",
        "#   for race in os.listdir(Path(EXPW_RACEDS_IM_PATH, emotion)):\n",
        "#     if(race not in races):\n",
        "#       continue\n",
        "#     print(emotion, race)\n",
        "#     images = os.listdir(Path(EXPW_RACEDS_IM_PATH, emotion, race))\n",
        "#     img_save = Path(EXPWCrop_RACEDS_IMPATH, emotion, race)\n",
        "\n",
        "#     for image_name in images:\n",
        "#       img = Image.open(os.path.join(Path(EXPW_RACEDS_IM_PATH, emotion, race), image_name)).convert(\"RGB\")\n",
        "#       img_save_path = str(Path(img_save, image_name))\n",
        "#       #print(img_save_path)\n",
        "#       if(os.path.exists(img_save_path)):\n",
        "#         print(\"passing values \", img_save_path)\n",
        "#         continue\n",
        "#       img_cropped = mtcnn(img, save_path = str(img_save_path))"
      ]
    },
    {
      "cell_type": "markdown",
      "metadata": {
        "id": "WJ-OPMvkz0JM"
      },
      "source": [
        "### Initializing parameters for dataset load\n",
        "\n"
      ]
    },
    {
      "cell_type": "code",
      "execution_count": 32,
      "metadata": {
        "id": "lXVBYMd1-vMw"
      },
      "outputs": [],
      "source": [
        "labels_map={\"0\":\"Angry\",\n",
        "\"1\":\"Disgust\",\n",
        "\"2\":\"Fear\",\n",
        "\"3\":\"Happy\",\n",
        "\"4\":\"Sad\",\n",
        "\"5\":\"Surprise\",\n",
        "\"6\":\"Neutral\"}\n",
        "\n",
        "labels_map2={\"Angry\":\"0\",\n",
        "\"Disgust\": \"1\",\n",
        "\"Fear\":\"2\",\n",
        "\"Happy\":\"3\",\n",
        "\"Sad\":\"4\",\n",
        "\"Surprise\":\"5\",\n",
        "\"Neutral\":\"6\"}"
      ]
    },
    {
      "cell_type": "code",
      "execution_count": 33,
      "metadata": {
        "id": "6RG7GmNHUnQF"
      },
      "outputs": [],
      "source": [
        "EXPWCrop_RACEDS_IMPATH = \"/content/gdrive/MyDrive/CV_FER/dataset/RaceTest_EXPWCrop\"\n",
        "data_list=[]\n",
        "EXPW_RACEDS_IM_PATH=EXPWCrop_RACEDS_IMPATH\n",
        "EXPW_RACEDS_list=os.listdir(EXPW_RACEDS_IM_PATH)\n",
        "EXPW_RACEDS_dict={}\n",
        "EXPW_RACEDS_dict_list=[]\n",
        "for i in EXPW_RACEDS_list:\n",
        "    race = os.listdir(EXPW_RACEDS_IM_PATH+\"/\"+i)\n",
        "    EXPW_RACEDS_dict[i] = {key: None for key in race}\n",
        "\n",
        "for emotion in EXPW_RACEDS_list:\n",
        "    for race in EXPW_RACEDS_dict[emotion]:\n",
        "        EXPW_RACEDS_dict[emotion][race]=os.listdir(EXPW_RACEDS_IM_PATH+\"/\"+emotion+\"/\"+race)\n",
        "        EXPW_RACEDS_dict_list+=[[emotion, race, i] for i in os.listdir(EXPW_RACEDS_IM_PATH+\"/\"+emotion+\"/\"+race)]"
      ]
    },
    {
      "cell_type": "code",
      "execution_count": 34,
      "metadata": {
        "id": "5gDZw8f5NZVp"
      },
      "outputs": [],
      "source": [
        "emotions=[\"Angry\", \"Fear\", \"Disgust\", \"Sad\", \"Surprise\", \"Neutral\", \"Happy\"]"
      ]
    },
    {
      "cell_type": "code",
      "execution_count": 35,
      "metadata": {
        "id": "ssVQhnW6Bvpw"
      },
      "outputs": [],
      "source": [
        "races=[\"African\", \"Asian\", \"White\", \"Indian\", \"Middle Eastern\", \"Latino\"]"
      ]
    },
    {
      "cell_type": "code",
      "execution_count": 36,
      "metadata": {
        "colab": {
          "base_uri": "https://localhost:8080/"
        },
        "id": "XoNBmox8fm92",
        "outputId": "45afa168-0193-421b-b3a6-d5b68ed8df32"
      },
      "outputs": [
        {
          "output_type": "execute_result",
          "data": {
            "text/plain": [
              "[['Angry', 'African', 'amazed_american_212.jpg'],\n",
              " ['Angry', 'African', 'angry_black_177.jpg'],\n",
              " ['Angry', 'African', 'angry_black_3.jpg'],\n",
              " ['Angry', 'African', 'angry_black_531.jpg'],\n",
              " ['Angry', 'African', 'angry_black_64.jpg']]"
            ]
          },
          "metadata": {},
          "execution_count": 36
        }
      ],
      "source": [
        "EXPW_RACEDS_dict_list[0:5]"
      ]
    },
    {
      "cell_type": "code",
      "execution_count": 37,
      "metadata": {
        "id": "iiLz8O6ffnJe"
      },
      "outputs": [],
      "source": [
        "class EXPWCropDataset_Race(Dataset):\n",
        "    def __init__(self, ds_path, data_list ,transform=None):\n",
        "        self.data = data_list\n",
        "        self.transform = transform\n",
        "        self.path=ds_path\n",
        "        self.image_filepath=''\n",
        "\n",
        "    def __len__(self):\n",
        "        # all_image_list=[]\n",
        "        # label_list=[i for i in os.listdir(self.data) if '.zip' not in i]\n",
        "        # for i in label_list:\n",
        "        #   all_image_list += [[i,j] for j in os.listdir(os.path.join(self.data, i))]\n",
        "        return len(self.data)\n",
        "\n",
        "    def __getitem__(self, idx):\n",
        "        label_name = self.data[idx][0]\n",
        "        race_name = self.data[idx][1]\n",
        "        label_idx = int(labels_map2[self.data[idx][0]])\n",
        "        img_name= self.data[idx][2]\n",
        "\n",
        "        self.image_filepath = os.path.join(self.path, label_name, race_name, img_name)\n",
        "        img = Image.open(self.image_filepath)\n",
        "        if self.transform:\n",
        "            img = self.transform(img)\n",
        "\n",
        "        return img, label_idx, img_name, race_name"
      ]
    },
    {
      "cell_type": "code",
      "execution_count": 38,
      "metadata": {
        "colab": {
          "base_uri": "https://localhost:8080/"
        },
        "id": "oGgJ6Rpfg5si",
        "outputId": "4b54a80e-2f51-4d1e-da5a-7f064f71b84a"
      },
      "outputs": [
        {
          "output_type": "stream",
          "name": "stdout",
          "text": [
            "tensor([[[0.0039, 0.0039, 0.0039,  ..., 0.0000, 0.0000, 0.0000],\n",
            "         [0.0039, 0.0039, 0.0039,  ..., 0.0000, 0.0000, 0.0000],\n",
            "         [0.0039, 0.0039, 0.0039,  ..., 0.0000, 0.0000, 0.0000],\n",
            "         ...,\n",
            "         [0.0000, 0.0000, 0.0000,  ..., 0.0627, 0.0588, 0.0549],\n",
            "         [0.0000, 0.0000, 0.0000,  ..., 0.0588, 0.0549, 0.0549],\n",
            "         [0.0000, 0.0000, 0.0000,  ..., 0.0588, 0.0549, 0.0549]],\n",
            "\n",
            "        [[0.0039, 0.0039, 0.0039,  ..., 0.0000, 0.0000, 0.0000],\n",
            "         [0.0039, 0.0039, 0.0039,  ..., 0.0000, 0.0000, 0.0000],\n",
            "         [0.0039, 0.0039, 0.0039,  ..., 0.0000, 0.0000, 0.0000],\n",
            "         ...,\n",
            "         [0.0000, 0.0000, 0.0000,  ..., 0.0275, 0.0235, 0.0196],\n",
            "         [0.0000, 0.0000, 0.0000,  ..., 0.0235, 0.0196, 0.0196],\n",
            "         [0.0000, 0.0000, 0.0000,  ..., 0.0235, 0.0196, 0.0196]],\n",
            "\n",
            "        [[0.0039, 0.0039, 0.0039,  ..., 0.0000, 0.0000, 0.0000],\n",
            "         [0.0039, 0.0039, 0.0039,  ..., 0.0000, 0.0000, 0.0000],\n",
            "         [0.0039, 0.0039, 0.0039,  ..., 0.0000, 0.0000, 0.0000],\n",
            "         ...,\n",
            "         [0.0000, 0.0000, 0.0000,  ..., 0.0000, 0.0000, 0.0000],\n",
            "         [0.0000, 0.0000, 0.0000,  ..., 0.0000, 0.0000, 0.0000],\n",
            "         [0.0000, 0.0000, 0.0000,  ..., 0.0000, 0.0000, 0.0000]]])\n",
            "0\n",
            "amazed_american_212.jpg\n",
            "African\n"
          ]
        }
      ],
      "source": [
        "expw_tt=tt.Compose([tt.Resize((224,224)), tt.ToTensor()])\n",
        "\n",
        "EXPWCrop_RACEDS = EXPWCropDataset_Race(EXPWCrop_RACEDS_IMPATH, EXPW_RACEDS_dict_list, expw_tt)\n",
        "\n",
        "for sample in EXPWCrop_RACEDS:\n",
        "    print(sample[0])\n",
        "    print(sample[1])\n",
        "    print(sample[2])\n",
        "    print(sample[3])\n",
        "    break"
      ]
    },
    {
      "cell_type": "code",
      "execution_count": 39,
      "metadata": {
        "colab": {
          "base_uri": "https://localhost:8080/"
        },
        "id": "FCptafkGK6_4",
        "outputId": "2ea8f84c-962a-4aa9-c6a3-f40291d4a835"
      },
      "outputs": [
        {
          "output_type": "execute_result",
          "data": {
            "text/plain": [
              "8718"
            ]
          },
          "metadata": {},
          "execution_count": 39
        }
      ],
      "source": [
        "len(EXPWCrop_RACEDS)"
      ]
    },
    {
      "cell_type": "code",
      "execution_count": 40,
      "metadata": {
        "id": "t0inSMjlg5vY"
      },
      "outputs": [],
      "source": [
        "# len(EXPW_RACEDS)"
      ]
    },
    {
      "cell_type": "code",
      "execution_count": 42,
      "metadata": {
        "id": "7C1kIGOQg5xy"
      },
      "outputs": [],
      "source": [
        "BATCH_SIZE=16\n",
        "SEED=42\n",
        "dataloader_args = dict(shuffle=True, batch_size=BATCH_SIZE, pin_memory=True, num_workers=2)\n",
        "EXPWCrop_RACEDS_loader = DataLoader(EXPWCrop_RACEDS, **dataloader_args)"
      ]
    },
    {
      "cell_type": "markdown",
      "metadata": {
        "id": "F5yr_bEmLSF8"
      },
      "source": [
        "### Evaluating Task Accuracy\n"
      ]
    },
    {
      "cell_type": "code",
      "execution_count": 43,
      "metadata": {
        "id": "PkfKHiWpHEHl"
      },
      "outputs": [],
      "source": [
        "dataconfig_inference=DataConfig()"
      ]
    },
    {
      "cell_type": "code",
      "execution_count": 44,
      "metadata": {
        "id": "SK9zvn1uDM4S"
      },
      "outputs": [],
      "source": [
        "NON_DANN_SFEW_EXPW_DIR = \"/content/gdrive/MyDrive/CV_FER/models/non_dann_sfew_expw\""
      ]
    },
    {
      "cell_type": "code",
      "execution_count": 45,
      "metadata": {
        "id": "pLMaTd8UHEHl"
      },
      "outputs": [],
      "source": [
        "non_dann_model_sfew_expw_name = 'non_dann_sfew_expw_13_02.pt'# #'non_dann_sfew_expw_30_01.pt'\n",
        "dann_model_sfew_expw_name ='dann_sfew_expw_13_02.pt' #'dann_sfew_expw_30_01.pt'\n",
        "ewc_dann_model_sfew_expw_name = 'ewc_dann_sfew_expw_13_02.pt' #'ewc_dann_sfew_expw_30_01.pt'"
      ]
    },
    {
      "cell_type": "code",
      "execution_count": 46,
      "metadata": {
        "colab": {
          "base_uri": "https://localhost:8080/"
        },
        "id": "ox9aYEDCExOL",
        "outputId": "656f0347-e83c-4dcb-ac76-8fa6f739759b"
      },
      "outputs": [
        {
          "output_type": "stream",
          "name": "stderr",
          "text": [
            "Downloading: \"https://download.pytorch.org/models/mobilenet_v2-7ebf99e0.pth\" to /root/.cache/torch/hub/checkpoints/mobilenet_v2-7ebf99e0.pth\n",
            "100%|██████████| 13.6M/13.6M [00:00<00:00, 77.9MB/s]\n"
          ]
        },
        {
          "output_type": "stream",
          "name": "stdout",
          "text": [
            "feature extractor backbone created using mobilenet model\n",
            "non_dann_sfew_expw_13_02.pt locked and loaded\n",
            "feature extractor backbone created using mobilenet model\n",
            "dann_sfew_expw_13_02.pt locked and loaded\n",
            "feature extractor backbone created using mobilenet model\n",
            "/content/gdrive/MyDrive/CV_FER/models/ewc_dann_sfew_expw\n",
            "ewc_dann_sfew_expw_13_02.pt locked and loaded\n"
          ]
        }
      ],
      "source": [
        "# NON DANN\n",
        "non_dann_model_inference = DANNBespoke(num_classes=7, backbone='mobilenet', dropout=0.1) # skeleton copy\n",
        "NON_DANN_SFEW_DIR = dataconfig_inference.NON_DANN_SFEW_DIR # Path(self.MODEL_DIR,\"non_dann_sfew\")\n",
        "\n",
        "try:\n",
        "    non_dann_model_inference.load_state_dict(torch.load(Path(NON_DANN_SFEW_EXPW_DIR, non_dann_model_sfew_expw_name),\n",
        "                                                        map_location=torch.device(device)))\n",
        "    print(f'{non_dann_model_sfew_expw_name} locked and loaded')\n",
        "except Exception as e:\n",
        "    print(e)\n",
        "    print(f' problem in loading {non_dann_model_sfew_expw_name}')\n",
        "\n",
        "# DANN\n",
        "dann_model_sfew_expw_inference = DANNBespoke(num_classes=7, backbone='mobilenet', dropout=0.1)#,backbone='resnet18', dropout=0.1) # skeleton copy\n",
        "DANN_SFEW_EXPW_DIR = dataconfig_inference.DANN_SFEW_EXPW_DIR # Path(self.MODEL_DIR,\"dann_sfew_expw\")\n",
        "try:\n",
        "    dann_model_sfew_expw_inference.load_state_dict(torch.load(Path(DANN_SFEW_EXPW_DIR, dann_model_sfew_expw_name),\n",
        "                                                              map_location=torch.device(device)))\n",
        "    print(f'{dann_model_sfew_expw_name} locked and loaded')\n",
        "except Exception as e:\n",
        "    print(e)\n",
        "    print(f' problem in loading {dann_model_sfew_expw_name}')\n",
        "\n",
        "# EWC DANN\n",
        "ewc_dann_model_sfew_expw_inference = DANNBespoke(num_classes=7, backbone='mobilenet', dropout=0.1)#,backbone='resnet18', dropout=0.1) # skeleton copy\n",
        "EWC_DANN_SFEW_EXPW_DIR = dataconfig_inference.EWC_DANN_SFEW_EXPW_DIR # Path(self.MODEL_DIR,\"ewc_dann_sfew_expw\")\n",
        "print(dataconfig_inference.EWC_DANN_SFEW_EXPW_DIR)\n",
        "try:\n",
        "    ewc_dann_model_sfew_expw_inference.load_state_dict(torch.load(Path(EWC_DANN_SFEW_EXPW_DIR, ewc_dann_model_sfew_expw_name),\n",
        "                                                              map_location=torch.device(device)))\n",
        "    print(f'{ewc_dann_model_sfew_expw_name} locked and loaded')\n",
        "except Exception as e:\n",
        "    print(e)\n",
        "    print(f' problem in loading {ewc_dann_model_sfew_expw_name}')"
      ]
    },
    {
      "cell_type": "code",
      "execution_count": 47,
      "metadata": {
        "id": "bJUwYmq_ASlj"
      },
      "outputs": [],
      "source": [
        "#@title Typical Test Function\n",
        "#TODO : move this to common file\n",
        "\n",
        "def get_correct_predictions(prediction, labels):\n",
        "    \"\"\"\n",
        "    Function to return total number of correct predictions\n",
        "    :param prediction: Model predictions on a given sample of data\n",
        "    :param labels: Correct labels of a given sample of data\n",
        "    :return: Number of correct predictions\n",
        "    \"\"\"\n",
        "#     print(prediction.shape, labels.shape)\n",
        "#     print(prediction)\n",
        "#     print(labels)\n",
        "    return prediction.argmax(dim=1).eq(labels).sum().item() #.argmax(dim=1)\n",
        "\n",
        "def test_model_race(model, device, test_loader, mode= 'test',\n",
        "               class_loss_function = nn.CrossEntropyLoss(),\n",
        "               result=pd.DataFrame(columns=['image', 'gt_emotion', 'gt_race', 'p_emotion']) ):\n",
        "    #model, device, test_loader, criterion, result=pd.DataFrame(columns=['image', 'gt_emotion', 'gt_race', 'p_emotion'])\n",
        "    model.eval() # evaluation mode\n",
        "\n",
        "    # variables to track loss and accuracy\n",
        "    test_loss = 0.0\n",
        "    correct = 0\n",
        "\n",
        "   # Disable gradient updation\n",
        "    with torch.no_grad():\n",
        "        # Iterate over each batch and fetch images and labels from the batch\n",
        "        for batch_idx, (data, target, name, race) in enumerate(test_loader):\n",
        "\n",
        "            # Put the images and labels on the selected device\n",
        "            data, target = data.to(device), target.to(device)\n",
        "\n",
        "            # Pass the images to the output and get the model predictions\n",
        "            class_output, _ , _ = model(data)\n",
        "            class_loss = class_loss_function(class_output, target)  # sum up batch loss\n",
        "            test_loss += class_loss.item()\n",
        "            # Sum up batch correct predictions\n",
        "            correct += get_correct_predictions(class_output, target)\n",
        "\n",
        "            for i in range(0,len(name)):\n",
        "                result_row={'image':name[i] ,'gt_emotion':labels_map[str(target[i].item())], 'gt_race':race[i], 'p_emotion':labels_map[str(class_output.argmax(dim=1)[i].item())]}\n",
        "                result=result.append(result_row, ignore_index=True)\n",
        "\n",
        "\n",
        "    # Calculate test loss for a epoch\n",
        "    test_loss /= len(test_loader.dataset)\n",
        "    accuracy = 100. * correct / len(test_loader.dataset)\n",
        "\n",
        "    print('Test / Val: Average loss: {:.4f}, Accuracy: {}/{} ({:.2f}%)\\n'.format(test_loss, correct, len(test_loader.dataset),\n",
        "        accuracy))\n",
        "\n",
        "\n",
        "    return correct, test_loss, accuracy, result"
      ]
    },
    {
      "cell_type": "code",
      "execution_count": 48,
      "metadata": {
        "colab": {
          "base_uri": "https://localhost:8080/"
        },
        "id": "yQaGoF6zASlk",
        "outputId": "000547b4-67b7-4782-9116-3fe98654cfd6"
      },
      "outputs": [
        {
          "output_type": "stream",
          "name": "stdout",
          "text": [
            "Test / Val: Average loss: 0.1503, Accuracy: 2451/8718 (28.11%)\n",
            "\n",
            "Test / Val: Average loss: 0.1688, Accuracy: 2496/8718 (28.63%)\n",
            "\n",
            "Test / Val: Average loss: 0.1687, Accuracy: 2448/8718 (28.08%)\n",
            "\n"
          ]
        }
      ],
      "source": [
        "# runconfig = RunConfig()\n",
        "# _ , _ , non_dann_accuracy_expw_race, expw_result_non_dann = test_model_race(model =non_dann_model_inference.to(device),\n",
        "#                                  device=device,\n",
        "#                                  test_loader=EXPWCrop_RACEDS_loader,\n",
        "#                                  class_loss_function=runconfig.criterion_class)\n",
        "\n",
        "# _ , _ , dann_accuracy_expw_race, expw_result_dann = test_model_race(model=dann_model_sfew_expw_inference.to(device),\n",
        "#                                  device=device,\n",
        "#                                  test_loader=EXPWCrop_RACEDS_loader,\n",
        "#                                  class_loss_function=runconfig.criterion_class)\n",
        "\n",
        "# _ , _ , ewc_dann_accuracy_expw_race, expw_result_ewc_dann = test_model_race(model =ewc_dann_model_sfew_expw_inference.to(device),\n",
        "#                                  device=device,\n",
        "#                                  test_loader=EXPWCrop_RACEDS_loader,\n",
        "#                                  class_loss_function=runconfig.criterion_class)"
      ]
    },
    {
      "cell_type": "code",
      "source": [
        "# expw_result_non_dann.to_csv('/content/gdrive/MyDrive/CV_FER/results/Result dataframes/expw_result_non_dann.csv')\n",
        "# expw_result_dann.to_csv('/content/gdrive/MyDrive/CV_FER/results/Result dataframes/expw_result_dann.csv')\n",
        "# expw_result_ewc_dann.to_csv('/content/gdrive/MyDrive/CV_FER/results/Result dataframes/expw_result_ewc_dann.csv')"
      ],
      "metadata": {
        "id": "SudwK7O0CA6l"
      },
      "execution_count": 79,
      "outputs": []
    },
    {
      "cell_type": "markdown",
      "source": [
        "### Checkpoint:\n",
        "\n",
        "Saved result dataframes for non dann, dann and ewc dann in drive, so that csv files can be loaded as dataframes instead of reevaluating (time consuming)"
      ],
      "metadata": {
        "id": "5aw42vRwCrjZ"
      }
    },
    {
      "cell_type": "code",
      "source": [
        "expw_result_non_dann=pd.read_csv('/content/gdrive/MyDrive/CV_FER/results/Result dataframes/expw_result_non_dann.csv')\n",
        "expw_result_dann=pd.read_csv('/content/gdrive/MyDrive/CV_FER/results/Result dataframes/expw_result_dann.csv')\n",
        "expw_result_ewc_dann=pd.read_csv('/content/gdrive/MyDrive/CV_FER/results/Result dataframes/expw_result_ewc_dann.csv')"
      ],
      "metadata": {
        "id": "ZvFQcJDvDB-2"
      },
      "execution_count": 80,
      "outputs": []
    },
    {
      "cell_type": "code",
      "execution_count": 49,
      "metadata": {
        "colab": {
          "base_uri": "https://localhost:8080/"
        },
        "id": "-BIFwmWRIzsS",
        "outputId": "431ac718-2d17-4b37-f4cf-4a633c98e21f"
      },
      "outputs": [
        {
          "output_type": "execute_result",
          "data": {
            "text/plain": [
              "{'African', 'Asian', 'Indian', 'Latino', 'Middle Eastern', 'White'}"
            ]
          },
          "metadata": {},
          "execution_count": 49
        }
      ],
      "source": [
        "set(expw_result_non_dann['gt_race'])"
      ]
    },
    {
      "cell_type": "code",
      "execution_count": 50,
      "metadata": {
        "colab": {
          "base_uri": "https://localhost:8080/"
        },
        "id": "vA5Bt52qI8KK",
        "outputId": "4b85b50a-e07b-4a0c-c1c1-bbbaa09b25c9"
      },
      "outputs": [
        {
          "output_type": "execute_result",
          "data": {
            "text/plain": [
              "{'Angry', 'Disgust', 'Fear', 'Happy', 'Neutral', 'Sad', 'Surprise'}"
            ]
          },
          "metadata": {},
          "execution_count": 50
        }
      ],
      "source": [
        "set(expw_result_non_dann['p_emotion'])"
      ]
    },
    {
      "cell_type": "code",
      "execution_count": 51,
      "metadata": {
        "colab": {
          "base_uri": "https://localhost:8080/"
        },
        "id": "5v2wOIgWI_wY",
        "outputId": "35dc2104-f40c-4d75-858e-a9bd2cd4ac5b"
      },
      "outputs": [
        {
          "output_type": "execute_result",
          "data": {
            "text/plain": [
              "{'Angry', 'Disgust', 'Fear', 'Happy', 'Neutral', 'Sad', 'Surprise'}"
            ]
          },
          "metadata": {},
          "execution_count": 51
        }
      ],
      "source": [
        "set(expw_result_non_dann['gt_emotion'])"
      ]
    },
    {
      "cell_type": "code",
      "execution_count": 52,
      "metadata": {
        "id": "wo1Osl6sz0JW"
      },
      "outputs": [],
      "source": [
        "task_accuracy_d2 = {'EXPW': pd.Series([non_dann_accuracy_expw_race, dann_accuracy_expw_race, ewc_dann_accuracy_expw_race],\n",
        "                      index=['non_dann', 'dann', 'dann_ewc'])}\n",
        "    # , 'EXPW': pd.Series([non_dann_accuracy_expw_race, dann_accuracy_expw_race, ewc_dann_accuracy_expw_race],\n",
        "    #                   index=['non_dann', 'dann', 'dann_ewc'])}\n",
        "\n",
        "task_accuracy_df2 = pd.DataFrame(task_accuracy_d2)"
      ]
    },
    {
      "cell_type": "code",
      "execution_count": 53,
      "metadata": {
        "colab": {
          "base_uri": "https://localhost:8080/",
          "height": 143
        },
        "id": "zRnDL7k4z0Ju",
        "outputId": "38f93956-3ea5-4017-85d6-207c274e4402"
      },
      "outputs": [
        {
          "output_type": "execute_result",
          "data": {
            "text/plain": [
              "               EXPW\n",
              "non_dann  28.114246\n",
              "dann      28.630420\n",
              "dann_ewc  28.079835"
            ],
            "text/html": [
              "\n",
              "  <div id=\"df-e171c08e-7233-46c6-bd26-24e597840937\" class=\"colab-df-container\">\n",
              "    <div>\n",
              "<style scoped>\n",
              "    .dataframe tbody tr th:only-of-type {\n",
              "        vertical-align: middle;\n",
              "    }\n",
              "\n",
              "    .dataframe tbody tr th {\n",
              "        vertical-align: top;\n",
              "    }\n",
              "\n",
              "    .dataframe thead th {\n",
              "        text-align: right;\n",
              "    }\n",
              "</style>\n",
              "<table border=\"1\" class=\"dataframe\">\n",
              "  <thead>\n",
              "    <tr style=\"text-align: right;\">\n",
              "      <th></th>\n",
              "      <th>EXPW</th>\n",
              "    </tr>\n",
              "  </thead>\n",
              "  <tbody>\n",
              "    <tr>\n",
              "      <th>non_dann</th>\n",
              "      <td>28.114246</td>\n",
              "    </tr>\n",
              "    <tr>\n",
              "      <th>dann</th>\n",
              "      <td>28.630420</td>\n",
              "    </tr>\n",
              "    <tr>\n",
              "      <th>dann_ewc</th>\n",
              "      <td>28.079835</td>\n",
              "    </tr>\n",
              "  </tbody>\n",
              "</table>\n",
              "</div>\n",
              "    <div class=\"colab-df-buttons\">\n",
              "\n",
              "  <div class=\"colab-df-container\">\n",
              "    <button class=\"colab-df-convert\" onclick=\"convertToInteractive('df-e171c08e-7233-46c6-bd26-24e597840937')\"\n",
              "            title=\"Convert this dataframe to an interactive table.\"\n",
              "            style=\"display:none;\">\n",
              "\n",
              "  <svg xmlns=\"http://www.w3.org/2000/svg\" height=\"24px\" viewBox=\"0 -960 960 960\">\n",
              "    <path d=\"M120-120v-720h720v720H120Zm60-500h600v-160H180v160Zm220 220h160v-160H400v160Zm0 220h160v-160H400v160ZM180-400h160v-160H180v160Zm440 0h160v-160H620v160ZM180-180h160v-160H180v160Zm440 0h160v-160H620v160Z\"/>\n",
              "  </svg>\n",
              "    </button>\n",
              "\n",
              "  <style>\n",
              "    .colab-df-container {\n",
              "      display:flex;\n",
              "      gap: 12px;\n",
              "    }\n",
              "\n",
              "    .colab-df-convert {\n",
              "      background-color: #E8F0FE;\n",
              "      border: none;\n",
              "      border-radius: 50%;\n",
              "      cursor: pointer;\n",
              "      display: none;\n",
              "      fill: #1967D2;\n",
              "      height: 32px;\n",
              "      padding: 0 0 0 0;\n",
              "      width: 32px;\n",
              "    }\n",
              "\n",
              "    .colab-df-convert:hover {\n",
              "      background-color: #E2EBFA;\n",
              "      box-shadow: 0px 1px 2px rgba(60, 64, 67, 0.3), 0px 1px 3px 1px rgba(60, 64, 67, 0.15);\n",
              "      fill: #174EA6;\n",
              "    }\n",
              "\n",
              "    .colab-df-buttons div {\n",
              "      margin-bottom: 4px;\n",
              "    }\n",
              "\n",
              "    [theme=dark] .colab-df-convert {\n",
              "      background-color: #3B4455;\n",
              "      fill: #D2E3FC;\n",
              "    }\n",
              "\n",
              "    [theme=dark] .colab-df-convert:hover {\n",
              "      background-color: #434B5C;\n",
              "      box-shadow: 0px 1px 3px 1px rgba(0, 0, 0, 0.15);\n",
              "      filter: drop-shadow(0px 1px 2px rgba(0, 0, 0, 0.3));\n",
              "      fill: #FFFFFF;\n",
              "    }\n",
              "  </style>\n",
              "\n",
              "    <script>\n",
              "      const buttonEl =\n",
              "        document.querySelector('#df-e171c08e-7233-46c6-bd26-24e597840937 button.colab-df-convert');\n",
              "      buttonEl.style.display =\n",
              "        google.colab.kernel.accessAllowed ? 'block' : 'none';\n",
              "\n",
              "      async function convertToInteractive(key) {\n",
              "        const element = document.querySelector('#df-e171c08e-7233-46c6-bd26-24e597840937');\n",
              "        const dataTable =\n",
              "          await google.colab.kernel.invokeFunction('convertToInteractive',\n",
              "                                                    [key], {});\n",
              "        if (!dataTable) return;\n",
              "\n",
              "        const docLinkHtml = 'Like what you see? Visit the ' +\n",
              "          '<a target=\"_blank\" href=https://colab.research.google.com/notebooks/data_table.ipynb>data table notebook</a>'\n",
              "          + ' to learn more about interactive tables.';\n",
              "        element.innerHTML = '';\n",
              "        dataTable['output_type'] = 'display_data';\n",
              "        await google.colab.output.renderOutput(dataTable, element);\n",
              "        const docLink = document.createElement('div');\n",
              "        docLink.innerHTML = docLinkHtml;\n",
              "        element.appendChild(docLink);\n",
              "      }\n",
              "    </script>\n",
              "  </div>\n",
              "\n",
              "\n",
              "<div id=\"df-b8c788aa-8fa0-4cac-b0da-3c78429c8837\">\n",
              "  <button class=\"colab-df-quickchart\" onclick=\"quickchart('df-b8c788aa-8fa0-4cac-b0da-3c78429c8837')\"\n",
              "            title=\"Suggest charts\"\n",
              "            style=\"display:none;\">\n",
              "\n",
              "<svg xmlns=\"http://www.w3.org/2000/svg\" height=\"24px\"viewBox=\"0 0 24 24\"\n",
              "     width=\"24px\">\n",
              "    <g>\n",
              "        <path d=\"M19 3H5c-1.1 0-2 .9-2 2v14c0 1.1.9 2 2 2h14c1.1 0 2-.9 2-2V5c0-1.1-.9-2-2-2zM9 17H7v-7h2v7zm4 0h-2V7h2v10zm4 0h-2v-4h2v4z\"/>\n",
              "    </g>\n",
              "</svg>\n",
              "  </button>\n",
              "\n",
              "<style>\n",
              "  .colab-df-quickchart {\n",
              "      --bg-color: #E8F0FE;\n",
              "      --fill-color: #1967D2;\n",
              "      --hover-bg-color: #E2EBFA;\n",
              "      --hover-fill-color: #174EA6;\n",
              "      --disabled-fill-color: #AAA;\n",
              "      --disabled-bg-color: #DDD;\n",
              "  }\n",
              "\n",
              "  [theme=dark] .colab-df-quickchart {\n",
              "      --bg-color: #3B4455;\n",
              "      --fill-color: #D2E3FC;\n",
              "      --hover-bg-color: #434B5C;\n",
              "      --hover-fill-color: #FFFFFF;\n",
              "      --disabled-bg-color: #3B4455;\n",
              "      --disabled-fill-color: #666;\n",
              "  }\n",
              "\n",
              "  .colab-df-quickchart {\n",
              "    background-color: var(--bg-color);\n",
              "    border: none;\n",
              "    border-radius: 50%;\n",
              "    cursor: pointer;\n",
              "    display: none;\n",
              "    fill: var(--fill-color);\n",
              "    height: 32px;\n",
              "    padding: 0;\n",
              "    width: 32px;\n",
              "  }\n",
              "\n",
              "  .colab-df-quickchart:hover {\n",
              "    background-color: var(--hover-bg-color);\n",
              "    box-shadow: 0 1px 2px rgba(60, 64, 67, 0.3), 0 1px 3px 1px rgba(60, 64, 67, 0.15);\n",
              "    fill: var(--button-hover-fill-color);\n",
              "  }\n",
              "\n",
              "  .colab-df-quickchart-complete:disabled,\n",
              "  .colab-df-quickchart-complete:disabled:hover {\n",
              "    background-color: var(--disabled-bg-color);\n",
              "    fill: var(--disabled-fill-color);\n",
              "    box-shadow: none;\n",
              "  }\n",
              "\n",
              "  .colab-df-spinner {\n",
              "    border: 2px solid var(--fill-color);\n",
              "    border-color: transparent;\n",
              "    border-bottom-color: var(--fill-color);\n",
              "    animation:\n",
              "      spin 1s steps(1) infinite;\n",
              "  }\n",
              "\n",
              "  @keyframes spin {\n",
              "    0% {\n",
              "      border-color: transparent;\n",
              "      border-bottom-color: var(--fill-color);\n",
              "      border-left-color: var(--fill-color);\n",
              "    }\n",
              "    20% {\n",
              "      border-color: transparent;\n",
              "      border-left-color: var(--fill-color);\n",
              "      border-top-color: var(--fill-color);\n",
              "    }\n",
              "    30% {\n",
              "      border-color: transparent;\n",
              "      border-left-color: var(--fill-color);\n",
              "      border-top-color: var(--fill-color);\n",
              "      border-right-color: var(--fill-color);\n",
              "    }\n",
              "    40% {\n",
              "      border-color: transparent;\n",
              "      border-right-color: var(--fill-color);\n",
              "      border-top-color: var(--fill-color);\n",
              "    }\n",
              "    60% {\n",
              "      border-color: transparent;\n",
              "      border-right-color: var(--fill-color);\n",
              "    }\n",
              "    80% {\n",
              "      border-color: transparent;\n",
              "      border-right-color: var(--fill-color);\n",
              "      border-bottom-color: var(--fill-color);\n",
              "    }\n",
              "    90% {\n",
              "      border-color: transparent;\n",
              "      border-bottom-color: var(--fill-color);\n",
              "    }\n",
              "  }\n",
              "</style>\n",
              "\n",
              "  <script>\n",
              "    async function quickchart(key) {\n",
              "      const quickchartButtonEl =\n",
              "        document.querySelector('#' + key + ' button');\n",
              "      quickchartButtonEl.disabled = true;  // To prevent multiple clicks.\n",
              "      quickchartButtonEl.classList.add('colab-df-spinner');\n",
              "      try {\n",
              "        const charts = await google.colab.kernel.invokeFunction(\n",
              "            'suggestCharts', [key], {});\n",
              "      } catch (error) {\n",
              "        console.error('Error during call to suggestCharts:', error);\n",
              "      }\n",
              "      quickchartButtonEl.classList.remove('colab-df-spinner');\n",
              "      quickchartButtonEl.classList.add('colab-df-quickchart-complete');\n",
              "    }\n",
              "    (() => {\n",
              "      let quickchartButtonEl =\n",
              "        document.querySelector('#df-b8c788aa-8fa0-4cac-b0da-3c78429c8837 button');\n",
              "      quickchartButtonEl.style.display =\n",
              "        google.colab.kernel.accessAllowed ? 'block' : 'none';\n",
              "    })();\n",
              "  </script>\n",
              "</div>\n",
              "\n",
              "  <div id=\"id_c01c7f08-2cc3-4d00-9ce1-0eeeff936d99\">\n",
              "    <style>\n",
              "      .colab-df-generate {\n",
              "        background-color: #E8F0FE;\n",
              "        border: none;\n",
              "        border-radius: 50%;\n",
              "        cursor: pointer;\n",
              "        display: none;\n",
              "        fill: #1967D2;\n",
              "        height: 32px;\n",
              "        padding: 0 0 0 0;\n",
              "        width: 32px;\n",
              "      }\n",
              "\n",
              "      .colab-df-generate:hover {\n",
              "        background-color: #E2EBFA;\n",
              "        box-shadow: 0px 1px 2px rgba(60, 64, 67, 0.3), 0px 1px 3px 1px rgba(60, 64, 67, 0.15);\n",
              "        fill: #174EA6;\n",
              "      }\n",
              "\n",
              "      [theme=dark] .colab-df-generate {\n",
              "        background-color: #3B4455;\n",
              "        fill: #D2E3FC;\n",
              "      }\n",
              "\n",
              "      [theme=dark] .colab-df-generate:hover {\n",
              "        background-color: #434B5C;\n",
              "        box-shadow: 0px 1px 3px 1px rgba(0, 0, 0, 0.15);\n",
              "        filter: drop-shadow(0px 1px 2px rgba(0, 0, 0, 0.3));\n",
              "        fill: #FFFFFF;\n",
              "      }\n",
              "    </style>\n",
              "    <button class=\"colab-df-generate\" onclick=\"generateWithVariable('task_accuracy_df2')\"\n",
              "            title=\"Generate code using this dataframe.\"\n",
              "            style=\"display:none;\">\n",
              "\n",
              "  <svg xmlns=\"http://www.w3.org/2000/svg\" height=\"24px\"viewBox=\"0 0 24 24\"\n",
              "       width=\"24px\">\n",
              "    <path d=\"M7,19H8.4L18.45,9,17,7.55,7,17.6ZM5,21V16.75L18.45,3.32a2,2,0,0,1,2.83,0l1.4,1.43a1.91,1.91,0,0,1,.58,1.4,1.91,1.91,0,0,1-.58,1.4L9.25,21ZM18.45,9,17,7.55Zm-12,3A5.31,5.31,0,0,0,4.9,8.1,5.31,5.31,0,0,0,1,6.5,5.31,5.31,0,0,0,4.9,4.9,5.31,5.31,0,0,0,6.5,1,5.31,5.31,0,0,0,8.1,4.9,5.31,5.31,0,0,0,12,6.5,5.46,5.46,0,0,0,6.5,12Z\"/>\n",
              "  </svg>\n",
              "    </button>\n",
              "    <script>\n",
              "      (() => {\n",
              "      const buttonEl =\n",
              "        document.querySelector('#id_c01c7f08-2cc3-4d00-9ce1-0eeeff936d99 button.colab-df-generate');\n",
              "      buttonEl.style.display =\n",
              "        google.colab.kernel.accessAllowed ? 'block' : 'none';\n",
              "\n",
              "      buttonEl.onclick = () => {\n",
              "        google.colab.notebook.generateWithVariable('task_accuracy_df2');\n",
              "      }\n",
              "      })();\n",
              "    </script>\n",
              "  </div>\n",
              "\n",
              "    </div>\n",
              "  </div>\n"
            ],
            "application/vnd.google.colaboratory.intrinsic+json": {
              "type": "dataframe",
              "variable_name": "task_accuracy_df2",
              "summary": "{\n  \"name\": \"task_accuracy_df2\",\n  \"rows\": 3,\n  \"fields\": [\n    {\n      \"column\": \"EXPW\",\n      \"properties\": {\n        \"dtype\": \"number\",\n        \"std\": 0.3084269249770314,\n        \"min\": 28.07983482450103,\n        \"max\": 28.630419821059878,\n        \"samples\": [\n          28.11424638678596,\n          28.630419821059878,\n          28.07983482450103\n        ],\n        \"num_unique_values\": 3,\n        \"semantic_type\": \"\",\n        \"description\": \"\"\n      }\n    }\n  ]\n}"
            }
          },
          "metadata": {},
          "execution_count": 53
        }
      ],
      "source": [
        "task_accuracy_df2"
      ]
    },
    {
      "cell_type": "code",
      "execution_count": 54,
      "metadata": {
        "id": "SOAzg8Xgz0Ju"
      },
      "outputs": [],
      "source": [
        "task_accuracy_df2.to_csv('/content/gdrive/MyDrive/CV_FER/results/taskacc_race_EXPWCrop_{}.csv'.format(datetime.now().strftime(\"%d-%m-%Y_%H:%M\")))"
      ]
    },
    {
      "cell_type": "code",
      "execution_count": 55,
      "metadata": {
        "id": "rZKUDRi-KFr4"
      },
      "outputs": [],
      "source": [
        "def eq_odds(df, race1, race2, emotion):\n",
        "  numerator=0\n",
        "  ct_race_and_emotion=0\n",
        "  ct_race=0\n",
        "  for index, row in df.iterrows():\n",
        "    if(row['gt_race']==race1):\n",
        "      ct_race+=1\n",
        "      if(row['p_emotion']==emotion and row['gt_emotion']==emotion):\n",
        "        ct_race_and_emotion+=1\n",
        "  if(ct_race!=0):\n",
        "    numerator = ct_race_and_emotion/ct_race\n",
        "  #print(\"Num: \", numerator)\n",
        "  denominator=0\n",
        "  ct_race_and_emotion=0\n",
        "  ct_race=0\n",
        "  for index, row in df.iterrows():\n",
        "    if(row['gt_race']==race2):\n",
        "      ct_race+=1\n",
        "      if(row['p_emotion']==emotion and row['gt_emotion']==emotion):\n",
        "        ct_race_and_emotion+=1\n",
        "  if(ct_race!=0):\n",
        "    denominator = ct_race_and_emotion/ct_race\n",
        "  #print(\"Denom\", denominator)\n",
        "  if(denominator==0):\n",
        "    return 0\n",
        "  return numerator/denominator"
      ]
    },
    {
      "cell_type": "code",
      "execution_count": 61,
      "metadata": {
        "id": "_Vy8wOIYQdO1"
      },
      "outputs": [],
      "source": [
        "# eq_odds_result={}\n",
        "# task_accuracy_d2 = {'EXPW': pd.Series([non_dann_accuracy_sfew_race, dann_accuracy_sfew_race, ewc_dann_accuracy_sfew_race],\n",
        "#                       index=['non_dann', 'dann', 'dann_ewc'])}\n",
        "# eq_odds_result = {'Asian': pd.Series([non_dann_accuracy_sfew_race, dann_accuracy_sfew_race, ewc_dann_accuracy_sfew_race],\n",
        "#                       index=races),\n",
        "#                     'African': pd.Series([non_dann_accuracy_sfew_race, dann_accuracy_sfew_race, ewc_dann_accuracy_sfew_race],\n",
        "#                       index=races),\n",
        "#                     'White': pd.Series([non_dann_accuracy_sfew_race, dann_accuracy_sfew_race, ewc_dann_accuracy_sfew_race],\n",
        "#                       index=races),\n",
        "#                     'Indian': pd.Series([non_dann_accuracy_sfew_race, dann_accuracy_sfew_race, ewc_dann_accuracy_sfew_race],\n",
        "#                       index=races),\n",
        "#                     'Middle Eastern': pd.Series([non_dann_accuracy_sfew_race, dann_accuracy_sfew_race, ewc_dann_accuracy_sfew_race],\n",
        "#                       index=races),\n",
        "#                     'Latino': pd.Series([non_dann_accuracy_sfew_race, dann_accuracy_sfew_race, ewc_dann_accuracy_sfew_race],\n",
        "#                       index=races)}"
      ]
    },
    {
      "cell_type": "code",
      "source": [
        "race_results_eq_odds={}\n",
        "for race in races:\n",
        "  race_results_eq_odds[race]=[]\n",
        "\n",
        "for emotion in emotions:\n",
        "  for race1 in races:\n",
        "    eq_odds_val=0\n",
        "    for race2 in races:\n",
        "      eq_odds_val = eq_odds(expw_result_non_dann, race1, race2 , emotion)\n",
        "      # eq_odds_val = eq_odds_val/len(races)\n",
        "      race_results_eq_odds[race1].append(eq_odds_val)\n",
        "  # print(emotion,\"==>>\", race_results)\n",
        "  eq_odds_df = pd.DataFrame(data=[race_results_eq_odds[i] for i in races] ,\n",
        "             columns=[i for i in races],\n",
        "             index=[i for i in races])\n",
        "  break\n",
        "\n",
        "eq_odds_df"
      ],
      "metadata": {
        "colab": {
          "base_uri": "https://localhost:8080/",
          "height": 237
        },
        "id": "FJa1sECr1X9A",
        "outputId": "0654008a-4f3c-47a8-c161-f106effc6ca9"
      },
      "execution_count": 67,
      "outputs": [
        {
          "output_type": "execute_result",
          "data": {
            "text/plain": [
              "                 African     Asian     White    Indian  Middle Eastern  \\\n",
              "African         1.000000  1.733309  1.095721  2.389623        1.057488   \n",
              "Asian           0.576931  1.000000  0.632156  1.378648        0.610098   \n",
              "White           0.912641  1.581889  1.000000  2.180868        0.965107   \n",
              "Indian          0.418476  0.725348  0.458533  1.000000        0.442534   \n",
              "Middle Eastern  0.945637  1.639081  1.036154  2.259716        1.000000   \n",
              "Latino          0.249412  0.432308  0.273286  0.596000        0.263750   \n",
              "\n",
              "                  Latino  \n",
              "African         4.009434  \n",
              "Asian           2.313167  \n",
              "White           3.659174  \n",
              "Indian          1.677852  \n",
              "Middle Eastern  3.791469  \n",
              "Latino          1.000000  "
            ],
            "text/html": [
              "\n",
              "  <div id=\"df-5e0f09f5-93cd-4201-8c86-9e736594928b\" class=\"colab-df-container\">\n",
              "    <div>\n",
              "<style scoped>\n",
              "    .dataframe tbody tr th:only-of-type {\n",
              "        vertical-align: middle;\n",
              "    }\n",
              "\n",
              "    .dataframe tbody tr th {\n",
              "        vertical-align: top;\n",
              "    }\n",
              "\n",
              "    .dataframe thead th {\n",
              "        text-align: right;\n",
              "    }\n",
              "</style>\n",
              "<table border=\"1\" class=\"dataframe\">\n",
              "  <thead>\n",
              "    <tr style=\"text-align: right;\">\n",
              "      <th></th>\n",
              "      <th>African</th>\n",
              "      <th>Asian</th>\n",
              "      <th>White</th>\n",
              "      <th>Indian</th>\n",
              "      <th>Middle Eastern</th>\n",
              "      <th>Latino</th>\n",
              "    </tr>\n",
              "  </thead>\n",
              "  <tbody>\n",
              "    <tr>\n",
              "      <th>African</th>\n",
              "      <td>1.000000</td>\n",
              "      <td>1.733309</td>\n",
              "      <td>1.095721</td>\n",
              "      <td>2.389623</td>\n",
              "      <td>1.057488</td>\n",
              "      <td>4.009434</td>\n",
              "    </tr>\n",
              "    <tr>\n",
              "      <th>Asian</th>\n",
              "      <td>0.576931</td>\n",
              "      <td>1.000000</td>\n",
              "      <td>0.632156</td>\n",
              "      <td>1.378648</td>\n",
              "      <td>0.610098</td>\n",
              "      <td>2.313167</td>\n",
              "    </tr>\n",
              "    <tr>\n",
              "      <th>White</th>\n",
              "      <td>0.912641</td>\n",
              "      <td>1.581889</td>\n",
              "      <td>1.000000</td>\n",
              "      <td>2.180868</td>\n",
              "      <td>0.965107</td>\n",
              "      <td>3.659174</td>\n",
              "    </tr>\n",
              "    <tr>\n",
              "      <th>Indian</th>\n",
              "      <td>0.418476</td>\n",
              "      <td>0.725348</td>\n",
              "      <td>0.458533</td>\n",
              "      <td>1.000000</td>\n",
              "      <td>0.442534</td>\n",
              "      <td>1.677852</td>\n",
              "    </tr>\n",
              "    <tr>\n",
              "      <th>Middle Eastern</th>\n",
              "      <td>0.945637</td>\n",
              "      <td>1.639081</td>\n",
              "      <td>1.036154</td>\n",
              "      <td>2.259716</td>\n",
              "      <td>1.000000</td>\n",
              "      <td>3.791469</td>\n",
              "    </tr>\n",
              "    <tr>\n",
              "      <th>Latino</th>\n",
              "      <td>0.249412</td>\n",
              "      <td>0.432308</td>\n",
              "      <td>0.273286</td>\n",
              "      <td>0.596000</td>\n",
              "      <td>0.263750</td>\n",
              "      <td>1.000000</td>\n",
              "    </tr>\n",
              "  </tbody>\n",
              "</table>\n",
              "</div>\n",
              "    <div class=\"colab-df-buttons\">\n",
              "\n",
              "  <div class=\"colab-df-container\">\n",
              "    <button class=\"colab-df-convert\" onclick=\"convertToInteractive('df-5e0f09f5-93cd-4201-8c86-9e736594928b')\"\n",
              "            title=\"Convert this dataframe to an interactive table.\"\n",
              "            style=\"display:none;\">\n",
              "\n",
              "  <svg xmlns=\"http://www.w3.org/2000/svg\" height=\"24px\" viewBox=\"0 -960 960 960\">\n",
              "    <path d=\"M120-120v-720h720v720H120Zm60-500h600v-160H180v160Zm220 220h160v-160H400v160Zm0 220h160v-160H400v160ZM180-400h160v-160H180v160Zm440 0h160v-160H620v160ZM180-180h160v-160H180v160Zm440 0h160v-160H620v160Z\"/>\n",
              "  </svg>\n",
              "    </button>\n",
              "\n",
              "  <style>\n",
              "    .colab-df-container {\n",
              "      display:flex;\n",
              "      gap: 12px;\n",
              "    }\n",
              "\n",
              "    .colab-df-convert {\n",
              "      background-color: #E8F0FE;\n",
              "      border: none;\n",
              "      border-radius: 50%;\n",
              "      cursor: pointer;\n",
              "      display: none;\n",
              "      fill: #1967D2;\n",
              "      height: 32px;\n",
              "      padding: 0 0 0 0;\n",
              "      width: 32px;\n",
              "    }\n",
              "\n",
              "    .colab-df-convert:hover {\n",
              "      background-color: #E2EBFA;\n",
              "      box-shadow: 0px 1px 2px rgba(60, 64, 67, 0.3), 0px 1px 3px 1px rgba(60, 64, 67, 0.15);\n",
              "      fill: #174EA6;\n",
              "    }\n",
              "\n",
              "    .colab-df-buttons div {\n",
              "      margin-bottom: 4px;\n",
              "    }\n",
              "\n",
              "    [theme=dark] .colab-df-convert {\n",
              "      background-color: #3B4455;\n",
              "      fill: #D2E3FC;\n",
              "    }\n",
              "\n",
              "    [theme=dark] .colab-df-convert:hover {\n",
              "      background-color: #434B5C;\n",
              "      box-shadow: 0px 1px 3px 1px rgba(0, 0, 0, 0.15);\n",
              "      filter: drop-shadow(0px 1px 2px rgba(0, 0, 0, 0.3));\n",
              "      fill: #FFFFFF;\n",
              "    }\n",
              "  </style>\n",
              "\n",
              "    <script>\n",
              "      const buttonEl =\n",
              "        document.querySelector('#df-5e0f09f5-93cd-4201-8c86-9e736594928b button.colab-df-convert');\n",
              "      buttonEl.style.display =\n",
              "        google.colab.kernel.accessAllowed ? 'block' : 'none';\n",
              "\n",
              "      async function convertToInteractive(key) {\n",
              "        const element = document.querySelector('#df-5e0f09f5-93cd-4201-8c86-9e736594928b');\n",
              "        const dataTable =\n",
              "          await google.colab.kernel.invokeFunction('convertToInteractive',\n",
              "                                                    [key], {});\n",
              "        if (!dataTable) return;\n",
              "\n",
              "        const docLinkHtml = 'Like what you see? Visit the ' +\n",
              "          '<a target=\"_blank\" href=https://colab.research.google.com/notebooks/data_table.ipynb>data table notebook</a>'\n",
              "          + ' to learn more about interactive tables.';\n",
              "        element.innerHTML = '';\n",
              "        dataTable['output_type'] = 'display_data';\n",
              "        await google.colab.output.renderOutput(dataTable, element);\n",
              "        const docLink = document.createElement('div');\n",
              "        docLink.innerHTML = docLinkHtml;\n",
              "        element.appendChild(docLink);\n",
              "      }\n",
              "    </script>\n",
              "  </div>\n",
              "\n",
              "\n",
              "<div id=\"df-dbdcd70e-66ac-4f42-8ef7-d7947da7be22\">\n",
              "  <button class=\"colab-df-quickchart\" onclick=\"quickchart('df-dbdcd70e-66ac-4f42-8ef7-d7947da7be22')\"\n",
              "            title=\"Suggest charts\"\n",
              "            style=\"display:none;\">\n",
              "\n",
              "<svg xmlns=\"http://www.w3.org/2000/svg\" height=\"24px\"viewBox=\"0 0 24 24\"\n",
              "     width=\"24px\">\n",
              "    <g>\n",
              "        <path d=\"M19 3H5c-1.1 0-2 .9-2 2v14c0 1.1.9 2 2 2h14c1.1 0 2-.9 2-2V5c0-1.1-.9-2-2-2zM9 17H7v-7h2v7zm4 0h-2V7h2v10zm4 0h-2v-4h2v4z\"/>\n",
              "    </g>\n",
              "</svg>\n",
              "  </button>\n",
              "\n",
              "<style>\n",
              "  .colab-df-quickchart {\n",
              "      --bg-color: #E8F0FE;\n",
              "      --fill-color: #1967D2;\n",
              "      --hover-bg-color: #E2EBFA;\n",
              "      --hover-fill-color: #174EA6;\n",
              "      --disabled-fill-color: #AAA;\n",
              "      --disabled-bg-color: #DDD;\n",
              "  }\n",
              "\n",
              "  [theme=dark] .colab-df-quickchart {\n",
              "      --bg-color: #3B4455;\n",
              "      --fill-color: #D2E3FC;\n",
              "      --hover-bg-color: #434B5C;\n",
              "      --hover-fill-color: #FFFFFF;\n",
              "      --disabled-bg-color: #3B4455;\n",
              "      --disabled-fill-color: #666;\n",
              "  }\n",
              "\n",
              "  .colab-df-quickchart {\n",
              "    background-color: var(--bg-color);\n",
              "    border: none;\n",
              "    border-radius: 50%;\n",
              "    cursor: pointer;\n",
              "    display: none;\n",
              "    fill: var(--fill-color);\n",
              "    height: 32px;\n",
              "    padding: 0;\n",
              "    width: 32px;\n",
              "  }\n",
              "\n",
              "  .colab-df-quickchart:hover {\n",
              "    background-color: var(--hover-bg-color);\n",
              "    box-shadow: 0 1px 2px rgba(60, 64, 67, 0.3), 0 1px 3px 1px rgba(60, 64, 67, 0.15);\n",
              "    fill: var(--button-hover-fill-color);\n",
              "  }\n",
              "\n",
              "  .colab-df-quickchart-complete:disabled,\n",
              "  .colab-df-quickchart-complete:disabled:hover {\n",
              "    background-color: var(--disabled-bg-color);\n",
              "    fill: var(--disabled-fill-color);\n",
              "    box-shadow: none;\n",
              "  }\n",
              "\n",
              "  .colab-df-spinner {\n",
              "    border: 2px solid var(--fill-color);\n",
              "    border-color: transparent;\n",
              "    border-bottom-color: var(--fill-color);\n",
              "    animation:\n",
              "      spin 1s steps(1) infinite;\n",
              "  }\n",
              "\n",
              "  @keyframes spin {\n",
              "    0% {\n",
              "      border-color: transparent;\n",
              "      border-bottom-color: var(--fill-color);\n",
              "      border-left-color: var(--fill-color);\n",
              "    }\n",
              "    20% {\n",
              "      border-color: transparent;\n",
              "      border-left-color: var(--fill-color);\n",
              "      border-top-color: var(--fill-color);\n",
              "    }\n",
              "    30% {\n",
              "      border-color: transparent;\n",
              "      border-left-color: var(--fill-color);\n",
              "      border-top-color: var(--fill-color);\n",
              "      border-right-color: var(--fill-color);\n",
              "    }\n",
              "    40% {\n",
              "      border-color: transparent;\n",
              "      border-right-color: var(--fill-color);\n",
              "      border-top-color: var(--fill-color);\n",
              "    }\n",
              "    60% {\n",
              "      border-color: transparent;\n",
              "      border-right-color: var(--fill-color);\n",
              "    }\n",
              "    80% {\n",
              "      border-color: transparent;\n",
              "      border-right-color: var(--fill-color);\n",
              "      border-bottom-color: var(--fill-color);\n",
              "    }\n",
              "    90% {\n",
              "      border-color: transparent;\n",
              "      border-bottom-color: var(--fill-color);\n",
              "    }\n",
              "  }\n",
              "</style>\n",
              "\n",
              "  <script>\n",
              "    async function quickchart(key) {\n",
              "      const quickchartButtonEl =\n",
              "        document.querySelector('#' + key + ' button');\n",
              "      quickchartButtonEl.disabled = true;  // To prevent multiple clicks.\n",
              "      quickchartButtonEl.classList.add('colab-df-spinner');\n",
              "      try {\n",
              "        const charts = await google.colab.kernel.invokeFunction(\n",
              "            'suggestCharts', [key], {});\n",
              "      } catch (error) {\n",
              "        console.error('Error during call to suggestCharts:', error);\n",
              "      }\n",
              "      quickchartButtonEl.classList.remove('colab-df-spinner');\n",
              "      quickchartButtonEl.classList.add('colab-df-quickchart-complete');\n",
              "    }\n",
              "    (() => {\n",
              "      let quickchartButtonEl =\n",
              "        document.querySelector('#df-dbdcd70e-66ac-4f42-8ef7-d7947da7be22 button');\n",
              "      quickchartButtonEl.style.display =\n",
              "        google.colab.kernel.accessAllowed ? 'block' : 'none';\n",
              "    })();\n",
              "  </script>\n",
              "</div>\n",
              "\n",
              "  <div id=\"id_345949c7-43ee-482d-a79f-476a7058fee4\">\n",
              "    <style>\n",
              "      .colab-df-generate {\n",
              "        background-color: #E8F0FE;\n",
              "        border: none;\n",
              "        border-radius: 50%;\n",
              "        cursor: pointer;\n",
              "        display: none;\n",
              "        fill: #1967D2;\n",
              "        height: 32px;\n",
              "        padding: 0 0 0 0;\n",
              "        width: 32px;\n",
              "      }\n",
              "\n",
              "      .colab-df-generate:hover {\n",
              "        background-color: #E2EBFA;\n",
              "        box-shadow: 0px 1px 2px rgba(60, 64, 67, 0.3), 0px 1px 3px 1px rgba(60, 64, 67, 0.15);\n",
              "        fill: #174EA6;\n",
              "      }\n",
              "\n",
              "      [theme=dark] .colab-df-generate {\n",
              "        background-color: #3B4455;\n",
              "        fill: #D2E3FC;\n",
              "      }\n",
              "\n",
              "      [theme=dark] .colab-df-generate:hover {\n",
              "        background-color: #434B5C;\n",
              "        box-shadow: 0px 1px 3px 1px rgba(0, 0, 0, 0.15);\n",
              "        filter: drop-shadow(0px 1px 2px rgba(0, 0, 0, 0.3));\n",
              "        fill: #FFFFFF;\n",
              "      }\n",
              "    </style>\n",
              "    <button class=\"colab-df-generate\" onclick=\"generateWithVariable('eq_odds_df')\"\n",
              "            title=\"Generate code using this dataframe.\"\n",
              "            style=\"display:none;\">\n",
              "\n",
              "  <svg xmlns=\"http://www.w3.org/2000/svg\" height=\"24px\"viewBox=\"0 0 24 24\"\n",
              "       width=\"24px\">\n",
              "    <path d=\"M7,19H8.4L18.45,9,17,7.55,7,17.6ZM5,21V16.75L18.45,3.32a2,2,0,0,1,2.83,0l1.4,1.43a1.91,1.91,0,0,1,.58,1.4,1.91,1.91,0,0,1-.58,1.4L9.25,21ZM18.45,9,17,7.55Zm-12,3A5.31,5.31,0,0,0,4.9,8.1,5.31,5.31,0,0,0,1,6.5,5.31,5.31,0,0,0,4.9,4.9,5.31,5.31,0,0,0,6.5,1,5.31,5.31,0,0,0,8.1,4.9,5.31,5.31,0,0,0,12,6.5,5.46,5.46,0,0,0,6.5,12Z\"/>\n",
              "  </svg>\n",
              "    </button>\n",
              "    <script>\n",
              "      (() => {\n",
              "      const buttonEl =\n",
              "        document.querySelector('#id_345949c7-43ee-482d-a79f-476a7058fee4 button.colab-df-generate');\n",
              "      buttonEl.style.display =\n",
              "        google.colab.kernel.accessAllowed ? 'block' : 'none';\n",
              "\n",
              "      buttonEl.onclick = () => {\n",
              "        google.colab.notebook.generateWithVariable('eq_odds_df');\n",
              "      }\n",
              "      })();\n",
              "    </script>\n",
              "  </div>\n",
              "\n",
              "    </div>\n",
              "  </div>\n"
            ],
            "application/vnd.google.colaboratory.intrinsic+json": {
              "type": "dataframe",
              "variable_name": "eq_odds_df",
              "summary": "{\n  \"name\": \"eq_odds_df\",\n  \"rows\": 6,\n  \"fields\": [\n    {\n      \"column\": \"African\",\n      \"properties\": {\n        \"dtype\": \"number\",\n        \"std\": 0.3135028364016936,\n        \"min\": 0.24941176470588236,\n        \"max\": 1.0,\n        \"samples\": [\n          1.0,\n          0.5769311283232154,\n          0.24941176470588236\n        ],\n        \"num_unique_values\": 6,\n        \"semantic_type\": \"\",\n        \"description\": \"\"\n      }\n    },\n    {\n      \"column\": \"Asian\",\n      \"properties\": {\n        \"dtype\": \"number\",\n        \"std\": 0.543397332906709,\n        \"min\": 0.43230769230769234,\n        \"max\": 1.7333091436865022,\n        \"samples\": [\n          1.7333091436865022,\n          1.0,\n          0.43230769230769234\n        ],\n        \"num_unique_values\": 6,\n        \"semantic_type\": \"\",\n        \"description\": \"\"\n      }\n    },\n    {\n      \"column\": \"White\",\n      \"properties\": {\n        \"dtype\": \"number\",\n        \"std\": 0.3435116490100902,\n        \"min\": 0.2732857142857143,\n        \"max\": 1.09572102425876,\n        \"samples\": [\n          1.09572102425876,\n          0.6321555668530757,\n          0.2732857142857143\n        ],\n        \"num_unique_values\": 6,\n        \"semantic_type\": \"\",\n        \"description\": \"\"\n      }\n    },\n    {\n      \"column\": \"Indian\",\n      \"properties\": {\n        \"dtype\": \"number\",\n        \"std\": 0.7491534760429149,\n        \"min\": 0.596,\n        \"max\": 2.3896226415094337,\n        \"samples\": [\n          2.3896226415094337,\n          1.3786476868327402,\n          0.596\n        ],\n        \"num_unique_values\": 6,\n        \"semantic_type\": \"\",\n        \"description\": \"\"\n      }\n    },\n    {\n      \"column\": \"Middle Eastern\",\n      \"properties\": {\n        \"dtype\": \"number\",\n        \"std\": 0.3315255525273805,\n        \"min\": 0.26375,\n        \"max\": 1.0574882075471697,\n        \"samples\": [\n          1.0574882075471697,\n          0.6100978647686832,\n          0.26375\n        ],\n        \"num_unique_values\": 6,\n        \"semantic_type\": \"\",\n        \"description\": \"\"\n      }\n    },\n    {\n      \"column\": \"Latino\",\n      \"properties\": {\n        \"dtype\": \"number\",\n        \"std\": 1.256968919535092,\n        \"min\": 1.0,\n        \"max\": 4.009433962264151,\n        \"samples\": [\n          4.009433962264151,\n          2.3131672597864767,\n          1.0\n        ],\n        \"num_unique_values\": 6,\n        \"semantic_type\": \"\",\n        \"description\": \"\"\n      }\n    }\n  ]\n}"
            }
          },
          "metadata": {},
          "execution_count": 67
        }
      ]
    },
    {
      "cell_type": "code",
      "execution_count": 62,
      "metadata": {
        "id": "wRjW0TlPO1GG"
      },
      "outputs": [],
      "source": [
        "def dem_parity(df, race1, race2, emotion):\n",
        "  numerator=0\n",
        "  ct_race_and_emotion=0\n",
        "  ct_race=0\n",
        "  for index, row in df.iterrows():\n",
        "    if(row['gt_race']==race1):\n",
        "      ct_race+=1\n",
        "      if(row['p_emotion']==emotion):\n",
        "        ct_race_and_emotion+=1\n",
        "  if(ct_race!=0):\n",
        "    numerator = ct_race_and_emotion/ct_race\n",
        "\n",
        "  denominator=0\n",
        "  ct_race_and_emotion=0\n",
        "  ct_race=0\n",
        "  for index, row in df.iterrows():\n",
        "    if(row['gt_race']==race2):\n",
        "      ct_race+=1\n",
        "      if(row['p_emotion']==emotion):\n",
        "        ct_race_and_emotion+=1\n",
        "  if(ct_race!=0):\n",
        "    denominator = ct_race_and_emotion/ct_race\n",
        "  if(denominator==0):\n",
        "    return 0\n",
        "  return numerator/denominator"
      ]
    },
    {
      "cell_type": "code",
      "source": [
        "race_results_dem_parity={}\n",
        "for race in races:\n",
        "  race_results_dem_parity[race]=[]\n",
        "\n",
        "for emotion in emotions:\n",
        "  for race1 in races:\n",
        "    dem_parity_val=0\n",
        "    for race2 in races:\n",
        "      dem_parity_val = dem_parity(expw_result_non_dann, race1, race2 , emotion)\n",
        "      # dem_parity_val = dem_parity_val/len(races)\n",
        "      race_results_dem_parity[race1].append(dem_parity_val)\n",
        "  # print(emotion,\"==>>\", race_results)\n",
        "  dem_parity_df = pd.DataFrame(data=[race_results_dem_parity[i] for i in races] ,\n",
        "             columns=[i for i in races],\n",
        "             index=[i for i in races])\n",
        "  break\n",
        "\n",
        "dem_parity_df"
      ],
      "metadata": {
        "colab": {
          "base_uri": "https://localhost:8080/",
          "height": 237
        },
        "id": "qYFCHByt6q7x",
        "outputId": "78390e20-5d34-4be2-ee95-0c69f5dcb0b9"
      },
      "execution_count": 66,
      "outputs": [
        {
          "output_type": "execute_result",
          "data": {
            "text/plain": [
              "                 African     Asian     White    Indian  Middle Eastern  \\\n",
              "African         1.000000  1.529390  1.034363  1.039397        0.706113   \n",
              "Asian           0.653855  1.000000  0.676324  0.679615        0.461696   \n",
              "White           0.966779  1.478582  1.000000  1.004867        0.682655   \n",
              "Indian          0.962097  1.471421  0.995157  1.000000        0.679349   \n",
              "Middle Eastern  1.416204  2.165929  1.464869  1.471998        1.000000   \n",
              "Latino          1.049905  1.605714  1.085983  1.091268        0.741351   \n",
              "\n",
              "                  Latino  \n",
              "African         0.952467  \n",
              "Asian           0.622776  \n",
              "White           0.920825  \n",
              "Indian          0.916366  \n",
              "Middle Eastern  1.348888  \n",
              "Latino          1.000000  "
            ],
            "text/html": [
              "\n",
              "  <div id=\"df-5623c44b-21a5-458c-a225-be7a2ff098d0\" class=\"colab-df-container\">\n",
              "    <div>\n",
              "<style scoped>\n",
              "    .dataframe tbody tr th:only-of-type {\n",
              "        vertical-align: middle;\n",
              "    }\n",
              "\n",
              "    .dataframe tbody tr th {\n",
              "        vertical-align: top;\n",
              "    }\n",
              "\n",
              "    .dataframe thead th {\n",
              "        text-align: right;\n",
              "    }\n",
              "</style>\n",
              "<table border=\"1\" class=\"dataframe\">\n",
              "  <thead>\n",
              "    <tr style=\"text-align: right;\">\n",
              "      <th></th>\n",
              "      <th>African</th>\n",
              "      <th>Asian</th>\n",
              "      <th>White</th>\n",
              "      <th>Indian</th>\n",
              "      <th>Middle Eastern</th>\n",
              "      <th>Latino</th>\n",
              "    </tr>\n",
              "  </thead>\n",
              "  <tbody>\n",
              "    <tr>\n",
              "      <th>African</th>\n",
              "      <td>1.000000</td>\n",
              "      <td>1.529390</td>\n",
              "      <td>1.034363</td>\n",
              "      <td>1.039397</td>\n",
              "      <td>0.706113</td>\n",
              "      <td>0.952467</td>\n",
              "    </tr>\n",
              "    <tr>\n",
              "      <th>Asian</th>\n",
              "      <td>0.653855</td>\n",
              "      <td>1.000000</td>\n",
              "      <td>0.676324</td>\n",
              "      <td>0.679615</td>\n",
              "      <td>0.461696</td>\n",
              "      <td>0.622776</td>\n",
              "    </tr>\n",
              "    <tr>\n",
              "      <th>White</th>\n",
              "      <td>0.966779</td>\n",
              "      <td>1.478582</td>\n",
              "      <td>1.000000</td>\n",
              "      <td>1.004867</td>\n",
              "      <td>0.682655</td>\n",
              "      <td>0.920825</td>\n",
              "    </tr>\n",
              "    <tr>\n",
              "      <th>Indian</th>\n",
              "      <td>0.962097</td>\n",
              "      <td>1.471421</td>\n",
              "      <td>0.995157</td>\n",
              "      <td>1.000000</td>\n",
              "      <td>0.679349</td>\n",
              "      <td>0.916366</td>\n",
              "    </tr>\n",
              "    <tr>\n",
              "      <th>Middle Eastern</th>\n",
              "      <td>1.416204</td>\n",
              "      <td>2.165929</td>\n",
              "      <td>1.464869</td>\n",
              "      <td>1.471998</td>\n",
              "      <td>1.000000</td>\n",
              "      <td>1.348888</td>\n",
              "    </tr>\n",
              "    <tr>\n",
              "      <th>Latino</th>\n",
              "      <td>1.049905</td>\n",
              "      <td>1.605714</td>\n",
              "      <td>1.085983</td>\n",
              "      <td>1.091268</td>\n",
              "      <td>0.741351</td>\n",
              "      <td>1.000000</td>\n",
              "    </tr>\n",
              "  </tbody>\n",
              "</table>\n",
              "</div>\n",
              "    <div class=\"colab-df-buttons\">\n",
              "\n",
              "  <div class=\"colab-df-container\">\n",
              "    <button class=\"colab-df-convert\" onclick=\"convertToInteractive('df-5623c44b-21a5-458c-a225-be7a2ff098d0')\"\n",
              "            title=\"Convert this dataframe to an interactive table.\"\n",
              "            style=\"display:none;\">\n",
              "\n",
              "  <svg xmlns=\"http://www.w3.org/2000/svg\" height=\"24px\" viewBox=\"0 -960 960 960\">\n",
              "    <path d=\"M120-120v-720h720v720H120Zm60-500h600v-160H180v160Zm220 220h160v-160H400v160Zm0 220h160v-160H400v160ZM180-400h160v-160H180v160Zm440 0h160v-160H620v160ZM180-180h160v-160H180v160Zm440 0h160v-160H620v160Z\"/>\n",
              "  </svg>\n",
              "    </button>\n",
              "\n",
              "  <style>\n",
              "    .colab-df-container {\n",
              "      display:flex;\n",
              "      gap: 12px;\n",
              "    }\n",
              "\n",
              "    .colab-df-convert {\n",
              "      background-color: #E8F0FE;\n",
              "      border: none;\n",
              "      border-radius: 50%;\n",
              "      cursor: pointer;\n",
              "      display: none;\n",
              "      fill: #1967D2;\n",
              "      height: 32px;\n",
              "      padding: 0 0 0 0;\n",
              "      width: 32px;\n",
              "    }\n",
              "\n",
              "    .colab-df-convert:hover {\n",
              "      background-color: #E2EBFA;\n",
              "      box-shadow: 0px 1px 2px rgba(60, 64, 67, 0.3), 0px 1px 3px 1px rgba(60, 64, 67, 0.15);\n",
              "      fill: #174EA6;\n",
              "    }\n",
              "\n",
              "    .colab-df-buttons div {\n",
              "      margin-bottom: 4px;\n",
              "    }\n",
              "\n",
              "    [theme=dark] .colab-df-convert {\n",
              "      background-color: #3B4455;\n",
              "      fill: #D2E3FC;\n",
              "    }\n",
              "\n",
              "    [theme=dark] .colab-df-convert:hover {\n",
              "      background-color: #434B5C;\n",
              "      box-shadow: 0px 1px 3px 1px rgba(0, 0, 0, 0.15);\n",
              "      filter: drop-shadow(0px 1px 2px rgba(0, 0, 0, 0.3));\n",
              "      fill: #FFFFFF;\n",
              "    }\n",
              "  </style>\n",
              "\n",
              "    <script>\n",
              "      const buttonEl =\n",
              "        document.querySelector('#df-5623c44b-21a5-458c-a225-be7a2ff098d0 button.colab-df-convert');\n",
              "      buttonEl.style.display =\n",
              "        google.colab.kernel.accessAllowed ? 'block' : 'none';\n",
              "\n",
              "      async function convertToInteractive(key) {\n",
              "        const element = document.querySelector('#df-5623c44b-21a5-458c-a225-be7a2ff098d0');\n",
              "        const dataTable =\n",
              "          await google.colab.kernel.invokeFunction('convertToInteractive',\n",
              "                                                    [key], {});\n",
              "        if (!dataTable) return;\n",
              "\n",
              "        const docLinkHtml = 'Like what you see? Visit the ' +\n",
              "          '<a target=\"_blank\" href=https://colab.research.google.com/notebooks/data_table.ipynb>data table notebook</a>'\n",
              "          + ' to learn more about interactive tables.';\n",
              "        element.innerHTML = '';\n",
              "        dataTable['output_type'] = 'display_data';\n",
              "        await google.colab.output.renderOutput(dataTable, element);\n",
              "        const docLink = document.createElement('div');\n",
              "        docLink.innerHTML = docLinkHtml;\n",
              "        element.appendChild(docLink);\n",
              "      }\n",
              "    </script>\n",
              "  </div>\n",
              "\n",
              "\n",
              "<div id=\"df-c4896ee9-4bd1-4db0-ac58-4d747e5ea0f1\">\n",
              "  <button class=\"colab-df-quickchart\" onclick=\"quickchart('df-c4896ee9-4bd1-4db0-ac58-4d747e5ea0f1')\"\n",
              "            title=\"Suggest charts\"\n",
              "            style=\"display:none;\">\n",
              "\n",
              "<svg xmlns=\"http://www.w3.org/2000/svg\" height=\"24px\"viewBox=\"0 0 24 24\"\n",
              "     width=\"24px\">\n",
              "    <g>\n",
              "        <path d=\"M19 3H5c-1.1 0-2 .9-2 2v14c0 1.1.9 2 2 2h14c1.1 0 2-.9 2-2V5c0-1.1-.9-2-2-2zM9 17H7v-7h2v7zm4 0h-2V7h2v10zm4 0h-2v-4h2v4z\"/>\n",
              "    </g>\n",
              "</svg>\n",
              "  </button>\n",
              "\n",
              "<style>\n",
              "  .colab-df-quickchart {\n",
              "      --bg-color: #E8F0FE;\n",
              "      --fill-color: #1967D2;\n",
              "      --hover-bg-color: #E2EBFA;\n",
              "      --hover-fill-color: #174EA6;\n",
              "      --disabled-fill-color: #AAA;\n",
              "      --disabled-bg-color: #DDD;\n",
              "  }\n",
              "\n",
              "  [theme=dark] .colab-df-quickchart {\n",
              "      --bg-color: #3B4455;\n",
              "      --fill-color: #D2E3FC;\n",
              "      --hover-bg-color: #434B5C;\n",
              "      --hover-fill-color: #FFFFFF;\n",
              "      --disabled-bg-color: #3B4455;\n",
              "      --disabled-fill-color: #666;\n",
              "  }\n",
              "\n",
              "  .colab-df-quickchart {\n",
              "    background-color: var(--bg-color);\n",
              "    border: none;\n",
              "    border-radius: 50%;\n",
              "    cursor: pointer;\n",
              "    display: none;\n",
              "    fill: var(--fill-color);\n",
              "    height: 32px;\n",
              "    padding: 0;\n",
              "    width: 32px;\n",
              "  }\n",
              "\n",
              "  .colab-df-quickchart:hover {\n",
              "    background-color: var(--hover-bg-color);\n",
              "    box-shadow: 0 1px 2px rgba(60, 64, 67, 0.3), 0 1px 3px 1px rgba(60, 64, 67, 0.15);\n",
              "    fill: var(--button-hover-fill-color);\n",
              "  }\n",
              "\n",
              "  .colab-df-quickchart-complete:disabled,\n",
              "  .colab-df-quickchart-complete:disabled:hover {\n",
              "    background-color: var(--disabled-bg-color);\n",
              "    fill: var(--disabled-fill-color);\n",
              "    box-shadow: none;\n",
              "  }\n",
              "\n",
              "  .colab-df-spinner {\n",
              "    border: 2px solid var(--fill-color);\n",
              "    border-color: transparent;\n",
              "    border-bottom-color: var(--fill-color);\n",
              "    animation:\n",
              "      spin 1s steps(1) infinite;\n",
              "  }\n",
              "\n",
              "  @keyframes spin {\n",
              "    0% {\n",
              "      border-color: transparent;\n",
              "      border-bottom-color: var(--fill-color);\n",
              "      border-left-color: var(--fill-color);\n",
              "    }\n",
              "    20% {\n",
              "      border-color: transparent;\n",
              "      border-left-color: var(--fill-color);\n",
              "      border-top-color: var(--fill-color);\n",
              "    }\n",
              "    30% {\n",
              "      border-color: transparent;\n",
              "      border-left-color: var(--fill-color);\n",
              "      border-top-color: var(--fill-color);\n",
              "      border-right-color: var(--fill-color);\n",
              "    }\n",
              "    40% {\n",
              "      border-color: transparent;\n",
              "      border-right-color: var(--fill-color);\n",
              "      border-top-color: var(--fill-color);\n",
              "    }\n",
              "    60% {\n",
              "      border-color: transparent;\n",
              "      border-right-color: var(--fill-color);\n",
              "    }\n",
              "    80% {\n",
              "      border-color: transparent;\n",
              "      border-right-color: var(--fill-color);\n",
              "      border-bottom-color: var(--fill-color);\n",
              "    }\n",
              "    90% {\n",
              "      border-color: transparent;\n",
              "      border-bottom-color: var(--fill-color);\n",
              "    }\n",
              "  }\n",
              "</style>\n",
              "\n",
              "  <script>\n",
              "    async function quickchart(key) {\n",
              "      const quickchartButtonEl =\n",
              "        document.querySelector('#' + key + ' button');\n",
              "      quickchartButtonEl.disabled = true;  // To prevent multiple clicks.\n",
              "      quickchartButtonEl.classList.add('colab-df-spinner');\n",
              "      try {\n",
              "        const charts = await google.colab.kernel.invokeFunction(\n",
              "            'suggestCharts', [key], {});\n",
              "      } catch (error) {\n",
              "        console.error('Error during call to suggestCharts:', error);\n",
              "      }\n",
              "      quickchartButtonEl.classList.remove('colab-df-spinner');\n",
              "      quickchartButtonEl.classList.add('colab-df-quickchart-complete');\n",
              "    }\n",
              "    (() => {\n",
              "      let quickchartButtonEl =\n",
              "        document.querySelector('#df-c4896ee9-4bd1-4db0-ac58-4d747e5ea0f1 button');\n",
              "      quickchartButtonEl.style.display =\n",
              "        google.colab.kernel.accessAllowed ? 'block' : 'none';\n",
              "    })();\n",
              "  </script>\n",
              "</div>\n",
              "\n",
              "  <div id=\"id_134c0ef2-feb2-48d5-8bd1-f20c13ccbff0\">\n",
              "    <style>\n",
              "      .colab-df-generate {\n",
              "        background-color: #E8F0FE;\n",
              "        border: none;\n",
              "        border-radius: 50%;\n",
              "        cursor: pointer;\n",
              "        display: none;\n",
              "        fill: #1967D2;\n",
              "        height: 32px;\n",
              "        padding: 0 0 0 0;\n",
              "        width: 32px;\n",
              "      }\n",
              "\n",
              "      .colab-df-generate:hover {\n",
              "        background-color: #E2EBFA;\n",
              "        box-shadow: 0px 1px 2px rgba(60, 64, 67, 0.3), 0px 1px 3px 1px rgba(60, 64, 67, 0.15);\n",
              "        fill: #174EA6;\n",
              "      }\n",
              "\n",
              "      [theme=dark] .colab-df-generate {\n",
              "        background-color: #3B4455;\n",
              "        fill: #D2E3FC;\n",
              "      }\n",
              "\n",
              "      [theme=dark] .colab-df-generate:hover {\n",
              "        background-color: #434B5C;\n",
              "        box-shadow: 0px 1px 3px 1px rgba(0, 0, 0, 0.15);\n",
              "        filter: drop-shadow(0px 1px 2px rgba(0, 0, 0, 0.3));\n",
              "        fill: #FFFFFF;\n",
              "      }\n",
              "    </style>\n",
              "    <button class=\"colab-df-generate\" onclick=\"generateWithVariable('dem_parity_df')\"\n",
              "            title=\"Generate code using this dataframe.\"\n",
              "            style=\"display:none;\">\n",
              "\n",
              "  <svg xmlns=\"http://www.w3.org/2000/svg\" height=\"24px\"viewBox=\"0 0 24 24\"\n",
              "       width=\"24px\">\n",
              "    <path d=\"M7,19H8.4L18.45,9,17,7.55,7,17.6ZM5,21V16.75L18.45,3.32a2,2,0,0,1,2.83,0l1.4,1.43a1.91,1.91,0,0,1,.58,1.4,1.91,1.91,0,0,1-.58,1.4L9.25,21ZM18.45,9,17,7.55Zm-12,3A5.31,5.31,0,0,0,4.9,8.1,5.31,5.31,0,0,0,1,6.5,5.31,5.31,0,0,0,4.9,4.9,5.31,5.31,0,0,0,6.5,1,5.31,5.31,0,0,0,8.1,4.9,5.31,5.31,0,0,0,12,6.5,5.46,5.46,0,0,0,6.5,12Z\"/>\n",
              "  </svg>\n",
              "    </button>\n",
              "    <script>\n",
              "      (() => {\n",
              "      const buttonEl =\n",
              "        document.querySelector('#id_134c0ef2-feb2-48d5-8bd1-f20c13ccbff0 button.colab-df-generate');\n",
              "      buttonEl.style.display =\n",
              "        google.colab.kernel.accessAllowed ? 'block' : 'none';\n",
              "\n",
              "      buttonEl.onclick = () => {\n",
              "        google.colab.notebook.generateWithVariable('dem_parity_df');\n",
              "      }\n",
              "      })();\n",
              "    </script>\n",
              "  </div>\n",
              "\n",
              "    </div>\n",
              "  </div>\n"
            ],
            "application/vnd.google.colaboratory.intrinsic+json": {
              "type": "dataframe",
              "variable_name": "dem_parity_df",
              "summary": "{\n  \"name\": \"dem_parity_df\",\n  \"rows\": 6,\n  \"fields\": [\n    {\n      \"column\": \"African\",\n      \"properties\": {\n        \"dtype\": \"number\",\n        \"std\": 0.24399804167961156,\n        \"min\": 0.6538552787663108,\n        \"max\": 1.4162040171518846,\n        \"samples\": [\n          1.0,\n          0.6538552787663108,\n          1.049904761904762\n        ],\n        \"num_unique_values\": 6,\n        \"semantic_type\": \"\",\n        \"description\": \"\"\n      }\n    },\n    {\n      \"column\": \"Asian\",\n      \"properties\": {\n        \"dtype\": \"number\",\n        \"std\": 0.37316826766312144,\n        \"min\": 1.0,\n        \"max\": 2.165928857871986,\n        \"samples\": [\n          1.5293904208998548,\n          1.0,\n          1.6057142857142856\n        ],\n        \"num_unique_values\": 6,\n        \"semantic_type\": \"\",\n        \"description\": \"\"\n      }\n    },\n    {\n      \"column\": \"White\",\n      \"properties\": {\n        \"dtype\": \"number\",\n        \"std\": 0.25238252163825065,\n        \"min\": 0.6763236413930287,\n        \"max\": 1.464868892154225,\n        \"samples\": [\n          1.0343628985746065,\n          0.6763236413930287,\n          1.0859825327510917\n        ],\n        \"num_unique_values\": 6,\n        \"semantic_type\": \"\",\n        \"description\": \"\"\n      }\n    },\n    {\n      \"column\": \"Indian\",\n      \"properties\": {\n        \"dtype\": \"number\",\n        \"std\": 0.25361077345718325,\n        \"min\": 0.6796150568893791,\n        \"max\": 1.4719978639610174,\n        \"samples\": [\n          1.0393967579059262,\n          0.6796150568893791,\n          1.0912676056338029\n        ],\n        \"num_unique_values\": 6,\n        \"semantic_type\": \"\",\n        \"description\": \"\"\n      }\n    },\n    {\n      \"column\": \"Middle Eastern\",\n      \"properties\": {\n        \"dtype\": \"number\",\n        \"std\": 0.17229017763296128,\n        \"min\": 0.46169568144657114,\n        \"max\": 1.0,\n        \"samples\": [\n          0.7061129525752167,\n          0.46169568144657114,\n          0.7413513513513513\n        ],\n        \"num_unique_values\": 6,\n        \"semantic_type\": \"\",\n        \"description\": \"\"\n      }\n    },\n    {\n      \"column\": \"Latino\",\n      \"properties\": {\n        \"dtype\": \"number\",\n        \"std\": 0.2324001666941147,\n        \"min\": 0.6227758007117438,\n        \"max\": 1.3488880787458986,\n        \"samples\": [\n          0.9524673439767779,\n          0.6227758007117438,\n          1.0\n        ],\n        \"num_unique_values\": 6,\n        \"semantic_type\": \"\",\n        \"description\": \"\"\n      }\n    }\n  ]\n}"
            }
          },
          "metadata": {},
          "execution_count": 66
        }
      ]
    },
    {
      "cell_type": "code",
      "source": [
        "from pandas.plotting import table\n",
        "\n",
        "fig, (ax1, ax2, ax3) = plt.subplots(3, 1)\n",
        "\n",
        "# ax1 = plt.subplot(111, frame_on=False) # no visible frame\n",
        "ax1.xaxis.set_visible(False)  # hide the x axis\n",
        "ax1.yaxis.set_visible(False)  # hide the y axis\n",
        "table(ax1, dem_parity_df)  # where df is your data frame\n",
        "plt.savefig('dem_parity_df.png')"
      ],
      "metadata": {
        "colab": {
          "base_uri": "https://localhost:8080/",
          "height": 430
        },
        "id": "zJSWaAaB9r6C",
        "outputId": "77594617-4b5d-4178-db0d-02b64d2d3e4d"
      },
      "execution_count": 78,
      "outputs": [
        {
          "output_type": "display_data",
          "data": {
            "text/plain": [
              "<Figure size 640x480 with 3 Axes>"
            ],
            "image/png": "[encoded data removed]"
          },
          "metadata": {}
        }
      ]
    },
    {
      "cell_type": "code",
      "execution_count": null,
      "metadata": {
        "colab": {
          "base_uri": "https://localhost:8080/"
        },
        "id": "kMYsgDEiO7Aj",
        "outputId": "c2a037ae-779e-4f0c-b1c5-8d093cea509e"
      },
      "outputs": [
        {
          "name": "stdout",
          "output_type": "stream",
          "text": [
            "Angry :  1.008951239866475\n",
            "Fear :  1.157266692409842\n",
            "Disgust :  1.1945091656511713\n",
            "Sad :  1.1117574581180256\n",
            "Surprise :  0.718008266192487\n",
            "Neutral :  1.2490655446635173\n",
            "Happy :  1.0645091732807985\n"
          ]
        }
      ],
      "source": [
        "for emotion in emotions:\n",
        "  dem_par_white=0\n",
        "  for race in races:\n",
        "    dem_par_white+=dem_parity(sfew_result_non_dann, \"White\", race , emotion)\n",
        "  print(emotion, \": \", dem_par_white/len(races))"
      ]
    },
    {
      "cell_type": "code",
      "execution_count": null,
      "metadata": {
        "colab": {
          "base_uri": "https://localhost:8080/"
        },
        "id": "anc4_NrKO7Au",
        "outputId": "d7164c5b-2ab6-42c3-cdbe-34c4f02624f0"
      },
      "outputs": [
        {
          "name": "stdout",
          "output_type": "stream",
          "text": [
            "Angry :  1.1065374982074068\n",
            "Fear :  1.0586146640107543\n",
            "Disgust :  1.2889039593968565\n",
            "Sad :  0.8713302547206019\n",
            "Surprise :  0.8504041013425262\n",
            "Neutral :  1.1914193336043832\n",
            "Happy :  1.0635476229881446\n"
          ]
        }
      ],
      "source": [
        "for emotion in emotions:\n",
        "  dem_par_white=0\n",
        "  for race in races:\n",
        "    dem_par_white+=dem_parity(sfew_result_dann, \"White\", race , emotion)\n",
        "  print(emotion, \": \", dem_par_white/len(races))"
      ]
    },
    {
      "cell_type": "code",
      "execution_count": null,
      "metadata": {
        "colab": {
          "base_uri": "https://localhost:8080/"
        },
        "id": "hWZs3X9jO7Au",
        "outputId": "2f23934d-b702-41c7-8460-2e05e91ccddb"
      },
      "outputs": [
        {
          "name": "stdout",
          "output_type": "stream",
          "text": [
            "Angry :  1.1030549443328832\n",
            "Fear :  1.0590656828967802\n",
            "Disgust :  1.2908070765222033\n",
            "Sad :  0.9134371827421367\n",
            "Surprise :  0.8553736072246662\n",
            "Neutral :  1.0337107952378408\n",
            "Happy :  1.0422885995161564\n"
          ]
        }
      ],
      "source": [
        "for emotion in emotions:\n",
        "  dem_par_white=0\n",
        "  for race in races:\n",
        "    dem_par_white+=dem_parity(sfew_result_ewc_dann, \"White\", race , emotion)\n",
        "  print(emotion, \": \", dem_par_white/len(races))"
      ]
    },
    {
      "cell_type": "code",
      "execution_count": null,
      "metadata": {
        "colab": {
          "base_uri": "https://localhost:8080/"
        },
        "id": "fVfPEBcWmYMa",
        "outputId": "081796a9-ef4d-4b6e-f4dc-44b6813acf3b"
      },
      "outputs": [
        {
          "name": "stdout",
          "output_type": "stream",
          "text": [
            "Angry :  1.0040648299609056\n",
            "Fear :  1.0592724544715217\n",
            "Disgust :  0.9548126129534708\n",
            "Sad :  1.1393698213615113\n",
            "Surprise :  0.9531427364130961\n",
            "Neutral :  1.8337885113613437\n",
            "Happy :  0.9850043396545143\n",
            "Avg emotion:  1.1327793294537662\n"
          ]
        }
      ],
      "source": [
        "tot_emotion=0\n",
        "for emotion in emotions:\n",
        "  dem_par_white=0\n",
        "  for race in races:\n",
        "    dem_par_white+=dem_parity(sfew_result_non_dann, \"Indian\", race , emotion)\n",
        "  print(emotion, \": \", dem_par_white/len(races))\n",
        "  tot_emotion+=dem_par_white/len(races)\n",
        "print(\"Avg emotion: \", tot_emotion/len(emotions))"
      ]
    },
    {
      "cell_type": "code",
      "execution_count": null,
      "metadata": {
        "colab": {
          "base_uri": "https://localhost:8080/"
        },
        "id": "vK7jJUvimYNY",
        "outputId": "2e8ac177-e1f5-47c9-d356-d14bfc626b64"
      },
      "outputs": [
        {
          "name": "stdout",
          "output_type": "stream",
          "text": [
            "Angry :  0.9429261005838789\n",
            "Fear :  1.4653309543354398\n",
            "Disgust :  1.1567369542438948\n",
            "Sad :  1.0332769224719673\n",
            "Surprise :  1.0552456967421897\n",
            "Neutral :  1.5425087260855126\n",
            "Happy :  0.9961979142939894\n",
            "Avg emotion:  1.1703176098224104\n"
          ]
        }
      ],
      "source": [
        "tot_emotion=0\n",
        "for emotion in emotions:\n",
        "  dem_par_white=0\n",
        "  for race in races:\n",
        "    dem_par_white+=dem_parity(sfew_result_dann, \"Indian\", race , emotion)\n",
        "  print(emotion, \": \", dem_par_white/len(races))\n",
        "  tot_emotion+=dem_par_white/len(races)\n",
        "print(\"Avg emotion: \", tot_emotion/len(emotions))"
      ]
    },
    {
      "cell_type": "code",
      "execution_count": null,
      "metadata": {
        "colab": {
          "base_uri": "https://localhost:8080/"
        },
        "id": "9-IifshTmYNa",
        "outputId": "1da99e6d-0018-43ec-d2eb-4fa441658b28"
      },
      "outputs": [
        {
          "name": "stdout",
          "output_type": "stream",
          "text": [
            "Angry :  1.024411594939205\n",
            "Fear :  1.4266561599080638\n",
            "Disgust :  1.1424110818694675\n",
            "Sad :  1.0281968819278784\n",
            "Surprise :  0.9413210224088896\n",
            "Neutral :  1.500970209112728\n",
            "Happy :  0.9926634120524769\n",
            "Avg emotion:  1.1509471946026726\n"
          ]
        }
      ],
      "source": [
        "tot_emotion=0\n",
        "for emotion in emotions:\n",
        "  dem_par_white=0\n",
        "  for race in races:\n",
        "    dem_par_white+=dem_parity(sfew_result_ewc_dann, \"Indian\", race , emotion)\n",
        "  print(emotion, \": \", dem_par_white/len(races))\n",
        "  tot_emotion+=dem_par_white/len(races)\n",
        "print(\"Avg emotion: \", tot_emotion/len(emotions))"
      ]
    },
    {
      "cell_type": "code",
      "execution_count": null,
      "metadata": {
        "colab": {
          "base_uri": "https://localhost:8080/"
        },
        "id": "-H3UGD5xlq_o",
        "outputId": "d388e873-5d9f-4b82-de04-07978181fb2a"
      },
      "outputs": [
        {
          "data": {
            "text/plain": [
              "0.9757652320381018"
            ]
          },
          "execution_count": 93,
          "metadata": {},
          "output_type": "execute_result"
        }
      ],
      "source": [
        "dem_parity(sfew_result_non_dann, \"White\", \"Indian\" , \"Sad\")"
      ]
    },
    {
      "cell_type": "code",
      "execution_count": null,
      "metadata": {
        "colab": {
          "base_uri": "https://localhost:8080/"
        },
        "id": "Xz8VaUHslq_1",
        "outputId": "1f644abe-a235-4b5d-e9c2-1ef248190248"
      },
      "outputs": [
        {
          "data": {
            "text/plain": [
              "0.84326886217111"
            ]
          },
          "execution_count": 94,
          "metadata": {},
          "output_type": "execute_result"
        }
      ],
      "source": [
        "dem_parity(sfew_result_dann, \"White\", \"Indian\" , \"Sad\")"
      ]
    },
    {
      "cell_type": "code",
      "execution_count": null,
      "metadata": {
        "colab": {
          "base_uri": "https://localhost:8080/"
        },
        "id": "FnWzQf_3lq_2",
        "outputId": "858b5538-6fdb-4625-d212-ace04908676e"
      },
      "outputs": [
        {
          "data": {
            "text/plain": [
              "0.8883874273470213"
            ]
          },
          "execution_count": 95,
          "metadata": {},
          "output_type": "execute_result"
        }
      ],
      "source": [
        "dem_parity(sfew_result_ewc_dann, \"White\", \"Indian\" , \"Sad\")"
      ]
    },
    {
      "cell_type": "code",
      "execution_count": null,
      "metadata": {
        "colab": {
          "base_uri": "https://localhost:8080/"
        },
        "id": "-iFixxKHlq_2",
        "outputId": "87697aee-2033-4020-a0aa-95d58a6997db"
      },
      "outputs": [
        {
          "data": {
            "text/plain": [
              "0.9396773846729913"
            ]
          },
          "execution_count": 96,
          "metadata": {},
          "output_type": "execute_result"
        }
      ],
      "source": [
        "dem_parity(sfew_result_non_dann, \"White\", \"Asian\" , \"Sad\")"
      ]
    },
    {
      "cell_type": "code",
      "execution_count": null,
      "metadata": {
        "colab": {
          "base_uri": "https://localhost:8080/"
        },
        "id": "QIvt3O06lq_2",
        "outputId": "96ac1fc7-960f-46ad-e2b1-94026ecc013f"
      },
      "outputs": [
        {
          "data": {
            "text/plain": [
              "0.9246080469411655"
            ]
          },
          "execution_count": 97,
          "metadata": {},
          "output_type": "execute_result"
        }
      ],
      "source": [
        "dem_parity(sfew_result_dann, \"White\", \"Asian\" , \"Sad\")"
      ]
    },
    {
      "cell_type": "code",
      "execution_count": null,
      "metadata": {
        "colab": {
          "base_uri": "https://localhost:8080/"
        },
        "id": "4RBjFJhYlq_2",
        "outputId": "012596a1-77b4-4215-9758-d376cce30a7a"
      },
      "outputs": [
        {
          "data": {
            "text/plain": [
              "0.9349002030307318"
            ]
          },
          "execution_count": 98,
          "metadata": {},
          "output_type": "execute_result"
        }
      ],
      "source": [
        "dem_parity(sfew_result_ewc_dann, \"White\", \"Asian\" , \"Sad\")"
      ]
    },
    {
      "cell_type": "code",
      "execution_count": null,
      "metadata": {
        "id": "t-rDcsOqlzRi"
      },
      "outputs": [],
      "source": []
    }
  ],
  "metadata": {
    "accelerator": "GPU",
    "colab": {
      "gpuType": "T4",
      "provenance": [],
      "authorship_tag": "ABX9TyN6BC+xSPhW4DWr7h01ptsx",
      "include_colab_link": true
    },
    "kernelspec": {
      "display_name": "Python 3",
      "name": "python3"
    },
    "language_info": {
      "name": "python"
    }
  },
  "nbformat": 4,
  "nbformat_minor": 0
}